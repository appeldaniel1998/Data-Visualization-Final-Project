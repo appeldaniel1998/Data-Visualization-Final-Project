{
 "cells": [
  {
   "cell_type": "markdown",
   "id": "889d7159",
   "metadata": {},
   "source": [
    "# Fashion MNIST"
   ]
  },
  {
   "cell_type": "markdown",
   "id": "0e666fbe",
   "metadata": {},
   "source": [
    "In this notebook we will have a look at the Fashion MNIST dataset, containing 70000 grayscale images of 28X28, each representing one of 10 types of clothing. The purpose of this notebook is to return the class of item of clothing, given the picture.\n",
    "\n",
    "This data is a further complication of the MNIST dataset, which is considered very simple, as using only a very limited number of pixels (features), very high accuracies can be achieved. This data, in this regard at least, is more complicated.\n",
    "\n",
    "We shall import the dataset through Tensorflow, though we do not use neural networks for the task. The data is imported already divided into a training and testing sets, so there is no need for us to do so, but rather only divide the training set itself into a training and validation sets (explained lated). The data is imported as a single dataframe 3D array (an array of 2D arrays each of which is an image, meaning the 2D array is the pixel matrix of the image (each cell is the grayscale value of the corresponding pixel)).<br>\n",
    "The data can also be found on Kaggle.com at the link: https://www.kaggle.com/zalando-research/fashionmnist"
   ]
  },
  {
   "cell_type": "markdown",
   "id": "2c1f5016",
   "metadata": {},
   "source": [
    "<b>Note:</b> this notebook was created as a brand new notebook, with no regard to previous notebooks written, so all explanations regarding actions done and classifiers used (when applicable) is the same as in previous notebooks (some parts were copied and only the parts that are unique to this notebook have been changed, such as why one hyperparameter was set to one specific value and not another)."
   ]
  },
  {
   "cell_type": "code",
   "execution_count": 1,
   "id": "c1977ba7",
   "metadata": {},
   "outputs": [],
   "source": [
    "#Relevant imports\n",
    "from tensorflow.keras.datasets import fashion_mnist\n",
    "import matplotlib.pyplot as plt\n",
    "%matplotlib inline\n",
    "import random\n",
    "import numpy as np\n",
    "import pandas as pd\n",
    "from sklearn.model_selection import train_test_split\n",
    "from sklearn.preprocessing import MinMaxScaler\n",
    "from sklearn.decomposition import PCA\n",
    "from xgboost import XGBClassifier\n",
    "import time\n",
    "from sklearn import metrics\n",
    "import warnings\n",
    "from sklearn.metrics import mean_squared_error\n",
    "from sklearn.metrics import r2_score\n",
    "from sklearn.dummy import DummyClassifier\n",
    "from sklearn.neighbors import KNeighborsClassifier\n",
    "from sklearn.linear_model import LogisticRegression\n",
    "from sklearn.ensemble import RandomForestClassifier\n",
    "from sklearn.ensemble import AdaBoostClassifier\n",
    "from sklearn.tree import DecisionTreeClassifier\n",
    "from sklearn.ensemble import VotingClassifier\n",
    "from sklearn.ensemble import BaggingClassifier\n",
    "from sklearn.ensemble import StackingClassifier\n",
    "import seaborn as sns\n",
    "from sklearn.metrics import classification_report\n",
    "from sklearn.metrics import confusion_matrix"
   ]
  },
  {
   "cell_type": "markdown",
   "id": "9f896687",
   "metadata": {},
   "source": [
    "## Loading Data and Pre-Processing"
   ]
  },
  {
   "cell_type": "markdown",
   "id": "c0f29a39",
   "metadata": {},
   "source": [
    "The first thing we must do is import the data from the Tensorflow library. As we can see, the data is of a format that is very hard to read: a 3D array."
   ]
  },
  {
   "cell_type": "code",
   "execution_count": 2,
   "id": "f9d5bb1c",
   "metadata": {},
   "outputs": [
    {
     "data": {
      "text/plain": [
       "array([[[0, 0, 0, ..., 0, 0, 0],\n",
       "        [0, 0, 0, ..., 0, 0, 0],\n",
       "        [0, 0, 0, ..., 0, 0, 0],\n",
       "        ...,\n",
       "        [0, 0, 0, ..., 0, 0, 0],\n",
       "        [0, 0, 0, ..., 0, 0, 0],\n",
       "        [0, 0, 0, ..., 0, 0, 0]],\n",
       "\n",
       "       [[0, 0, 0, ..., 0, 0, 0],\n",
       "        [0, 0, 0, ..., 0, 0, 0],\n",
       "        [0, 0, 0, ..., 0, 0, 0],\n",
       "        ...,\n",
       "        [0, 0, 0, ..., 0, 0, 0],\n",
       "        [0, 0, 0, ..., 0, 0, 0],\n",
       "        [0, 0, 0, ..., 0, 0, 0]],\n",
       "\n",
       "       [[0, 0, 0, ..., 0, 0, 0],\n",
       "        [0, 0, 0, ..., 0, 0, 0],\n",
       "        [0, 0, 0, ..., 0, 0, 0],\n",
       "        ...,\n",
       "        [0, 0, 0, ..., 0, 0, 0],\n",
       "        [0, 0, 0, ..., 0, 0, 0],\n",
       "        [0, 0, 0, ..., 0, 0, 0]],\n",
       "\n",
       "       ...,\n",
       "\n",
       "       [[0, 0, 0, ..., 0, 0, 0],\n",
       "        [0, 0, 0, ..., 0, 0, 0],\n",
       "        [0, 0, 0, ..., 0, 0, 0],\n",
       "        ...,\n",
       "        [0, 0, 0, ..., 0, 0, 0],\n",
       "        [0, 0, 0, ..., 0, 0, 0],\n",
       "        [0, 0, 0, ..., 0, 0, 0]],\n",
       "\n",
       "       [[0, 0, 0, ..., 0, 0, 0],\n",
       "        [0, 0, 0, ..., 0, 0, 0],\n",
       "        [0, 0, 0, ..., 0, 0, 0],\n",
       "        ...,\n",
       "        [0, 0, 0, ..., 0, 0, 0],\n",
       "        [0, 0, 0, ..., 0, 0, 0],\n",
       "        [0, 0, 0, ..., 0, 0, 0]],\n",
       "\n",
       "       [[0, 0, 0, ..., 0, 0, 0],\n",
       "        [0, 0, 0, ..., 0, 0, 0],\n",
       "        [0, 0, 0, ..., 0, 0, 0],\n",
       "        ...,\n",
       "        [0, 0, 0, ..., 0, 0, 0],\n",
       "        [0, 0, 0, ..., 0, 0, 0],\n",
       "        [0, 0, 0, ..., 0, 0, 0]]], dtype=uint8)"
      ]
     },
     "execution_count": 2,
     "metadata": {},
     "output_type": "execute_result"
    }
   ],
   "source": [
    "(X_train_Total, y_train_Total), (X_test_Final, y_test_Final) = fashion_mnist.load_data()\n",
    "X_train_Total"
   ]
  },
  {
   "cell_type": "markdown",
   "id": "a87773f9",
   "metadata": {},
   "source": [
    "To improve the readability of the data, while also preparing the data for further preprocessing and for the classifiers, we must transform the data to a 2D shpe and make it a dataframe instead of an array. This we can accomplish by using the reshape() function. We know that each picture is 28X28, so, flattened, there will be 28*28 pixens in the array."
   ]
  },
  {
   "cell_type": "code",
   "execution_count": 3,
   "id": "2a07e4b9",
   "metadata": {},
   "outputs": [],
   "source": [
    "X_train_Total = pd.DataFrame(X_train_Total.reshape(60000, 28*28))\n",
    "X_test_Final = pd.DataFrame(X_test_Final.reshape(10000, 28*28))"
   ]
  },
  {
   "cell_type": "markdown",
   "id": "23c6f244",
   "metadata": {},
   "source": [
    "We can see that most images have 2 totally black rows, hence they do not help us in the classification of the model (it is not true for some images, but the difference in classification accuracy should be minor). Hence, we drop the first and last 2 rows of each image. To reset the indexes of the new images (after the removal), we use the the transpose() method of Pandas to change the rows and columns, reset the index and then transpose back to the original state."
   ]
  },
  {
   "cell_type": "code",
   "execution_count": 4,
   "id": "b266aa10",
   "metadata": {},
   "outputs": [],
   "source": [
    "#Removing first and last 2 rows\n",
    "li = list(range(0, 28*2)), list(range(784-28*2, 784))\n",
    "li = np.array(li).reshape(1,28*4)\n",
    "li = li.tolist()\n",
    "X_train_Total = X_train_Total.drop(X_train_Total.columns[tuple(li)], axis = 1)\n",
    "X_test_Final = X_test_Final.drop(X_test_Final.columns[tuple(li)], axis = 1)\n",
    "\n",
    "X_train_Total = X_train_Total.transpose().reset_index(drop = True).transpose() #Resetting indexes of columns"
   ]
  },
  {
   "cell_type": "markdown",
   "id": "594e271b",
   "metadata": {},
   "source": [
    "As an example, we can plot each image imported to view it. The below code accomplishes this."
   ]
  },
  {
   "cell_type": "code",
   "execution_count": 5,
   "id": "6606416d",
   "metadata": {},
   "outputs": [
    {
     "data": {
      "text/plain": [
       "<Figure size 432x288 with 0 Axes>"
      ]
     },
     "execution_count": 5,
     "metadata": {},
     "output_type": "execute_result"
    },
    {
     "data": {
      "image/png": "[encoded data removed]",
      "text/plain": [
       "<Figure size 432x288 with 1 Axes>"
      ]
     },
     "metadata": {
      "needs_background": "light"
     },
     "output_type": "display_data"
    },
    {
     "data": {
      "text/plain": [
       "<Figure size 432x288 with 0 Axes>"
      ]
     },
     "metadata": {},
     "output_type": "display_data"
    }
   ],
   "source": [
    "plt.imshow(X_train_Total.loc[0].to_numpy().reshape(24, 28), cmap = 'gray')\n",
    "plt.title('Class: {}'.format(y_train_Total[0]))\n",
    "plt.figure()"
   ]
  },
  {
   "cell_type": "markdown",
   "id": "ad39f391",
   "metadata": {},
   "source": [
    "### Chacking for NaN values"
   ]
  },
  {
   "cell_type": "markdown",
   "id": "326505d3",
   "metadata": {},
   "source": [
    "To make sure that our classifiers will work correctly, we need to check if any of the values of the dataframe are NaN. As shown below, there are none, so we can continue on."
   ]
  },
  {
   "cell_type": "code",
   "execution_count": 6,
   "id": "bdecc090",
   "metadata": {},
   "outputs": [
    {
     "name": "stdout",
     "output_type": "stream",
     "text": [
      "There are 0 NaN values\n"
     ]
    }
   ],
   "source": [
    "na = X_train_Total.isna().sum().sum() + X_test_Final.isna().sum().sum() + pd.DataFrame(y_train_Total).isna().sum().sum() + pd.DataFrame(y_test_Final).isna().sum().sum()\n",
    "print(\"There are\", na, \"NaN values\")"
   ]
  },
  {
   "cell_type": "markdown",
   "id": "4097d62f",
   "metadata": {},
   "source": [
    "### Data Splitting"
   ]
  },
  {
   "cell_type": "markdown",
   "id": "4b84784e",
   "metadata": {},
   "source": [
    "So as not to introduce bias to our program, our calssifiers and all other actions performed on the data, we shall now split the data into a training and testing set. As we do not want to introduce bias when constructing and tuning our classifiers, we wish to not touch the testing set right up to the end, after the best classifier was chosen, we shall split the training set itself into a training and testing set (can also be called validation set), on which we shall run and tune our classifiers. We choose the size of the validation set of 10% of the data from which it splits (the training set), as the 10% (6000 records) are, in my opinion, enough to determine the quality of the classifiers."
   ]
  },
  {
   "cell_type": "code",
   "execution_count": 7,
   "id": "565581a4",
   "metadata": {},
   "outputs": [],
   "source": [
    "X_train, X_test, y_train, y_test = train_test_split(X_train_Total, y_train_Total,\n",
    "                                                                test_size = 0.1, random_state = 0)"
   ]
  },
  {
   "cell_type": "markdown",
   "id": "14afe9ae",
   "metadata": {},
   "source": [
    "### Removing Duplicates"
   ]
  },
  {
   "cell_type": "markdown",
   "id": "ac84015e",
   "metadata": {},
   "source": [
    "We need to check that the training set does not contain duplicates (all feature values are the same), as they are not helpful for the classifiers. When found, the duplicates can be safely removed. This is run on the training set, and was not done before the split into training and testing sets because in theory, the same image as the one the calssifiers were trained on can be given to the classifier to test and return an answer on the image's class of clothing. Hence, the duplicates should be removed only from the training set, and not from the validation set or from the test set.<br>\n",
    "This is done by first merging the X_train and the y_train so that when duplicates are found, they are removed together with the label, otherwise the record will be removed from X_train and not removed from y_train, thus leaving different dimentions than the ones needed for the classifiers."
   ]
  },
  {
   "cell_type": "code",
   "execution_count": 8,
   "id": "7eb80a85",
   "metadata": {},
   "outputs": [
    {
     "data": {
      "text/plain": [
       "(54000, 672)"
      ]
     },
     "execution_count": 8,
     "metadata": {},
     "output_type": "execute_result"
    }
   ],
   "source": [
    "def removeDuplicates(X_train, y_train):\n",
    "    warnings.filterwarnings('ignore')\n",
    "    x = X_train\n",
    "    x['y'] = y_train\n",
    "\n",
    "    x = x.drop_duplicates()\n",
    "\n",
    "    X_train = x.drop(['y'], axis = 1)\n",
    "    y_train = x['y']\n",
    "    return X_train, y_train\n",
    "\n",
    "X_train, y_train = removeDuplicates(X_train, y_train)\n",
    "X_train.shape"
   ]
  },
  {
   "cell_type": "markdown",
   "id": "ea1ff4a6",
   "metadata": {},
   "source": [
    "### Scaling"
   ]
  },
  {
   "cell_type": "markdown",
   "id": "72561767",
   "metadata": {},
   "source": [
    "Next, we need to normalize our data, meaning transforming every value of 1-255 (the possible grayscale values of each pixel) to values in the range [0, 1]. This is done because most (if not all) classifiers expect and work best on such values from 0 to 1. This is done using the MinMaxScaler() method. The scaling is fitted to the train data, then both the train and the test data are transformed according to what was fitted.<br>\n",
    "Note: standartization was not used instead, because the data we are evaluating does not have any outliers, so we need not concern ourselves with them (all values range from 0 to 255)."
   ]
  },
  {
   "cell_type": "code",
   "execution_count": 9,
   "id": "84665787",
   "metadata": {},
   "outputs": [
    {
     "data": {
      "text/html": [
       "<div>\n",
       "<style scoped>\n",
       "    .dataframe tbody tr th:only-of-type {\n",
       "        vertical-align: middle;\n",
       "    }\n",
       "\n",
       "    .dataframe tbody tr th {\n",
       "        vertical-align: top;\n",
       "    }\n",
       "\n",
       "    .dataframe thead th {\n",
       "        text-align: right;\n",
       "    }\n",
       "</style>\n",
       "<table border=\"1\" class=\"dataframe\">\n",
       "  <thead>\n",
       "    <tr style=\"text-align: right;\">\n",
       "      <th></th>\n",
       "      <th>0</th>\n",
       "      <th>1</th>\n",
       "      <th>2</th>\n",
       "      <th>3</th>\n",
       "      <th>4</th>\n",
       "      <th>5</th>\n",
       "      <th>6</th>\n",
       "      <th>7</th>\n",
       "      <th>8</th>\n",
       "      <th>9</th>\n",
       "      <th>...</th>\n",
       "      <th>662</th>\n",
       "      <th>663</th>\n",
       "      <th>664</th>\n",
       "      <th>665</th>\n",
       "      <th>666</th>\n",
       "      <th>667</th>\n",
       "      <th>668</th>\n",
       "      <th>669</th>\n",
       "      <th>670</th>\n",
       "      <th>671</th>\n",
       "    </tr>\n",
       "  </thead>\n",
       "  <tbody>\n",
       "    <tr>\n",
       "      <th>0</th>\n",
       "      <td>0.0</td>\n",
       "      <td>0.0</td>\n",
       "      <td>0.0</td>\n",
       "      <td>0.000000</td>\n",
       "      <td>0.000000</td>\n",
       "      <td>0.003922</td>\n",
       "      <td>0.000000</td>\n",
       "      <td>0.011765</td>\n",
       "      <td>0.000000</td>\n",
       "      <td>0.000000</td>\n",
       "      <td>...</td>\n",
       "      <td>0.564706</td>\n",
       "      <td>0.611765</td>\n",
       "      <td>0.309804</td>\n",
       "      <td>0.533333</td>\n",
       "      <td>0.674510</td>\n",
       "      <td>0.368627</td>\n",
       "      <td>0.000000</td>\n",
       "      <td>0.000000</td>\n",
       "      <td>0.000000</td>\n",
       "      <td>0.0</td>\n",
       "    </tr>\n",
       "    <tr>\n",
       "      <th>1</th>\n",
       "      <td>0.0</td>\n",
       "      <td>0.0</td>\n",
       "      <td>0.0</td>\n",
       "      <td>0.000000</td>\n",
       "      <td>0.000000</td>\n",
       "      <td>0.000000</td>\n",
       "      <td>0.000000</td>\n",
       "      <td>0.000000</td>\n",
       "      <td>0.000000</td>\n",
       "      <td>0.592157</td>\n",
       "      <td>...</td>\n",
       "      <td>0.000000</td>\n",
       "      <td>0.000000</td>\n",
       "      <td>0.000000</td>\n",
       "      <td>0.000000</td>\n",
       "      <td>0.000000</td>\n",
       "      <td>0.000000</td>\n",
       "      <td>0.000000</td>\n",
       "      <td>0.000000</td>\n",
       "      <td>0.000000</td>\n",
       "      <td>0.0</td>\n",
       "    </tr>\n",
       "    <tr>\n",
       "      <th>2</th>\n",
       "      <td>0.0</td>\n",
       "      <td>0.0</td>\n",
       "      <td>0.0</td>\n",
       "      <td>0.000000</td>\n",
       "      <td>0.000000</td>\n",
       "      <td>0.000000</td>\n",
       "      <td>0.000000</td>\n",
       "      <td>0.000000</td>\n",
       "      <td>0.203922</td>\n",
       "      <td>0.898039</td>\n",
       "      <td>...</td>\n",
       "      <td>0.819608</td>\n",
       "      <td>0.466667</td>\n",
       "      <td>0.000000</td>\n",
       "      <td>0.000000</td>\n",
       "      <td>0.000000</td>\n",
       "      <td>0.000000</td>\n",
       "      <td>0.000000</td>\n",
       "      <td>0.000000</td>\n",
       "      <td>0.000000</td>\n",
       "      <td>0.0</td>\n",
       "    </tr>\n",
       "    <tr>\n",
       "      <th>3</th>\n",
       "      <td>0.0</td>\n",
       "      <td>0.0</td>\n",
       "      <td>0.0</td>\n",
       "      <td>0.000000</td>\n",
       "      <td>0.000000</td>\n",
       "      <td>0.007843</td>\n",
       "      <td>0.000000</td>\n",
       "      <td>0.043137</td>\n",
       "      <td>0.376471</td>\n",
       "      <td>0.788235</td>\n",
       "      <td>...</td>\n",
       "      <td>0.235294</td>\n",
       "      <td>0.019608</td>\n",
       "      <td>0.513725</td>\n",
       "      <td>0.650980</td>\n",
       "      <td>0.529412</td>\n",
       "      <td>0.376471</td>\n",
       "      <td>0.000000</td>\n",
       "      <td>0.000000</td>\n",
       "      <td>0.000000</td>\n",
       "      <td>0.0</td>\n",
       "    </tr>\n",
       "    <tr>\n",
       "      <th>4</th>\n",
       "      <td>0.0</td>\n",
       "      <td>0.0</td>\n",
       "      <td>0.0</td>\n",
       "      <td>0.000000</td>\n",
       "      <td>0.000000</td>\n",
       "      <td>0.000000</td>\n",
       "      <td>0.000000</td>\n",
       "      <td>0.000000</td>\n",
       "      <td>0.000000</td>\n",
       "      <td>0.000000</td>\n",
       "      <td>...</td>\n",
       "      <td>0.003922</td>\n",
       "      <td>0.000000</td>\n",
       "      <td>0.317647</td>\n",
       "      <td>0.658824</td>\n",
       "      <td>0.470588</td>\n",
       "      <td>0.482353</td>\n",
       "      <td>0.490196</td>\n",
       "      <td>0.482353</td>\n",
       "      <td>0.286275</td>\n",
       "      <td>0.0</td>\n",
       "    </tr>\n",
       "    <tr>\n",
       "      <th>...</th>\n",
       "      <td>...</td>\n",
       "      <td>...</td>\n",
       "      <td>...</td>\n",
       "      <td>...</td>\n",
       "      <td>...</td>\n",
       "      <td>...</td>\n",
       "      <td>...</td>\n",
       "      <td>...</td>\n",
       "      <td>...</td>\n",
       "      <td>...</td>\n",
       "      <td>...</td>\n",
       "      <td>...</td>\n",
       "      <td>...</td>\n",
       "      <td>...</td>\n",
       "      <td>...</td>\n",
       "      <td>...</td>\n",
       "      <td>...</td>\n",
       "      <td>...</td>\n",
       "      <td>...</td>\n",
       "      <td>...</td>\n",
       "      <td>...</td>\n",
       "    </tr>\n",
       "    <tr>\n",
       "      <th>53995</th>\n",
       "      <td>0.0</td>\n",
       "      <td>0.0</td>\n",
       "      <td>0.0</td>\n",
       "      <td>0.000000</td>\n",
       "      <td>0.000000</td>\n",
       "      <td>0.000000</td>\n",
       "      <td>0.286275</td>\n",
       "      <td>0.627451</td>\n",
       "      <td>0.721569</td>\n",
       "      <td>0.709804</td>\n",
       "      <td>...</td>\n",
       "      <td>0.682353</td>\n",
       "      <td>0.647059</td>\n",
       "      <td>0.678431</td>\n",
       "      <td>0.145098</td>\n",
       "      <td>0.000000</td>\n",
       "      <td>0.019608</td>\n",
       "      <td>0.000000</td>\n",
       "      <td>0.000000</td>\n",
       "      <td>0.000000</td>\n",
       "      <td>0.0</td>\n",
       "    </tr>\n",
       "    <tr>\n",
       "      <th>53996</th>\n",
       "      <td>0.0</td>\n",
       "      <td>0.0</td>\n",
       "      <td>0.0</td>\n",
       "      <td>0.000000</td>\n",
       "      <td>0.000000</td>\n",
       "      <td>0.000000</td>\n",
       "      <td>0.000000</td>\n",
       "      <td>0.000000</td>\n",
       "      <td>0.015686</td>\n",
       "      <td>0.000000</td>\n",
       "      <td>...</td>\n",
       "      <td>0.858824</td>\n",
       "      <td>0.000000</td>\n",
       "      <td>0.039216</td>\n",
       "      <td>0.000000</td>\n",
       "      <td>0.000000</td>\n",
       "      <td>0.000000</td>\n",
       "      <td>0.000000</td>\n",
       "      <td>0.000000</td>\n",
       "      <td>0.000000</td>\n",
       "      <td>0.0</td>\n",
       "    </tr>\n",
       "    <tr>\n",
       "      <th>53997</th>\n",
       "      <td>0.0</td>\n",
       "      <td>0.0</td>\n",
       "      <td>0.0</td>\n",
       "      <td>0.007843</td>\n",
       "      <td>0.000000</td>\n",
       "      <td>0.000000</td>\n",
       "      <td>0.737255</td>\n",
       "      <td>0.921569</td>\n",
       "      <td>0.827451</td>\n",
       "      <td>0.854902</td>\n",
       "      <td>...</td>\n",
       "      <td>0.850980</td>\n",
       "      <td>0.850980</td>\n",
       "      <td>0.874510</td>\n",
       "      <td>0.678431</td>\n",
       "      <td>0.345098</td>\n",
       "      <td>0.752941</td>\n",
       "      <td>0.541176</td>\n",
       "      <td>0.686275</td>\n",
       "      <td>0.317647</td>\n",
       "      <td>0.0</td>\n",
       "    </tr>\n",
       "    <tr>\n",
       "      <th>53998</th>\n",
       "      <td>0.0</td>\n",
       "      <td>0.0</td>\n",
       "      <td>0.0</td>\n",
       "      <td>0.000000</td>\n",
       "      <td>0.003922</td>\n",
       "      <td>0.000000</td>\n",
       "      <td>0.000000</td>\n",
       "      <td>0.223529</td>\n",
       "      <td>0.435294</td>\n",
       "      <td>0.360784</td>\n",
       "      <td>...</td>\n",
       "      <td>0.000000</td>\n",
       "      <td>0.000000</td>\n",
       "      <td>0.160784</td>\n",
       "      <td>0.474510</td>\n",
       "      <td>0.364706</td>\n",
       "      <td>0.258824</td>\n",
       "      <td>0.000000</td>\n",
       "      <td>0.000000</td>\n",
       "      <td>0.000000</td>\n",
       "      <td>0.0</td>\n",
       "    </tr>\n",
       "    <tr>\n",
       "      <th>53999</th>\n",
       "      <td>0.0</td>\n",
       "      <td>0.0</td>\n",
       "      <td>0.0</td>\n",
       "      <td>0.000000</td>\n",
       "      <td>0.000000</td>\n",
       "      <td>0.011765</td>\n",
       "      <td>0.705882</td>\n",
       "      <td>0.780392</td>\n",
       "      <td>0.737255</td>\n",
       "      <td>0.737255</td>\n",
       "      <td>...</td>\n",
       "      <td>0.000000</td>\n",
       "      <td>0.000000</td>\n",
       "      <td>0.000000</td>\n",
       "      <td>0.682353</td>\n",
       "      <td>0.819608</td>\n",
       "      <td>0.435294</td>\n",
       "      <td>0.000000</td>\n",
       "      <td>0.000000</td>\n",
       "      <td>0.000000</td>\n",
       "      <td>0.0</td>\n",
       "    </tr>\n",
       "  </tbody>\n",
       "</table>\n",
       "<p>54000 rows × 672 columns</p>\n",
       "</div>"
      ],
      "text/plain": [
       "       0    1    2         3         4         5         6         7    \\\n",
       "0      0.0  0.0  0.0  0.000000  0.000000  0.003922  0.000000  0.011765   \n",
       "1      0.0  0.0  0.0  0.000000  0.000000  0.000000  0.000000  0.000000   \n",
       "2      0.0  0.0  0.0  0.000000  0.000000  0.000000  0.000000  0.000000   \n",
       "3      0.0  0.0  0.0  0.000000  0.000000  0.007843  0.000000  0.043137   \n",
       "4      0.0  0.0  0.0  0.000000  0.000000  0.000000  0.000000  0.000000   \n",
       "...    ...  ...  ...       ...       ...       ...       ...       ...   \n",
       "53995  0.0  0.0  0.0  0.000000  0.000000  0.000000  0.286275  0.627451   \n",
       "53996  0.0  0.0  0.0  0.000000  0.000000  0.000000  0.000000  0.000000   \n",
       "53997  0.0  0.0  0.0  0.007843  0.000000  0.000000  0.737255  0.921569   \n",
       "53998  0.0  0.0  0.0  0.000000  0.003922  0.000000  0.000000  0.223529   \n",
       "53999  0.0  0.0  0.0  0.000000  0.000000  0.011765  0.705882  0.780392   \n",
       "\n",
       "            8         9    ...       662       663       664       665  \\\n",
       "0      0.000000  0.000000  ...  0.564706  0.611765  0.309804  0.533333   \n",
       "1      0.000000  0.592157  ...  0.000000  0.000000  0.000000  0.000000   \n",
       "2      0.203922  0.898039  ...  0.819608  0.466667  0.000000  0.000000   \n",
       "3      0.376471  0.788235  ...  0.235294  0.019608  0.513725  0.650980   \n",
       "4      0.000000  0.000000  ...  0.003922  0.000000  0.317647  0.658824   \n",
       "...         ...       ...  ...       ...       ...       ...       ...   \n",
       "53995  0.721569  0.709804  ...  0.682353  0.647059  0.678431  0.145098   \n",
       "53996  0.015686  0.000000  ...  0.858824  0.000000  0.039216  0.000000   \n",
       "53997  0.827451  0.854902  ...  0.850980  0.850980  0.874510  0.678431   \n",
       "53998  0.435294  0.360784  ...  0.000000  0.000000  0.160784  0.474510   \n",
       "53999  0.737255  0.737255  ...  0.000000  0.000000  0.000000  0.682353   \n",
       "\n",
       "            666       667       668       669       670  671  \n",
       "0      0.674510  0.368627  0.000000  0.000000  0.000000  0.0  \n",
       "1      0.000000  0.000000  0.000000  0.000000  0.000000  0.0  \n",
       "2      0.000000  0.000000  0.000000  0.000000  0.000000  0.0  \n",
       "3      0.529412  0.376471  0.000000  0.000000  0.000000  0.0  \n",
       "4      0.470588  0.482353  0.490196  0.482353  0.286275  0.0  \n",
       "...         ...       ...       ...       ...       ...  ...  \n",
       "53995  0.000000  0.019608  0.000000  0.000000  0.000000  0.0  \n",
       "53996  0.000000  0.000000  0.000000  0.000000  0.000000  0.0  \n",
       "53997  0.345098  0.752941  0.541176  0.686275  0.317647  0.0  \n",
       "53998  0.364706  0.258824  0.000000  0.000000  0.000000  0.0  \n",
       "53999  0.819608  0.435294  0.000000  0.000000  0.000000  0.0  \n",
       "\n",
       "[54000 rows x 672 columns]"
      ]
     },
     "execution_count": 9,
     "metadata": {},
     "output_type": "execute_result"
    }
   ],
   "source": [
    "def scale(X_train, X_test, X_test_Final):\n",
    "    min_max_scaler = MinMaxScaler()\n",
    "    X_train = pd.DataFrame(min_max_scaler.fit_transform(X_train.values)) #fitting and transforming on train data\n",
    "    X_test = pd.DataFrame(min_max_scaler.transform(X_test.values)) #only transforming the test and validation sets\n",
    "    X_test_Final = pd.DataFrame(min_max_scaler.transform(X_test_Final.values))\n",
    "    return X_train, X_test, X_test_Final\n",
    "\n",
    "X_train, X_test, X_test_Final = scale(X_train, X_test, X_test_Final)\n",
    "\n",
    "X_train"
   ]
  },
  {
   "cell_type": "markdown",
   "id": "afd82037",
   "metadata": {},
   "source": [
    "### PCA"
   ]
  },
  {
   "cell_type": "markdown",
   "id": "ca2268c5",
   "metadata": {},
   "source": [
    "<b>Dimensionality Reduction:</b><br>\n",
    "When working with data which has many dimensions, it is often wise to attempt to quicken the classifiers by reducing the number of dimensions used to fit the data. Clearly, the removal of some dimensions will cause the classifier to perform worse than if it were run on the full data, but it can be very beneficial due to it expediting the runtime of the program dramatically. The problem occurs when we try to choose which dimensions to remove from examination, as it could be the feature having a crucial impact on the results of our classifier. This is what the PCA attempts to help us choose."
   ]
  },
  {
   "cell_type": "markdown",
   "id": "c18353ca",
   "metadata": {},
   "source": [
    "<b>What is PCA?</b><br>\n",
    "The PCA algorithm attempts to help us use dimensionality reduction to reduce runtime while slightly reducing the accuracy of the classifiers. Using some linear algebra, the algorithm chooses the number of dimensions (as can be specified using the n_components hyperparameter) which are the most useful for the classifiers. When n_components is set to a value between 0 and 1, the algorithm covers the percentage of variance specified (very useful, as it is making the PCA flexible for different data, or for approximating the accuracy drop of the final classifier)."
   ]
  },
  {
   "cell_type": "markdown",
   "id": "4c539f7a",
   "metadata": {},
   "source": [
    "The PCA should be trained and fitted on the training set, and then the trained PCA should be used to transform the training, the validation, and the testing sets. Training the PCA on the test and validation sets is not right, as it means that we are using both the training and testing to fit the data to a certain shape, while analyzing it as a whole, which is incorrect, as the test and validation sets should only be used to test the results.\n",
    "Despite that, the test and validation sets still has to be changed according to what the PCA has fitted on the training set, due to all classifiers requiring the data to be of the same shape in order to work on them."
   ]
  },
  {
   "cell_type": "markdown",
   "id": "29b8e284",
   "metadata": {},
   "source": [
    "We can see that the amount of records in the training set has not changes, whereas the number of features has dropped drastically from 10000 to 335! That is only a small fraction of of the amount of features before the use of PCA, which still result in a relatively good accuracy score."
   ]
  },
  {
   "cell_type": "code",
   "execution_count": 10,
   "id": "0e9f72bb",
   "metadata": {},
   "outputs": [
    {
     "data": {
      "text/plain": [
       "(54000, 75)"
      ]
     },
     "execution_count": 10,
     "metadata": {},
     "output_type": "execute_result"
    }
   ],
   "source": [
    "def PCAFunc(X_train, X_test, X_test_Final):\n",
    "    pca = PCA(n_components=0.9)\n",
    "    X_train_Reduced = pd.DataFrame(pca.fit_transform(X_train))\n",
    "    X_test_Reduced = pd.DataFrame(pca.transform(X_test))\n",
    "    X_test_Final_Reduced = pd.DataFrame(pca.transform(X_test_Final))\n",
    "    return X_train_Reduced, X_test_Reduced, X_test_Final_Reduced\n",
    "\n",
    "X_train_Reduced, X_test_Reduced, X_test_Final_Reduced = PCAFunc(X_train, X_test, X_test_Final)\n",
    "\n",
    "X_train_Reduced.shape"
   ]
  },
  {
   "cell_type": "markdown",
   "id": "c6fc4c53",
   "metadata": {},
   "source": [
    "## Classifiers"
   ]
  },
  {
   "cell_type": "markdown",
   "id": "32f21201",
   "metadata": {},
   "source": [
    "For Each classifier, besides the explanation as to how the classifier performs its job (briefly), a confusion matrix and a classification report are added in order to help us judge the classifier's performance. What exactly the matrix and the report show us is explained in detail in the \"Airline Satisfaction\" notebook, but in this notebook it has much more significance (although its purpose is the same), as here we tackle a multiclass classification problem with 10 different classes (items of clothing)."
   ]
  },
  {
   "cell_type": "markdown",
   "id": "903ab7ce",
   "metadata": {},
   "source": [
    "### Dummy Classifier"
   ]
  },
  {
   "cell_type": "markdown",
   "id": "2dc06897",
   "metadata": {},
   "source": [
    "Before choosing and applying the models to the data, we need a baseline classifier, to compare all others to it: if the classifiers thereafter are worse than the base classifier, we are doing something wrong. If the classifier is better than the base classifier, on the other hand, it means that the model works, and can be better at predicting than a \"dummy\" classifier. The base classifier we will use is <b>Dummy Classifier</b>, which will, regardless of the input, put in the most frequent value in y_train. It puts in the most frequent value due to the strategy we have put into the model, although we could choose differently, but this strategy seems to return the best results."
   ]
  },
  {
   "cell_type": "code",
   "execution_count": 11,
   "id": "4428638a",
   "metadata": {},
   "outputs": [
    {
     "name": "stdout",
     "output_type": "stream",
     "text": [
      "Accuracy (KNN):  0.09433333333333334\n",
      "Time taken to achive result: 0.003989219665527344 seconds\n",
      "              precision    recall  f1-score   support\n",
      "\n",
      "           0       0.00      0.00      0.00       583\n",
      "           1       0.00      0.00      0.00       588\n",
      "           2       0.00      0.00      0.00       633\n",
      "           3       0.00      0.00      0.00       619\n",
      "           4       0.00      0.00      0.00       597\n",
      "           5       0.00      0.00      0.00       632\n",
      "           6       0.00      0.00      0.00       578\n",
      "           7       0.09      1.00      0.17       566\n",
      "           8       0.00      0.00      0.00       580\n",
      "           9       0.00      0.00      0.00       624\n",
      "\n",
      "    accuracy                           0.09      6000\n",
      "   macro avg       0.01      0.10      0.02      6000\n",
      "weighted avg       0.01      0.09      0.02      6000\n",
      "\n"
     ]
    },
    {
     "data": {
      "text/plain": [
       "<AxesSubplot:>"
      ]
     },
     "execution_count": 11,
     "metadata": {},
     "output_type": "execute_result"
    },
    {
     "data": {
      "image/png": "[encoded data removed]",
      "text/plain": [
       "<Figure size 360x288 with 2 Axes>"
      ]
     },
     "metadata": {
      "needs_background": "light"
     },
     "output_type": "display_data"
    }
   ],
   "source": [
    "#Dummy\n",
    "start_timeDummy = time.time()\n",
    "dummyModel = DummyClassifier(strategy=\"most_frequent\")\n",
    "dummyModel.fit(X_train_Reduced, y_train)\n",
    "predictionsDummy = dummyModel.predict(X_test_Reduced)\n",
    "\n",
    "accuracyDummy = metrics.accuracy_score(y_test, predictionsDummy)\n",
    "print(\"Accuracy (KNN): \", accuracyDummy)\n",
    "timeDummy = time.time() - start_timeDummy\n",
    "print(\"Time taken to achive result: %s seconds\" % (timeDummy))\n",
    "\n",
    "plt.figure(figsize=(5,4))\n",
    "print(classification_report(y_test, predictionsDummy, zero_division = 0))\n",
    "sns.heatmap(confusion_matrix(y_test, predictionsDummy), cmap = \"Blues\", annot=True, fmt = '.0f')"
   ]
  },
  {
   "cell_type": "markdown",
   "id": "732ddfcd",
   "metadata": {},
   "source": [
    "### KNN Classifier"
   ]
  },
  {
   "cell_type": "markdown",
   "id": "ecc032a6",
   "metadata": {},
   "source": [
    "We will first use the <b>KNN classifier</b>. The KNN classifier (K nearest Neighbors) is one that chooses the value closest to the values from the train set. if K = 1, then it chooses depending on the single closest neighbor to the wanted data; if N > 1, then it chooses the label depending on the N closest neighbors (in terms of data). The \"weights\" parameter specifies whether the model is to give a higher penalty for the neighbors further away or to count their value as equally valuable to determine the label."
   ]
  },
  {
   "cell_type": "code",
   "execution_count": 12,
   "id": "52806580",
   "metadata": {},
   "outputs": [
    {
     "name": "stdout",
     "output_type": "stream",
     "text": [
      "Accuracy (KNN):  0.8508333333333333\n",
      "Time taken to achive result: 3.9274098873138428 seconds\n",
      "              precision    recall  f1-score   support\n",
      "\n",
      "           0       0.78      0.84      0.81       583\n",
      "           1       0.99      0.96      0.97       588\n",
      "           2       0.76      0.74      0.75       633\n",
      "           3       0.89      0.85      0.87       619\n",
      "           4       0.72      0.73      0.73       597\n",
      "           5       0.99      0.89      0.93       632\n",
      "           6       0.60      0.63      0.62       578\n",
      "           7       0.91      0.96      0.93       566\n",
      "           8       0.98      0.96      0.97       580\n",
      "           9       0.91      0.96      0.93       624\n",
      "\n",
      "    accuracy                           0.85      6000\n",
      "   macro avg       0.85      0.85      0.85      6000\n",
      "weighted avg       0.85      0.85      0.85      6000\n",
      "\n"
     ]
    },
    {
     "data": {
      "text/plain": [
       "<AxesSubplot:>"
      ]
     },
     "execution_count": 12,
     "metadata": {},
     "output_type": "execute_result"
    },
    {
     "data": {
      "image/png": "[encoded data removed]",
      "text/plain": [
       "<Figure size 360x288 with 2 Axes>"
      ]
     },
     "metadata": {
      "needs_background": "light"
     },
     "output_type": "display_data"
    }
   ],
   "source": [
    "#KNN\n",
    "start_timeKNN = time.time()\n",
    "modelKNN = KNeighborsClassifier(n_neighbors = 5, weights='distance')\n",
    "modelKNN.fit(X_train_Reduced, y_train)\n",
    "predictionsKNN = modelKNN.predict(X_test_Reduced)\n",
    "accuracyKNN = metrics.accuracy_score(y_test, predictionsKNN)\n",
    "print(\"Accuracy (KNN): \", accuracyKNN)\n",
    "timeKNN = time.time() - start_timeKNN\n",
    "print(\"Time taken to achive result: %s seconds\" % (timeKNN))\n",
    "\n",
    "plt.figure(figsize=(5,4))\n",
    "print(classification_report(y_test, predictionsKNN))\n",
    "sns.heatmap(confusion_matrix(y_test, predictionsKNN), cmap = \"Blues\", annot=True, fmt = '.0f')"
   ]
  },
  {
   "cell_type": "markdown",
   "id": "af2f20d8",
   "metadata": {},
   "source": [
    "### Logistic Regression Classifier"
   ]
  },
  {
   "cell_type": "markdown",
   "id": "efaf6a5c",
   "metadata": {},
   "source": [
    "For our second classifier we will choose <b>Logistic Regression</b>. This classifier is chosen because it makes no assumptions regarding the distribution of labels, it works according to probabilities which it calculates for each record in the dataframe, and it is a fairly simple classifier that yet works well with many datasets. The classifier tries to fit an S shape to the data (as opposed to linear regression that fits a straight line), where the edges of the S are values where the probability is very high for a label to occur, and closer to the middle of the S, it is lower. We can also set a threshold \"on the S\", from which the classifier will predict a certain value. This is usually done when a certain value is preferred over the other. As we try to be objective with the reviews, we will not do it."
   ]
  },
  {
   "cell_type": "code",
   "execution_count": 13,
   "id": "a5104225",
   "metadata": {},
   "outputs": [
    {
     "name": "stdout",
     "output_type": "stream",
     "text": [
      "Accuracy (KNN):  0.8508333333333333\n",
      "Time taken to achive result: 2.9911088943481445 seconds\n",
      "              precision    recall  f1-score   support\n",
      "\n",
      "           0       0.79      0.81      0.80       583\n",
      "           1       0.98      0.96      0.97       588\n",
      "           2       0.71      0.68      0.70       633\n",
      "           3       0.82      0.86      0.84       619\n",
      "           4       0.68      0.72      0.70       597\n",
      "           5       0.93      0.92      0.92       632\n",
      "           6       0.54      0.51      0.53       578\n",
      "           7       0.90      0.93      0.91       566\n",
      "           8       0.95      0.92      0.94       580\n",
      "           9       0.95      0.95      0.95       624\n",
      "\n",
      "    accuracy                           0.83      6000\n",
      "   macro avg       0.83      0.83      0.83      6000\n",
      "weighted avg       0.83      0.83      0.83      6000\n",
      "\n"
     ]
    },
    {
     "data": {
      "text/plain": [
       "<AxesSubplot:>"
      ]
     },
     "execution_count": 13,
     "metadata": {},
     "output_type": "execute_result"
    },
    {
     "data": {
      "image/png": "[encoded data removed]",
      "text/plain": [
       "<Figure size 360x288 with 2 Axes>"
      ]
     },
     "metadata": {
      "needs_background": "light"
     },
     "output_type": "display_data"
    }
   ],
   "source": [
    "#Logistic Regression\n",
    "start_timeLogReg = time.time()\n",
    "modelLogReg = LogisticRegression()\n",
    "modelLogReg.fit(X_train_Reduced, y_train)\n",
    "predictionsLogReg = modelLogReg.predict(X_test_Reduced)\n",
    "accuracyLogReg = modelLogReg.score(X_test_Reduced, y_test)\n",
    "print(\"Accuracy (KNN): \", accuracyKNN)\n",
    "timeLogReg = time.time() - start_timeLogReg\n",
    "print(\"Time taken to achive result: %s seconds\" % (timeLogReg))\n",
    "\n",
    "plt.figure(figsize=(5,4))\n",
    "print(classification_report(y_test, predictionsLogReg))\n",
    "sns.heatmap(confusion_matrix(y_test, predictionsLogReg), cmap = \"Blues\", annot=True, fmt = '.0f')"
   ]
  },
  {
   "cell_type": "markdown",
   "id": "02152c27",
   "metadata": {},
   "source": [
    "### Random Forests Classifier"
   ]
  },
  {
   "cell_type": "markdown",
   "id": "98c71b52",
   "metadata": {},
   "source": [
    "We can now move on to more advanced models that use Ensemble Learning (the concept is explained in detail in the \"Airline Satisfaction\" notebook). The first one of these shall be the <b>Random Forests</b> Classifier. This classifier uses ensemble learning by constructing a multitude of decision trees (specified with the n_estimators hyperparameter, defaults at 100), without a maximum depth of each tree (such depth can be added using the max_depth hyperparameter, but after several tests, the result was that not limiting the trees is best in the case of this data). After several tests, the number of estimators was set to 300, as the best correlation of accuracy to time and resource consumption.<br>\n",
    "For the test set, each trees prediction is calculated, the results then aggregated, and the final answer is given. The aggregation is performed by each trees result counted and the \"majority vote\" is the final answer of the classifier."
   ]
  },
  {
   "cell_type": "code",
   "execution_count": 14,
   "id": "b2cd3d83",
   "metadata": {},
   "outputs": [
    {
     "name": "stdout",
     "output_type": "stream",
     "text": [
      "Accuracy (Random Forests):  0.8643333333333333\n",
      "Time taken to achive result: 17.752670288085938 seconds\n",
      "              precision    recall  f1-score   support\n",
      "\n",
      "           0       0.81      0.86      0.83       583\n",
      "           1       0.99      0.95      0.97       588\n",
      "           2       0.78      0.77      0.77       633\n",
      "           3       0.87      0.90      0.88       619\n",
      "           4       0.75      0.78      0.77       597\n",
      "           5       0.94      0.94      0.94       632\n",
      "           6       0.68      0.59      0.63       578\n",
      "           7       0.94      0.93      0.94       566\n",
      "           8       0.95      0.96      0.95       580\n",
      "           9       0.93      0.96      0.94       624\n",
      "\n",
      "    accuracy                           0.86      6000\n",
      "   macro avg       0.86      0.86      0.86      6000\n",
      "weighted avg       0.86      0.86      0.86      6000\n",
      "\n"
     ]
    },
    {
     "data": {
      "text/plain": [
       "<AxesSubplot:>"
      ]
     },
     "execution_count": 14,
     "metadata": {},
     "output_type": "execute_result"
    },
    {
     "data": {
      "image/png": "[encoded data removed]",
      "text/plain": [
       "<Figure size 360x288 with 2 Axes>"
      ]
     },
     "metadata": {
      "needs_background": "light"
     },
     "output_type": "display_data"
    }
   ],
   "source": [
    "#Random Forests\n",
    "start_timeRandForests = time.time()\n",
    "modelRandForests = RandomForestClassifier(n_estimators = 300, n_jobs = -1, random_state = 0)\n",
    "modelRandForests.fit(X_train_Reduced, y_train)\n",
    "predictionsRandForests = modelRandForests.predict(X_test_Reduced)\n",
    "accuracyRandForests = metrics.accuracy_score(y_test, predictionsRandForests)\n",
    "print(\"Accuracy (Random Forests): \", accuracyRandForests)\n",
    "timeRandForests = time.time() - start_timeRandForests\n",
    "print(\"Time taken to achive result: %s seconds\" % (timeRandForests))\n",
    "\n",
    "plt.figure(figsize=(5,4))\n",
    "print(classification_report(y_test, predictionsRandForests))\n",
    "sns.heatmap(confusion_matrix(y_test, predictionsRandForests), cmap = \"Blues\", annot=True, fmt = '.0f')"
   ]
  },
  {
   "cell_type": "markdown",
   "id": "e1997bb7",
   "metadata": {},
   "source": [
    "### AdaBoost Classifier"
   ]
  },
  {
   "cell_type": "markdown",
   "id": "05c34861",
   "metadata": {},
   "source": [
    "Next, we will check the performance of the <b>AdaBoost Classifier</b> (AdaBoost stands for Adaptive Boost). This classifier also uses ensemble learning to achieve its purpose. After receiving the results from some base classifier, in our case the Decision Tree Classifier, the model then performs the base classifier over and over (n_estimator times), while each time giving more weight to the misclassified training instances. Then, again using ensemble learning techniques the model returns its final answer according to the many sub-models it created.<br>\n",
    "The learning rate hyperparameter set to 0.2 (defaults at 1) after several tests to determine the best value. The hyperparameter specifies the rate of adaptability of the classifier to the data after each iteration of the estimator."
   ]
  },
  {
   "cell_type": "code",
   "execution_count": 15,
   "id": "2dc5465d",
   "metadata": {
    "scrolled": false
   },
   "outputs": [
    {
     "name": "stdout",
     "output_type": "stream",
     "text": [
      "Accuracy (AdaBoost):  0.6036666666666667\n",
      "Time taken to achive result: 164.287691116333 seconds\n",
      "              precision    recall  f1-score   support\n",
      "\n",
      "           0       0.74      0.68      0.71       583\n",
      "           1       0.97      0.49      0.65       588\n",
      "           2       0.44      0.79      0.56       633\n",
      "           3       0.52      0.78      0.63       619\n",
      "           4       0.52      0.40      0.46       597\n",
      "           5       0.51      0.91      0.65       632\n",
      "           6       0.28      0.10      0.15       578\n",
      "           7       0.54      0.14      0.22       566\n",
      "           8       0.83      0.93      0.88       580\n",
      "           9       0.91      0.75      0.82       624\n",
      "\n",
      "    accuracy                           0.60      6000\n",
      "   macro avg       0.63      0.60      0.57      6000\n",
      "weighted avg       0.62      0.60      0.58      6000\n",
      "\n"
     ]
    },
    {
     "data": {
      "text/plain": [
       "<AxesSubplot:>"
      ]
     },
     "execution_count": 15,
     "metadata": {},
     "output_type": "execute_result"
    },
    {
     "data": {
      "image/png": "[encoded data removed]",
      "text/plain": [
       "<Figure size 360x288 with 2 Axes>"
      ]
     },
     "metadata": {
      "needs_background": "light"
     },
     "output_type": "display_data"
    }
   ],
   "source": [
    "#AdaBoost\n",
    "start_timeAdaBoost = time.time()\n",
    "modelDecTree = DecisionTreeClassifier(random_state=0, max_depth=2)\n",
    "modelAdaBoost = AdaBoostClassifier(modelDecTree, n_estimators = 200, random_state = 0, learning_rate = 0.2)\n",
    "modelAdaBoost.fit(X_train_Reduced, y_train)\n",
    "predictionsAdaBoost = modelAdaBoost.predict(X_test_Reduced)\n",
    "accuracyAdaBoost = metrics.accuracy_score(y_test, predictionsAdaBoost)\n",
    "print(\"Accuracy (AdaBoost): \", accuracyAdaBoost)\n",
    "timeAdaBoost = time.time() - start_timeAdaBoost\n",
    "print(\"Time taken to achive result: %s seconds\" % (timeAdaBoost))\n",
    "\n",
    "plt.figure(figsize=(5,4))\n",
    "print(classification_report(y_test, predictionsAdaBoost))\n",
    "sns.heatmap(confusion_matrix(y_test, predictionsAdaBoost), cmap = \"Blues\", annot=True, fmt = '.0f')"
   ]
  },
  {
   "cell_type": "markdown",
   "id": "199f2dfc",
   "metadata": {},
   "source": [
    "### XGBoost Classifier"
   ]
  },
  {
   "cell_type": "markdown",
   "id": "8370e9ad",
   "metadata": {},
   "source": [
    "Last of the single models (but certainly not least), we shall run the <b>XGBoost Classifier</b> on our data (XGBoost standing for Extreme Gradient Boosting, which uses Ensemble Learning and boosting in a similar yet different way to AdaBoost above. Where AdaBoost tweaks the individual instance weights, giving some more or less weight, XGBoost fits a new predictor to the residual errors made by the previous predictor. It should be noted that the residual errors get smaller with each iteration of XGBoost, making the model very effective (in many cases the most effective out of all)."
   ]
  },
  {
   "cell_type": "markdown",
   "id": "edae0da3",
   "metadata": {},
   "source": [
    "After several tests, the number of estimators was set to 700, with the learning rate of 0.2 as the best correlation of efficiency of the classifier. That said, the accuracy could be boosted by lowering the learning rate and/or increasing the number of estimators. During trials, on average, an increase in accuracy of 0.1% (0.001) \"costs\" 100-200 seconds, which in my opinion is not a good bargain."
   ]
  },
  {
   "cell_type": "code",
   "execution_count": 16,
   "id": "47b6628d",
   "metadata": {},
   "outputs": [
    {
     "ename": "KeyboardInterrupt",
     "evalue": "",
     "output_type": "error",
     "traceback": [
      "\u001b[1;31m---------------------------------------------------------------------------\u001b[0m",
      "\u001b[1;31mKeyboardInterrupt\u001b[0m                         Traceback (most recent call last)",
      "\u001b[1;32m<ipython-input-16-84f162750f0e>\u001b[0m in \u001b[0;36m<module>\u001b[1;34m\u001b[0m\n\u001b[0;32m      2\u001b[0m modelXGBoost = XGBClassifier(learning_rate = 0.2, n_estimators = 700, verbosity = 0, use_label_encoder = False,\n\u001b[0;32m      3\u001b[0m                              n_jobs = -1, objective = 'multi:softmax')\n\u001b[1;32m----> 4\u001b[1;33m \u001b[0mmodelXGBoost\u001b[0m\u001b[1;33m.\u001b[0m\u001b[0mfit\u001b[0m\u001b[1;33m(\u001b[0m\u001b[0mX_train_Reduced\u001b[0m\u001b[1;33m,\u001b[0m \u001b[0my_train\u001b[0m\u001b[1;33m)\u001b[0m\u001b[1;33m\u001b[0m\u001b[1;33m\u001b[0m\u001b[0m\n\u001b[0m\u001b[0;32m      5\u001b[0m \u001b[0mpredictionsXGBoost\u001b[0m \u001b[1;33m=\u001b[0m \u001b[0mmodelXGBoost\u001b[0m\u001b[1;33m.\u001b[0m\u001b[0mpredict\u001b[0m\u001b[1;33m(\u001b[0m\u001b[0mX_test_Reduced\u001b[0m\u001b[1;33m)\u001b[0m\u001b[1;33m\u001b[0m\u001b[1;33m\u001b[0m\u001b[0m\n\u001b[0;32m      6\u001b[0m \u001b[0maccuracyXGBoost\u001b[0m \u001b[1;33m=\u001b[0m \u001b[0mmetrics\u001b[0m\u001b[1;33m.\u001b[0m\u001b[0maccuracy_score\u001b[0m\u001b[1;33m(\u001b[0m\u001b[0my_test\u001b[0m\u001b[1;33m,\u001b[0m \u001b[0mpredictionsXGBoost\u001b[0m\u001b[1;33m)\u001b[0m\u001b[1;33m\u001b[0m\u001b[1;33m\u001b[0m\u001b[0m\n",
      "\u001b[1;32m~\\anaconda3\\lib\\site-packages\\xgboost\\core.py\u001b[0m in \u001b[0;36minner_f\u001b[1;34m(*args, **kwargs)\u001b[0m\n\u001b[0;32m    431\u001b[0m         \u001b[1;32mfor\u001b[0m \u001b[0mk\u001b[0m\u001b[1;33m,\u001b[0m \u001b[0marg\u001b[0m \u001b[1;32min\u001b[0m \u001b[0mzip\u001b[0m\u001b[1;33m(\u001b[0m\u001b[0msig\u001b[0m\u001b[1;33m.\u001b[0m\u001b[0mparameters\u001b[0m\u001b[1;33m,\u001b[0m \u001b[0margs\u001b[0m\u001b[1;33m)\u001b[0m\u001b[1;33m:\u001b[0m\u001b[1;33m\u001b[0m\u001b[1;33m\u001b[0m\u001b[0m\n\u001b[0;32m    432\u001b[0m             \u001b[0mkwargs\u001b[0m\u001b[1;33m[\u001b[0m\u001b[0mk\u001b[0m\u001b[1;33m]\u001b[0m \u001b[1;33m=\u001b[0m \u001b[0marg\u001b[0m\u001b[1;33m\u001b[0m\u001b[1;33m\u001b[0m\u001b[0m\n\u001b[1;32m--> 433\u001b[1;33m         \u001b[1;32mreturn\u001b[0m \u001b[0mf\u001b[0m\u001b[1;33m(\u001b[0m\u001b[1;33m**\u001b[0m\u001b[0mkwargs\u001b[0m\u001b[1;33m)\u001b[0m\u001b[1;33m\u001b[0m\u001b[1;33m\u001b[0m\u001b[0m\n\u001b[0m\u001b[0;32m    434\u001b[0m \u001b[1;33m\u001b[0m\u001b[0m\n\u001b[0;32m    435\u001b[0m     \u001b[1;32mreturn\u001b[0m \u001b[0minner_f\u001b[0m\u001b[1;33m\u001b[0m\u001b[1;33m\u001b[0m\u001b[0m\n",
      "\u001b[1;32m~\\anaconda3\\lib\\site-packages\\xgboost\\sklearn.py\u001b[0m in \u001b[0;36mfit\u001b[1;34m(self, X, y, sample_weight, base_margin, eval_set, eval_metric, early_stopping_rounds, verbose, xgb_model, sample_weight_eval_set, base_margin_eval_set, feature_weights, callbacks)\u001b[0m\n\u001b[0;32m   1174\u001b[0m         )\n\u001b[0;32m   1175\u001b[0m \u001b[1;33m\u001b[0m\u001b[0m\n\u001b[1;32m-> 1176\u001b[1;33m         self._Booster = train(\n\u001b[0m\u001b[0;32m   1177\u001b[0m             \u001b[0mparams\u001b[0m\u001b[1;33m,\u001b[0m\u001b[1;33m\u001b[0m\u001b[1;33m\u001b[0m\u001b[0m\n\u001b[0;32m   1178\u001b[0m             \u001b[0mtrain_dmatrix\u001b[0m\u001b[1;33m,\u001b[0m\u001b[1;33m\u001b[0m\u001b[1;33m\u001b[0m\u001b[0m\n",
      "\u001b[1;32m~\\anaconda3\\lib\\site-packages\\xgboost\\training.py\u001b[0m in \u001b[0;36mtrain\u001b[1;34m(params, dtrain, num_boost_round, evals, obj, feval, maximize, early_stopping_rounds, evals_result, verbose_eval, xgb_model, callbacks)\u001b[0m\n\u001b[0;32m    187\u001b[0m     \u001b[0mBooster\u001b[0m \u001b[1;33m:\u001b[0m \u001b[0ma\u001b[0m \u001b[0mtrained\u001b[0m \u001b[0mbooster\u001b[0m \u001b[0mmodel\u001b[0m\u001b[1;33m\u001b[0m\u001b[1;33m\u001b[0m\u001b[0m\n\u001b[0;32m    188\u001b[0m     \"\"\"\n\u001b[1;32m--> 189\u001b[1;33m     bst = _train_internal(params, dtrain,\n\u001b[0m\u001b[0;32m    190\u001b[0m                           \u001b[0mnum_boost_round\u001b[0m\u001b[1;33m=\u001b[0m\u001b[0mnum_boost_round\u001b[0m\u001b[1;33m,\u001b[0m\u001b[1;33m\u001b[0m\u001b[1;33m\u001b[0m\u001b[0m\n\u001b[0;32m    191\u001b[0m                           \u001b[0mevals\u001b[0m\u001b[1;33m=\u001b[0m\u001b[0mevals\u001b[0m\u001b[1;33m,\u001b[0m\u001b[1;33m\u001b[0m\u001b[1;33m\u001b[0m\u001b[0m\n",
      "\u001b[1;32m~\\anaconda3\\lib\\site-packages\\xgboost\\training.py\u001b[0m in \u001b[0;36m_train_internal\u001b[1;34m(params, dtrain, num_boost_round, evals, obj, feval, xgb_model, callbacks, evals_result, maximize, verbose_eval, early_stopping_rounds)\u001b[0m\n\u001b[0;32m     79\u001b[0m         \u001b[1;32mif\u001b[0m \u001b[0mcallbacks\u001b[0m\u001b[1;33m.\u001b[0m\u001b[0mbefore_iteration\u001b[0m\u001b[1;33m(\u001b[0m\u001b[0mbst\u001b[0m\u001b[1;33m,\u001b[0m \u001b[0mi\u001b[0m\u001b[1;33m,\u001b[0m \u001b[0mdtrain\u001b[0m\u001b[1;33m,\u001b[0m \u001b[0mevals\u001b[0m\u001b[1;33m)\u001b[0m\u001b[1;33m:\u001b[0m\u001b[1;33m\u001b[0m\u001b[1;33m\u001b[0m\u001b[0m\n\u001b[0;32m     80\u001b[0m             \u001b[1;32mbreak\u001b[0m\u001b[1;33m\u001b[0m\u001b[1;33m\u001b[0m\u001b[0m\n\u001b[1;32m---> 81\u001b[1;33m         \u001b[0mbst\u001b[0m\u001b[1;33m.\u001b[0m\u001b[0mupdate\u001b[0m\u001b[1;33m(\u001b[0m\u001b[0mdtrain\u001b[0m\u001b[1;33m,\u001b[0m \u001b[0mi\u001b[0m\u001b[1;33m,\u001b[0m \u001b[0mobj\u001b[0m\u001b[1;33m)\u001b[0m\u001b[1;33m\u001b[0m\u001b[1;33m\u001b[0m\u001b[0m\n\u001b[0m\u001b[0;32m     82\u001b[0m         \u001b[1;32mif\u001b[0m \u001b[0mcallbacks\u001b[0m\u001b[1;33m.\u001b[0m\u001b[0mafter_iteration\u001b[0m\u001b[1;33m(\u001b[0m\u001b[0mbst\u001b[0m\u001b[1;33m,\u001b[0m \u001b[0mi\u001b[0m\u001b[1;33m,\u001b[0m \u001b[0mdtrain\u001b[0m\u001b[1;33m,\u001b[0m \u001b[0mevals\u001b[0m\u001b[1;33m)\u001b[0m\u001b[1;33m:\u001b[0m\u001b[1;33m\u001b[0m\u001b[1;33m\u001b[0m\u001b[0m\n\u001b[0;32m     83\u001b[0m             \u001b[1;32mbreak\u001b[0m\u001b[1;33m\u001b[0m\u001b[1;33m\u001b[0m\u001b[0m\n",
      "\u001b[1;32m~\\anaconda3\\lib\\site-packages\\xgboost\\core.py\u001b[0m in \u001b[0;36mupdate\u001b[1;34m(self, dtrain, iteration, fobj)\u001b[0m\n\u001b[0;32m   1494\u001b[0m \u001b[1;33m\u001b[0m\u001b[0m\n\u001b[0;32m   1495\u001b[0m         \u001b[1;32mif\u001b[0m \u001b[0mfobj\u001b[0m \u001b[1;32mis\u001b[0m \u001b[1;32mNone\u001b[0m\u001b[1;33m:\u001b[0m\u001b[1;33m\u001b[0m\u001b[1;33m\u001b[0m\u001b[0m\n\u001b[1;32m-> 1496\u001b[1;33m             _check_call(_LIB.XGBoosterUpdateOneIter(self.handle,\n\u001b[0m\u001b[0;32m   1497\u001b[0m                                                     \u001b[0mctypes\u001b[0m\u001b[1;33m.\u001b[0m\u001b[0mc_int\u001b[0m\u001b[1;33m(\u001b[0m\u001b[0miteration\u001b[0m\u001b[1;33m)\u001b[0m\u001b[1;33m,\u001b[0m\u001b[1;33m\u001b[0m\u001b[1;33m\u001b[0m\u001b[0m\n\u001b[0;32m   1498\u001b[0m                                                     dtrain.handle))\n",
      "\u001b[1;31mKeyboardInterrupt\u001b[0m: "
     ]
    }
   ],
   "source": [
    "start_timeXGBoost = time.time()\n",
    "modelXGBoost = XGBClassifier(learning_rate = 0.2, n_estimators = 700, verbosity = 0, use_label_encoder = False,\n",
    "                             n_jobs = -1, objective = 'multi:softmax')\n",
    "modelXGBoost.fit(X_train_Reduced, y_train)\n",
    "predictionsXGBoost = modelXGBoost.predict(X_test_Reduced)\n",
    "accuracyXGBoost = metrics.accuracy_score(y_test, predictionsXGBoost)\n",
    "print(\"Accuracy (XGBoost): \", accuracyXGBoost)\n",
    "timeXGBoost = time.time() - start_timeXGBoost\n",
    "print(\"Time taken to achive result: %s seconds\" % (timeXGBoost))\n",
    "\n",
    "plt.figure(figsize=(5,4))\n",
    "print(classification_report(y_test, predictionsXGBoost))\n",
    "sns.heatmap(confusion_matrix(y_test, predictionsXGBoost), cmap = \"Blues\", annot=True, fmt = '.0f')"
   ]
  },
  {
   "cell_type": "markdown",
   "id": "42d01191",
   "metadata": {},
   "source": [
    "### Voting Classifier"
   ]
  },
  {
   "cell_type": "markdown",
   "id": "8d3c4fa3",
   "metadata": {},
   "source": [
    "Now that all models are trained, and they are not bad, we can try to combine them and get \"the best out of all worlds\". This we shall first try by using the <b>Voting Classifier</b>. This classifier takes the results of each model (given in the \"estimators\" hyperparameter), and compares the results given by each model for every record of the dataframe, returning the value which most classifiers agree on. The voting method was changed to \"soft\", meaning that from each classifier, the probability of each result will be considered (\"how sure the classifier is that its final decision is correct\"), rather than the raw \"yes or no\" in the case of \"hard\" voting method. The weights of each model in the evaluation are also given, for we know that the last 3 classifiers had better results than the first two."
   ]
  },
  {
   "cell_type": "code",
   "execution_count": null,
   "id": "2531dbef",
   "metadata": {},
   "outputs": [],
   "source": [
    "#Voting\n",
    "start_timeVoting = time.time()\n",
    "modelVoting = VotingClassifier(\n",
    "    estimators=\n",
    "        [('KNN', modelKNN),\n",
    "         ('LogReg', modelLogReg),\n",
    "         ('RandForests', modelRandForests),\n",
    "         ('AdaBoost', modelAdaBoost),\n",
    "         ('XGBoost', modelXGBoost)],\n",
    "    voting='soft', n_jobs=-1, weights=[1, 1, 3, 3, 3])\n",
    "modelVoting.fit(X_train_Reduced, y_train)\n",
    "predictionsVoting = modelVoting.predict(X_test_Reduced)\n",
    "accuracyVoting = metrics.accuracy_score(y_test, predictionsVoting)\n",
    "print(\"Accuracy: \", accuracyVoting)\n",
    "timeVoting = time.time() - start_timeVoting\n",
    "print(\"Time taken to achive result: %s seconds\\n\\n\" % (timeVoting))\n",
    "\n",
    "plt.figure(figsize=(5,4))\n",
    "print(classification_report(y_test, predictionsVoting))\n",
    "sns.heatmap(confusion_matrix(y_test, predictionsVoting), cmap = \"Blues\", annot=True, fmt = '.0f')"
   ]
  },
  {
   "cell_type": "markdown",
   "id": "9de4ddeb",
   "metadata": {},
   "source": [
    "### Bagging and Pasting Classifiers"
   ]
  },
  {
   "cell_type": "markdown",
   "id": "5c11e9cb",
   "metadata": {},
   "source": [
    "Another option we will now observe is to use the <b>Bagging/Pasting Classifiers</b>. These classifiers combine not many different models, but a single model where the data is divided into multiple parts (the number is defined in the n_estimators hyperparameter), and a single model is run on all these subsections, resulting in a quite accurate model. When the samples taken from the complete dataset can be chosen twice or more for a single predictor, the model is called Bagging, if not then it is Pasting. In practice, Pasting is used more when the dataset is large, while for smaller datasets, the Bagging Classifier may be a good choice. We will try to use both classifiers to see how it performs on our data. The difference between the two classifiers in code is only the \"bootstrap\" hyperparameter. We will Use the XGBoost calssifier as the estimator, as it performed best out of the classifiers we have evaluated up to this point, but we shall reduce the number of estimators in each XGBoost run to reduce runtime."
   ]
  },
  {
   "cell_type": "markdown",
   "id": "c0832ded",
   "metadata": {},
   "source": [
    "#### Bagging Classifier"
   ]
  },
  {
   "cell_type": "code",
   "execution_count": null,
   "id": "62d637bf",
   "metadata": {},
   "outputs": [],
   "source": [
    "#Bagging\n",
    "modelXGBoost = XGBClassifier(learning_rate = 0.2, n_estimators = 400, verbosity = 0, use_label_encoder = False,\n",
    "                             n_jobs = -1, objective = 'multi:softmax')\n",
    "start_timeBagging = time.time()\n",
    "warnings.filterwarnings('ignore')\n",
    "modelBagging = BaggingClassifier(modelXGBoost, n_estimators = 100, bootstrap = True)\n",
    "modelBagging.fit(X_train_Reduced, y_train)\n",
    "predictionsBagging = modelBagging.predict(X_test_Reduced)\n",
    "accuracyBagging = metrics.accuracy_score(y_test, predictionsBagging)\n",
    "print(\"Accuracy: \", accuracyBagging)\n",
    "timeBagging = time.time() - start_timeBagging\n",
    "print(\"Time taken to achive result: %s seconds\\n\\n\" % (timeBagging))\n",
    "\n",
    "plt.figure(figsize=(5,4))\n",
    "print(classification_report(y_test, predictionsBagging))\n",
    "sns.heatmap(confusion_matrix(y_test, predictionsBagging), cmap = \"Blues\", annot=True, fmt = '.0f')"
   ]
  },
  {
   "cell_type": "markdown",
   "id": "361d839a",
   "metadata": {},
   "source": [
    "#### Pasting Classifier"
   ]
  },
  {
   "cell_type": "code",
   "execution_count": null,
   "id": "eb2653af",
   "metadata": {},
   "outputs": [],
   "source": [
    "#Pasting\n",
    "start_timePasting = time.time()\n",
    "warnings.filterwarnings('ignore')\n",
    "modelPasting = BaggingClassifier(modelXGBoost, n_estimators = 100, bootstrap = False)\n",
    "modelPasting.fit(X_train_Reduced, y_train)\n",
    "predictionsPasting = modelPasting.predict(X_test_Reduced)\n",
    "accuracyPasting = metrics.accuracy_score(y_test, predictionsPasting)\n",
    "print(\"Accuracy: \", accuracyPasting)\n",
    "timePasting = time.time() - start_timePasting\n",
    "print(\"Time taken to achive result: %s seconds\\n\\n\" % (timePasting))\n",
    "\n",
    "plt.figure(figsize=(5,4))\n",
    "print(classification_report(y_test, predictionsPasting))\n",
    "sns.heatmap(confusion_matrix(y_test, predictionsPasting), cmap = \"Blues\", annot=True, fmt = '.0f')"
   ]
  },
  {
   "cell_type": "markdown",
   "id": "4ac1fad4",
   "metadata": {},
   "source": [
    "### Stacking Classifier"
   ]
  },
  {
   "cell_type": "markdown",
   "id": "1a4b20bd",
   "metadata": {},
   "source": [
    "The last ensemble method we will evaluate is the <b>Stacking Classifier</b>. This uses the simple yet elegant idea to take the results given by each predictor for each method, and unlike the voting classifier, build a new model to evaluate them and return an answer, which shall be the final result for the instance for this classifier."
   ]
  },
  {
   "cell_type": "code",
   "execution_count": null,
   "id": "ddbd0aa9",
   "metadata": {},
   "outputs": [],
   "source": [
    "#Stacking\n",
    "start_timeStacking = time.time()\n",
    "warnings.filterwarnings('ignore')\n",
    "modelStacking = StackingClassifier(estimators= [('KNN', modelKNN),\n",
    "                                      ('LogReg', modelLogReg),\n",
    "                                      ('RandForests', modelRandForests),\n",
    "                                      ('AdaBoost', modelAdaBoost),\n",
    "                                      ('XGBoost', modelXGBoost)], \n",
    "                         final_estimator=LogisticRegression())\n",
    "modelStacking.fit(X_train_Reduced, y_train)\n",
    "predictionsStacking = modelStacking.predict(X_test_Reduced)\n",
    "accuracyStacking = metrics.accuracy_score(y_test, predictionsStacking)\n",
    "print(\"Accuracy: \", accuracyStacking)\n",
    "timeStacking = time.time() - start_timeStacking\n",
    "print(\"Time taken to achive result: %s seconds\\n\\n\" % (timeStacking))\n",
    "\n",
    "plt.figure(figsize=(5,4))\n",
    "print(classification_report(y_test, predictionsStacking))\n",
    "sns.heatmap(confusion_matrix(y_test, predictionsStacking), cmap = \"Blues\", annot=True, fmt = '.0f')"
   ]
  },
  {
   "cell_type": "markdown",
   "id": "66093942",
   "metadata": {},
   "source": [
    "## Classifier Evaluation"
   ]
  },
  {
   "cell_type": "markdown",
   "id": "c6b65922",
   "metadata": {},
   "source": [
    "We will plot a bar graph to help us see the accuracies better and limiting the y axis so that the differences are more pronounced. Here, the accuracies can be judged much better than any other method, with the Voting Classifier being the best, with XGBoost and Bagging Classifiers close behind. The Dummy classifier has, as expected , performed worse than all our other classifiers, meaning all models have some functionality and are not a total waste."
   ]
  },
  {
   "cell_type": "code",
   "execution_count": null,
   "id": "1a4a0d66",
   "metadata": {},
   "outputs": [],
   "source": [
    "def accuraciesGraph(bounds):\n",
    "    accuracies = [accuracyDummy, accuracyKNN, accuracyLogReg, accuracyRandForests, accuracyAdaBoost, accuracyXGBoost,\n",
    "                  accuracyVoting, accuracyBagging, accuracyPasting, accuracyStacking]\n",
    "    fig = plt.figure(figsize=(13,6))\n",
    "    accuraciesSize = np.arange(len(accuracies))\n",
    "    axes = fig.add_axes([0,0,1,1])\n",
    "    labels = ['Dummy', 'KNN', 'Logistic Regression', 'Random Forest', 'AdaBoost', 'XGBoost', 'Voting', 'Bagging', 'Pasting'\n",
    "              'Stacking']\n",
    "    axes.bar(labels, accuracies)\n",
    "    axes.set_ylabel(\"Accuracy Score\")\n",
    "    axes.set_title(\"Accuracy Scores of the Different Classifiers\")\n",
    "    plt.rcParams['xtick.labelsize'] = 10\n",
    "    axes.set_ylim(bounds)\n",
    "    \n",
    "accuraciesGraph([0.09, 0.9])"
   ]
  },
  {
   "cell_type": "markdown",
   "id": "92d0c901",
   "metadata": {},
   "source": [
    "Next, The bar graph for the runtimes is shown. We can identify the Bagging and Pasting Classifiers as the ones with the longest runtime. These classifiers are so long compared to the all the others, that it is very hard to judge the other classifiers. For this purpose, we shall plot another Time Graph, in which we will not show these models, and see what we can determine."
   ]
  },
  {
   "cell_type": "code",
   "execution_count": null,
   "id": "660c5bf7",
   "metadata": {},
   "outputs": [],
   "source": [
    "def timeGraph(time, labels):\n",
    "    fig = plt.figure(figsize=(13,6))\n",
    "\n",
    "    timeSize = np.arange(len(time))\n",
    "    axes = fig.add_axes([0,0,1,1])\n",
    "    labels = ['Dummy', 'KNN', 'Logistic Regression', 'Random Forest', 'AdaBoost', 'XGBoost', 'Voting', 'Bagging',\n",
    "              'Pasting', 'Stacking']\n",
    "    axes.bar(labels, time)\n",
    "    axes.set_ylabel(\"Runtime (Seconds)\")\n",
    "    axes.set_title(\"Runtimes of the Different Classifiers\")\n",
    "    plt.rcParams['xtick.labelsize'] = 10\n",
    "\n",
    "time = [timeDummy, timeKNN, timeLogReg, timeRandForests, timeAdaBoost, timeXGBoost, timeVoting, timeBagging,\n",
    "        timePasting, timeStacking]\n",
    "labels = ['Dummy', 'KNN', 'Logistic Regression', 'Random Forest', 'AdaBoost', 'XGBoost', 'Voting', 'Bagging',\n",
    "          'Pasting', 'Stacking']\n",
    "timeGraph(time, labels)"
   ]
  },
  {
   "cell_type": "markdown",
   "id": "ef6e6231",
   "metadata": {},
   "source": [
    "As we can see, .....................????????????????????????????"
   ]
  },
  {
   "cell_type": "code",
   "execution_count": null,
   "id": "fdb4316d",
   "metadata": {},
   "outputs": [],
   "source": [
    "time = [timeDummy, timeKNN, timeLogReg, timeRandForests, timeAdaBoost, timeXGBoost, timeVoting, timeStacking]\n",
    "labels = ['Dummy', 'KNN', 'Logistic Regression', 'Random Forest', 'AdaBoost', 'XGBoost', 'Voting', 'Stacking']\n",
    "timeGraph(time, labels)"
   ]
  },
  {
   "cell_type": "code",
   "execution_count": null,
   "id": "27817916",
   "metadata": {},
   "outputs": [],
   "source": [
    "results = pd.DataFrame(np.array([['Dummy (B&W)', accuracyDummy, timeDummy],\n",
    "                            ['KNN (B&W)', accuracyKNN, timeKNN],\n",
    "                            ['Logistic Regression (B&W)', accuracyLogReg, timeLogReg],\n",
    "                            ['Random Forests (B&W)', accuracyRandForests, timeRandForests],\n",
    "                            ['AdaBoost (B&W)', accuracyAdaBoost, timeAdaBoost],\n",
    "                            ['XGBoost (B&W)', accuracyXGBoost, timeXGBoost],\n",
    "                            ['Voting (B&W)', accuracyVoting, timeVoting],\n",
    "                            ['Bagging (B&W)', accuracyBagging, timeBagging],\n",
    "                            ['Pasting (B&W)', accuracyPasting, timePasting],\n",
    "                            ['Stacking (B&W)', accuracyStacking, timeStacking]]),\n",
    "                  columns=['Model', 'Accuracy', 'Runtime (Seconds)'])\n",
    "\n",
    "resultsView = results.sort_values(by = 'Accuracy', axis = 0, ascending = False)\n",
    "resultsView = resultsView.style.set_properties(**{'text-align': 'left'})\n",
    "resultsView"
   ]
  },
  {
   "cell_type": "code",
   "execution_count": null,
   "id": "f94db1c9",
   "metadata": {},
   "outputs": [],
   "source": []
  },
  {
   "cell_type": "code",
   "execution_count": null,
   "id": "b558d8e7",
   "metadata": {},
   "outputs": [],
   "source": []
  }
 ],
 "metadata": {
  "kernelspec": {
   "display_name": "Python 3",
   "language": "python",
   "name": "python3"
  },
  "language_info": {
   "codemirror_mode": {
    "name": "ipython",
    "version": 3
   },
   "file_extension": ".py",
   "mimetype": "text/x-python",
   "name": "python",
   "nbconvert_exporter": "python",
   "pygments_lexer": "ipython3",
   "version": "3.8.8"
  }
 },
 "nbformat": 4,
 "nbformat_minor": 5
}
