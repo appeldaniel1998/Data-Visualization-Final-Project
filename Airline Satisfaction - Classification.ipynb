{
 "cells": [
  {
   "cell_type": "markdown",
   "metadata": {},
   "source": [
    "# Airline Satisfaction - Classification"
   ]
  },
  {
   "cell_type": "markdown",
   "metadata": {},
   "source": [
    "The following dataframe was imported from kaggle.com. It presents reviews of a certain airline made by close to 130 thousand people. Each person is identified by his/her ID number followed by some identifying features of the person and the type of flight and the review of said person in several different categories (explained further down in the notebook). The review system is to give a 0–5-star rating for each category. This is followed by a concluding column of whether the person was overall \"satisfied\" with the airline and the flight or was \"neutral or dissatisfied\".<br>\n",
    "Link to the dataset on kaggle: https://www.kaggle.com/teejmahal20/airline-passenger-satisfaction<br><br>\n",
    "\n",
    "Our purpose in this notebook is to determine whether a given passenger not from the dataframe given, provided all the data of the passenger's review except the last column where he/she stated the overall satisfaction, was satisfied with the airline or not (in other words: which of the 2 possible answers the passenger would choose: \"satisfied\" or \"neutral or dissatisfied\")."
   ]
  },
  {
   "cell_type": "code",
   "execution_count": 1,
   "metadata": {},
   "outputs": [],
   "source": [
    "#Importing the libraries used\n",
    "import pandas as pd\n",
    "import matplotlib.pyplot as plt\n",
    "import seaborn as sns\n",
    "%matplotlib inline\n",
    "import numpy as np\n",
    "from sklearn.preprocessing import MinMaxScaler\n",
    "from sklearn.model_selection import train_test_split\n",
    "from sklearn.metrics import mean_squared_error\n",
    "from sklearn.metrics import r2_score\n",
    "from sklearn.dummy import DummyClassifier\n",
    "from sklearn.neighbors import KNeighborsClassifier\n",
    "from sklearn.linear_model import LogisticRegression\n",
    "from sklearn.model_selection import cross_val_score\n",
    "from sklearn import metrics\n",
    "from sklearn.metrics import classification_report\n",
    "from sklearn.metrics import confusion_matrix"
   ]
  },
  {
   "cell_type": "markdown",
   "metadata": {},
   "source": [
    "We next must import the dataframe into the notebook. The dataframe was divided on kaggle.com to the train and test set. We shall first combine the 2 dataframes into a single one so as not to apply all changes to both dataframes (to be divided later on in the notebook back into the train and test set, although not necessarily the same ones as on download).<br>\n",
    "On upload of the .csv files into jupyter as dataframes, an index is added to the dataframes, leaving the initial id as a column of no significance (\"Unnamed: 0\"). On merging the 2 datasets, again, we give the dataframe a new index, but due to both columns name being \"index\" we first rename the index column, then apply the reset_index() function, then drop the column now named \"i\".<br>\n",
    "Henceforth, we shall refer to the whole dataset \"fulldf\" instead of the train and test sets imported to the notebook (until it is again divided)."
   ]
  },
  {
   "cell_type": "code",
   "execution_count": 2,
   "metadata": {},
   "outputs": [
    {
     "data": {
      "text/html": [
       "<div>\n",
       "<style scoped>\n",
       "    .dataframe tbody tr th:only-of-type {\n",
       "        vertical-align: middle;\n",
       "    }\n",
       "\n",
       "    .dataframe tbody tr th {\n",
       "        vertical-align: top;\n",
       "    }\n",
       "\n",
       "    .dataframe thead th {\n",
       "        text-align: right;\n",
       "    }\n",
       "</style>\n",
       "<table border=\"1\" class=\"dataframe\">\n",
       "  <thead>\n",
       "    <tr style=\"text-align: right;\">\n",
       "      <th></th>\n",
       "      <th>id</th>\n",
       "      <th>Gender</th>\n",
       "      <th>Customer Type</th>\n",
       "      <th>Age</th>\n",
       "      <th>Type of Travel</th>\n",
       "      <th>Class</th>\n",
       "      <th>Flight Distance</th>\n",
       "      <th>Inflight wifi service</th>\n",
       "      <th>Departure/Arrival time convenient</th>\n",
       "      <th>Ease of Online booking</th>\n",
       "      <th>...</th>\n",
       "      <th>Inflight entertainment</th>\n",
       "      <th>On-board service</th>\n",
       "      <th>Leg room service</th>\n",
       "      <th>Baggage handling</th>\n",
       "      <th>Checkin service</th>\n",
       "      <th>Inflight service</th>\n",
       "      <th>Cleanliness</th>\n",
       "      <th>Departure Delay in Minutes</th>\n",
       "      <th>Arrival Delay in Minutes</th>\n",
       "      <th>satisfaction</th>\n",
       "    </tr>\n",
       "  </thead>\n",
       "  <tbody>\n",
       "    <tr>\n",
       "      <th>0</th>\n",
       "      <td>19556</td>\n",
       "      <td>Female</td>\n",
       "      <td>Loyal Customer</td>\n",
       "      <td>52</td>\n",
       "      <td>Business travel</td>\n",
       "      <td>Eco</td>\n",
       "      <td>160</td>\n",
       "      <td>5</td>\n",
       "      <td>4</td>\n",
       "      <td>3</td>\n",
       "      <td>...</td>\n",
       "      <td>5</td>\n",
       "      <td>5</td>\n",
       "      <td>5</td>\n",
       "      <td>5</td>\n",
       "      <td>2</td>\n",
       "      <td>5</td>\n",
       "      <td>5</td>\n",
       "      <td>50</td>\n",
       "      <td>44.0</td>\n",
       "      <td>satisfied</td>\n",
       "    </tr>\n",
       "    <tr>\n",
       "      <th>1</th>\n",
       "      <td>90035</td>\n",
       "      <td>Female</td>\n",
       "      <td>Loyal Customer</td>\n",
       "      <td>36</td>\n",
       "      <td>Business travel</td>\n",
       "      <td>Business</td>\n",
       "      <td>2863</td>\n",
       "      <td>1</td>\n",
       "      <td>1</td>\n",
       "      <td>3</td>\n",
       "      <td>...</td>\n",
       "      <td>4</td>\n",
       "      <td>4</td>\n",
       "      <td>4</td>\n",
       "      <td>4</td>\n",
       "      <td>3</td>\n",
       "      <td>4</td>\n",
       "      <td>5</td>\n",
       "      <td>0</td>\n",
       "      <td>0.0</td>\n",
       "      <td>satisfied</td>\n",
       "    </tr>\n",
       "    <tr>\n",
       "      <th>2</th>\n",
       "      <td>12360</td>\n",
       "      <td>Male</td>\n",
       "      <td>disloyal Customer</td>\n",
       "      <td>20</td>\n",
       "      <td>Business travel</td>\n",
       "      <td>Eco</td>\n",
       "      <td>192</td>\n",
       "      <td>2</td>\n",
       "      <td>0</td>\n",
       "      <td>2</td>\n",
       "      <td>...</td>\n",
       "      <td>2</td>\n",
       "      <td>4</td>\n",
       "      <td>1</td>\n",
       "      <td>3</td>\n",
       "      <td>2</td>\n",
       "      <td>2</td>\n",
       "      <td>2</td>\n",
       "      <td>0</td>\n",
       "      <td>0.0</td>\n",
       "      <td>neutral or dissatisfied</td>\n",
       "    </tr>\n",
       "    <tr>\n",
       "      <th>3</th>\n",
       "      <td>77959</td>\n",
       "      <td>Male</td>\n",
       "      <td>Loyal Customer</td>\n",
       "      <td>44</td>\n",
       "      <td>Business travel</td>\n",
       "      <td>Business</td>\n",
       "      <td>3377</td>\n",
       "      <td>0</td>\n",
       "      <td>0</td>\n",
       "      <td>0</td>\n",
       "      <td>...</td>\n",
       "      <td>1</td>\n",
       "      <td>1</td>\n",
       "      <td>1</td>\n",
       "      <td>1</td>\n",
       "      <td>3</td>\n",
       "      <td>1</td>\n",
       "      <td>4</td>\n",
       "      <td>0</td>\n",
       "      <td>6.0</td>\n",
       "      <td>satisfied</td>\n",
       "    </tr>\n",
       "    <tr>\n",
       "      <th>4</th>\n",
       "      <td>36875</td>\n",
       "      <td>Female</td>\n",
       "      <td>Loyal Customer</td>\n",
       "      <td>49</td>\n",
       "      <td>Business travel</td>\n",
       "      <td>Eco</td>\n",
       "      <td>1182</td>\n",
       "      <td>2</td>\n",
       "      <td>3</td>\n",
       "      <td>4</td>\n",
       "      <td>...</td>\n",
       "      <td>2</td>\n",
       "      <td>2</td>\n",
       "      <td>2</td>\n",
       "      <td>2</td>\n",
       "      <td>4</td>\n",
       "      <td>2</td>\n",
       "      <td>4</td>\n",
       "      <td>0</td>\n",
       "      <td>20.0</td>\n",
       "      <td>satisfied</td>\n",
       "    </tr>\n",
       "    <tr>\n",
       "      <th>...</th>\n",
       "      <td>...</td>\n",
       "      <td>...</td>\n",
       "      <td>...</td>\n",
       "      <td>...</td>\n",
       "      <td>...</td>\n",
       "      <td>...</td>\n",
       "      <td>...</td>\n",
       "      <td>...</td>\n",
       "      <td>...</td>\n",
       "      <td>...</td>\n",
       "      <td>...</td>\n",
       "      <td>...</td>\n",
       "      <td>...</td>\n",
       "      <td>...</td>\n",
       "      <td>...</td>\n",
       "      <td>...</td>\n",
       "      <td>...</td>\n",
       "      <td>...</td>\n",
       "      <td>...</td>\n",
       "      <td>...</td>\n",
       "      <td>...</td>\n",
       "    </tr>\n",
       "    <tr>\n",
       "      <th>129875</th>\n",
       "      <td>94171</td>\n",
       "      <td>Female</td>\n",
       "      <td>disloyal Customer</td>\n",
       "      <td>23</td>\n",
       "      <td>Business travel</td>\n",
       "      <td>Eco</td>\n",
       "      <td>192</td>\n",
       "      <td>2</td>\n",
       "      <td>1</td>\n",
       "      <td>2</td>\n",
       "      <td>...</td>\n",
       "      <td>2</td>\n",
       "      <td>3</td>\n",
       "      <td>1</td>\n",
       "      <td>4</td>\n",
       "      <td>2</td>\n",
       "      <td>3</td>\n",
       "      <td>2</td>\n",
       "      <td>3</td>\n",
       "      <td>0.0</td>\n",
       "      <td>neutral or dissatisfied</td>\n",
       "    </tr>\n",
       "    <tr>\n",
       "      <th>129876</th>\n",
       "      <td>73097</td>\n",
       "      <td>Male</td>\n",
       "      <td>Loyal Customer</td>\n",
       "      <td>49</td>\n",
       "      <td>Business travel</td>\n",
       "      <td>Business</td>\n",
       "      <td>2347</td>\n",
       "      <td>4</td>\n",
       "      <td>4</td>\n",
       "      <td>4</td>\n",
       "      <td>...</td>\n",
       "      <td>5</td>\n",
       "      <td>5</td>\n",
       "      <td>5</td>\n",
       "      <td>5</td>\n",
       "      <td>5</td>\n",
       "      <td>5</td>\n",
       "      <td>4</td>\n",
       "      <td>0</td>\n",
       "      <td>0.0</td>\n",
       "      <td>satisfied</td>\n",
       "    </tr>\n",
       "    <tr>\n",
       "      <th>129877</th>\n",
       "      <td>68825</td>\n",
       "      <td>Male</td>\n",
       "      <td>disloyal Customer</td>\n",
       "      <td>30</td>\n",
       "      <td>Business travel</td>\n",
       "      <td>Business</td>\n",
       "      <td>1995</td>\n",
       "      <td>1</td>\n",
       "      <td>1</td>\n",
       "      <td>1</td>\n",
       "      <td>...</td>\n",
       "      <td>4</td>\n",
       "      <td>3</td>\n",
       "      <td>2</td>\n",
       "      <td>4</td>\n",
       "      <td>5</td>\n",
       "      <td>5</td>\n",
       "      <td>4</td>\n",
       "      <td>7</td>\n",
       "      <td>14.0</td>\n",
       "      <td>neutral or dissatisfied</td>\n",
       "    </tr>\n",
       "    <tr>\n",
       "      <th>129878</th>\n",
       "      <td>54173</td>\n",
       "      <td>Female</td>\n",
       "      <td>disloyal Customer</td>\n",
       "      <td>22</td>\n",
       "      <td>Business travel</td>\n",
       "      <td>Eco</td>\n",
       "      <td>1000</td>\n",
       "      <td>1</td>\n",
       "      <td>1</td>\n",
       "      <td>1</td>\n",
       "      <td>...</td>\n",
       "      <td>1</td>\n",
       "      <td>4</td>\n",
       "      <td>5</td>\n",
       "      <td>1</td>\n",
       "      <td>5</td>\n",
       "      <td>4</td>\n",
       "      <td>1</td>\n",
       "      <td>0</td>\n",
       "      <td>0.0</td>\n",
       "      <td>neutral or dissatisfied</td>\n",
       "    </tr>\n",
       "    <tr>\n",
       "      <th>129879</th>\n",
       "      <td>62567</td>\n",
       "      <td>Male</td>\n",
       "      <td>Loyal Customer</td>\n",
       "      <td>27</td>\n",
       "      <td>Business travel</td>\n",
       "      <td>Business</td>\n",
       "      <td>1723</td>\n",
       "      <td>1</td>\n",
       "      <td>3</td>\n",
       "      <td>3</td>\n",
       "      <td>...</td>\n",
       "      <td>1</td>\n",
       "      <td>1</td>\n",
       "      <td>1</td>\n",
       "      <td>4</td>\n",
       "      <td>4</td>\n",
       "      <td>3</td>\n",
       "      <td>1</td>\n",
       "      <td>0</td>\n",
       "      <td>0.0</td>\n",
       "      <td>neutral or dissatisfied</td>\n",
       "    </tr>\n",
       "  </tbody>\n",
       "</table>\n",
       "<p>129880 rows × 24 columns</p>\n",
       "</div>"
      ],
      "text/plain": [
       "           id  Gender      Customer Type  Age   Type of Travel     Class  \\\n",
       "0       19556  Female     Loyal Customer   52  Business travel       Eco   \n",
       "1       90035  Female     Loyal Customer   36  Business travel  Business   \n",
       "2       12360    Male  disloyal Customer   20  Business travel       Eco   \n",
       "3       77959    Male     Loyal Customer   44  Business travel  Business   \n",
       "4       36875  Female     Loyal Customer   49  Business travel       Eco   \n",
       "...       ...     ...                ...  ...              ...       ...   \n",
       "129875  94171  Female  disloyal Customer   23  Business travel       Eco   \n",
       "129876  73097    Male     Loyal Customer   49  Business travel  Business   \n",
       "129877  68825    Male  disloyal Customer   30  Business travel  Business   \n",
       "129878  54173  Female  disloyal Customer   22  Business travel       Eco   \n",
       "129879  62567    Male     Loyal Customer   27  Business travel  Business   \n",
       "\n",
       "        Flight Distance  Inflight wifi service  \\\n",
       "0                   160                      5   \n",
       "1                  2863                      1   \n",
       "2                   192                      2   \n",
       "3                  3377                      0   \n",
       "4                  1182                      2   \n",
       "...                 ...                    ...   \n",
       "129875              192                      2   \n",
       "129876             2347                      4   \n",
       "129877             1995                      1   \n",
       "129878             1000                      1   \n",
       "129879             1723                      1   \n",
       "\n",
       "        Departure/Arrival time convenient  Ease of Online booking  ...  \\\n",
       "0                                       4                       3  ...   \n",
       "1                                       1                       3  ...   \n",
       "2                                       0                       2  ...   \n",
       "3                                       0                       0  ...   \n",
       "4                                       3                       4  ...   \n",
       "...                                   ...                     ...  ...   \n",
       "129875                                  1                       2  ...   \n",
       "129876                                  4                       4  ...   \n",
       "129877                                  1                       1  ...   \n",
       "129878                                  1                       1  ...   \n",
       "129879                                  3                       3  ...   \n",
       "\n",
       "        Inflight entertainment  On-board service  Leg room service  \\\n",
       "0                            5                 5                 5   \n",
       "1                            4                 4                 4   \n",
       "2                            2                 4                 1   \n",
       "3                            1                 1                 1   \n",
       "4                            2                 2                 2   \n",
       "...                        ...               ...               ...   \n",
       "129875                       2                 3                 1   \n",
       "129876                       5                 5                 5   \n",
       "129877                       4                 3                 2   \n",
       "129878                       1                 4                 5   \n",
       "129879                       1                 1                 1   \n",
       "\n",
       "        Baggage handling  Checkin service  Inflight service  Cleanliness  \\\n",
       "0                      5                2                 5            5   \n",
       "1                      4                3                 4            5   \n",
       "2                      3                2                 2            2   \n",
       "3                      1                3                 1            4   \n",
       "4                      2                4                 2            4   \n",
       "...                  ...              ...               ...          ...   \n",
       "129875                 4                2                 3            2   \n",
       "129876                 5                5                 5            4   \n",
       "129877                 4                5                 5            4   \n",
       "129878                 1                5                 4            1   \n",
       "129879                 4                4                 3            1   \n",
       "\n",
       "        Departure Delay in Minutes  Arrival Delay in Minutes  \\\n",
       "0                               50                      44.0   \n",
       "1                                0                       0.0   \n",
       "2                                0                       0.0   \n",
       "3                                0                       6.0   \n",
       "4                                0                      20.0   \n",
       "...                            ...                       ...   \n",
       "129875                           3                       0.0   \n",
       "129876                           0                       0.0   \n",
       "129877                           7                      14.0   \n",
       "129878                           0                       0.0   \n",
       "129879                           0                       0.0   \n",
       "\n",
       "                   satisfaction  \n",
       "0                     satisfied  \n",
       "1                     satisfied  \n",
       "2       neutral or dissatisfied  \n",
       "3                     satisfied  \n",
       "4                     satisfied  \n",
       "...                         ...  \n",
       "129875  neutral or dissatisfied  \n",
       "129876                satisfied  \n",
       "129877  neutral or dissatisfied  \n",
       "129878  neutral or dissatisfied  \n",
       "129879  neutral or dissatisfied  \n",
       "\n",
       "[129880 rows x 24 columns]"
      ]
     },
     "execution_count": 2,
     "metadata": {},
     "output_type": "execute_result"
    }
   ],
   "source": [
    "defaultTest = pd.read_csv('Data/Airline Satisfaction/Import/test.csv') #importing the dataframe 'test.csv' from the appropriate folder\n",
    "defaultTrain = pd.read_csv('Data/Airline Satisfaction/Import/train.csv') #importing the dataframe 'train.csv' from the appropriate folder\n",
    "fulldf = pd.concat([defaultTest, defaultTrain]) #merging  the 2 datasets, so that we can work as if we were given the undivided\n",
    "#dataset in the first place.\n",
    "fulldf.index.name = 'i' #renaming the index column so that the new index will not have the same name as the old\n",
    "fulldf = fulldf.reset_index() #Resetting the indexes for appearance's sake.\n",
    "fulldf = fulldf.drop(['i', 'Unnamed: 0'], axis = 1) #removing the columns of indexes which we changed: the change was not\n",
    "#necessary, only for the sake of appearance\n",
    "fulldf"
   ]
  },
  {
   "cell_type": "code",
   "execution_count": 3,
   "metadata": {},
   "outputs": [
    {
     "data": {
      "text/plain": [
       "Class     Gender\n",
       "Business  Female    31263\n",
       "          Male      30897\n",
       "Eco       Female    29670\n",
       "          Male      28639\n",
       "Eco Plus  Female     4966\n",
       "          Male       4445\n",
       "Name: id, dtype: int64"
      ]
     },
     "execution_count": 3,
     "metadata": {},
     "output_type": "execute_result"
    }
   ],
   "source": [
    "fulldf.groupby(['Class', 'Gender']).count()['id']"
   ]
  },
  {
   "cell_type": "markdown",
   "metadata": {},
   "source": [
    "## Data Cleaning"
   ]
  },
  {
   "cell_type": "markdown",
   "metadata": {},
   "source": [
    "Before delving into the data cleaning, we first must understand what it is that we must do. To do that, we first check whether there are any duplicates in the data provided. Because all reviewer have a unique ID, it is enough to check whether there are 2 reviews (2 records in the dataset) with the same ID. To do that, we group the dataset by ID using groupby() and check if the size of any of the groups provided is greater than 1 (as we can see below). From this we can gather that no duplicate IDs exist, hence there are no duplicate reviews in the dataset."
   ]
  },
  {
   "cell_type": "code",
   "execution_count": 4,
   "metadata": {},
   "outputs": [
    {
     "data": {
      "text/plain": [
       "False    129880\n",
       "dtype: int64"
      ]
     },
     "execution_count": 4,
     "metadata": {},
     "output_type": "execute_result"
    }
   ],
   "source": [
    "dupl = fulldf.groupby(['id']).size()>1\n",
    "dupl.value_counts()\n",
    "#Checking that there are no duplicates (no values that are true)"
   ]
  },
  {
   "cell_type": "markdown",
   "metadata": {},
   "source": [
    "After checking the dataset for duplicates, we no longer need the ID attribute, as it is of little to no use in predicting the overall satisfaction of the reviewer."
   ]
  },
  {
   "cell_type": "code",
   "execution_count": 5,
   "metadata": {},
   "outputs": [],
   "source": [
    "fulldf = fulldf.drop(['id'], axis = 1) #Further unneded attribute"
   ]
  },
  {
   "cell_type": "markdown",
   "metadata": {},
   "source": [
    "Let us first examine the dataset we now have using info(). Here we can see the name of every attribute, the count of non-null values for each attribute and the type of data each attribute has. Keeping in mind that the dataset has 129880 records, we can derive that the only attribute that has NaN values is \"Arrival Delay in Minutes\". We will have to deal with it in a minute. Further on, as seen below, there are several attributes where the type of data is \"object\". From a quick review of the dataset, we can see that it is a string, which for the purposes of machine learning we shall have to encode as numerical values."
   ]
  },
  {
   "cell_type": "code",
   "execution_count": 6,
   "metadata": {},
   "outputs": [
    {
     "name": "stdout",
     "output_type": "stream",
     "text": [
      "<class 'pandas.core.frame.DataFrame'>\n",
      "RangeIndex: 129880 entries, 0 to 129879\n",
      "Data columns (total 23 columns):\n",
      " #   Column                             Non-Null Count   Dtype  \n",
      "---  ------                             --------------   -----  \n",
      " 0   Gender                             129880 non-null  object \n",
      " 1   Customer Type                      129880 non-null  object \n",
      " 2   Age                                129880 non-null  int64  \n",
      " 3   Type of Travel                     129880 non-null  object \n",
      " 4   Class                              129880 non-null  object \n",
      " 5   Flight Distance                    129880 non-null  int64  \n",
      " 6   Inflight wifi service              129880 non-null  int64  \n",
      " 7   Departure/Arrival time convenient  129880 non-null  int64  \n",
      " 8   Ease of Online booking             129880 non-null  int64  \n",
      " 9   Gate location                      129880 non-null  int64  \n",
      " 10  Food and drink                     129880 non-null  int64  \n",
      " 11  Online boarding                    129880 non-null  int64  \n",
      " 12  Seat comfort                       129880 non-null  int64  \n",
      " 13  Inflight entertainment             129880 non-null  int64  \n",
      " 14  On-board service                   129880 non-null  int64  \n",
      " 15  Leg room service                   129880 non-null  int64  \n",
      " 16  Baggage handling                   129880 non-null  int64  \n",
      " 17  Checkin service                    129880 non-null  int64  \n",
      " 18  Inflight service                   129880 non-null  int64  \n",
      " 19  Cleanliness                        129880 non-null  int64  \n",
      " 20  Departure Delay in Minutes         129880 non-null  int64  \n",
      " 21  Arrival Delay in Minutes           129487 non-null  float64\n",
      " 22  satisfaction                       129880 non-null  object \n",
      "dtypes: float64(1), int64(17), object(5)\n",
      "memory usage: 22.8+ MB\n"
     ]
    }
   ],
   "source": [
    "fulldf.info()"
   ]
  },
  {
   "cell_type": "markdown",
   "metadata": {},
   "source": [
    "To encode the attributes with strings we first must understand what kinds of strings each attribute presents. From the code below we can see that every attribute with strings, has only a small number of possible values, for example: the attribute \"Gender\" has only 2 possible values: \"Male\" and \"Female\". All other values for attributes can be seen below, with the number of values of each value for each attribute."
   ]
  },
  {
   "cell_type": "code",
   "execution_count": 7,
   "metadata": {},
   "outputs": [
    {
     "name": "stdout",
     "output_type": "stream",
     "text": [
      "Gender:\n",
      " Female    65899\n",
      "Male      63981\n",
      "Name: Gender, dtype: int64 \n",
      "\n",
      "Customer Type:\n",
      " Loyal Customer       106100\n",
      "disloyal Customer     23780\n",
      "Name: Customer Type, dtype: int64 \n",
      "\n",
      "Type of Travel:\n",
      " Business travel    89693\n",
      "Personal Travel    40187\n",
      "Name: Type of Travel, dtype: int64 \n",
      "\n",
      "Class:\n",
      " Business    62160\n",
      "Eco         58309\n",
      "Eco Plus     9411\n",
      "Name: Class, dtype: int64 \n",
      "\n",
      "satisfaction:\n",
      " neutral or dissatisfied    73452\n",
      "satisfied                  56428\n",
      "Name: satisfaction, dtype: int64 \n",
      "\n"
     ]
    }
   ],
   "source": [
    "print('Gender:\\n', fulldf['Gender'].value_counts(), '\\n')\n",
    "print('Customer Type:\\n', fulldf['Customer Type'].value_counts(), '\\n')\n",
    "print('Type of Travel:\\n', fulldf['Type of Travel'].value_counts(), '\\n')\n",
    "print('Class:\\n', fulldf['Class'].value_counts(), '\\n')\n",
    "print('satisfaction:\\n', fulldf['satisfaction'].value_counts(), '\\n')"
   ]
  },
  {
   "cell_type": "markdown",
   "metadata": {},
   "source": [
    "Now that we know what each \"object\" attribute consists of (in terms of values), we can encode them as we see fit. The most logical encoding (for me at least), is one with integers from 0 onward, where 0 is the \"worst\" of the options and going upwards with the numbers up to the best, unless it has absolutely no meaning and no \"worst\" or \"best\" as is the case with the \"Gender\" and \"Type of Travel\" attributes."
   ]
  },
  {
   "cell_type": "code",
   "execution_count": 8,
   "metadata": {},
   "outputs": [
    {
     "data": {
      "text/html": [
       "<div>\n",
       "<style scoped>\n",
       "    .dataframe tbody tr th:only-of-type {\n",
       "        vertical-align: middle;\n",
       "    }\n",
       "\n",
       "    .dataframe tbody tr th {\n",
       "        vertical-align: top;\n",
       "    }\n",
       "\n",
       "    .dataframe thead th {\n",
       "        text-align: right;\n",
       "    }\n",
       "</style>\n",
       "<table border=\"1\" class=\"dataframe\">\n",
       "  <thead>\n",
       "    <tr style=\"text-align: right;\">\n",
       "      <th></th>\n",
       "      <th>Gender</th>\n",
       "      <th>Customer Type</th>\n",
       "      <th>Age</th>\n",
       "      <th>Type of Travel</th>\n",
       "      <th>Class</th>\n",
       "      <th>Flight Distance</th>\n",
       "      <th>Inflight wifi service</th>\n",
       "      <th>Departure/Arrival time convenient</th>\n",
       "      <th>Ease of Online booking</th>\n",
       "      <th>Gate location</th>\n",
       "      <th>...</th>\n",
       "      <th>Inflight entertainment</th>\n",
       "      <th>On-board service</th>\n",
       "      <th>Leg room service</th>\n",
       "      <th>Baggage handling</th>\n",
       "      <th>Checkin service</th>\n",
       "      <th>Inflight service</th>\n",
       "      <th>Cleanliness</th>\n",
       "      <th>Departure Delay in Minutes</th>\n",
       "      <th>Arrival Delay in Minutes</th>\n",
       "      <th>satisfaction</th>\n",
       "    </tr>\n",
       "  </thead>\n",
       "  <tbody>\n",
       "    <tr>\n",
       "      <th>0</th>\n",
       "      <td>1</td>\n",
       "      <td>1</td>\n",
       "      <td>52</td>\n",
       "      <td>1</td>\n",
       "      <td>0</td>\n",
       "      <td>160</td>\n",
       "      <td>5</td>\n",
       "      <td>4</td>\n",
       "      <td>3</td>\n",
       "      <td>4</td>\n",
       "      <td>...</td>\n",
       "      <td>5</td>\n",
       "      <td>5</td>\n",
       "      <td>5</td>\n",
       "      <td>5</td>\n",
       "      <td>2</td>\n",
       "      <td>5</td>\n",
       "      <td>5</td>\n",
       "      <td>50</td>\n",
       "      <td>44.0</td>\n",
       "      <td>1</td>\n",
       "    </tr>\n",
       "    <tr>\n",
       "      <th>1</th>\n",
       "      <td>1</td>\n",
       "      <td>1</td>\n",
       "      <td>36</td>\n",
       "      <td>1</td>\n",
       "      <td>2</td>\n",
       "      <td>2863</td>\n",
       "      <td>1</td>\n",
       "      <td>1</td>\n",
       "      <td>3</td>\n",
       "      <td>1</td>\n",
       "      <td>...</td>\n",
       "      <td>4</td>\n",
       "      <td>4</td>\n",
       "      <td>4</td>\n",
       "      <td>4</td>\n",
       "      <td>3</td>\n",
       "      <td>4</td>\n",
       "      <td>5</td>\n",
       "      <td>0</td>\n",
       "      <td>0.0</td>\n",
       "      <td>1</td>\n",
       "    </tr>\n",
       "    <tr>\n",
       "      <th>2</th>\n",
       "      <td>0</td>\n",
       "      <td>0</td>\n",
       "      <td>20</td>\n",
       "      <td>1</td>\n",
       "      <td>0</td>\n",
       "      <td>192</td>\n",
       "      <td>2</td>\n",
       "      <td>0</td>\n",
       "      <td>2</td>\n",
       "      <td>4</td>\n",
       "      <td>...</td>\n",
       "      <td>2</td>\n",
       "      <td>4</td>\n",
       "      <td>1</td>\n",
       "      <td>3</td>\n",
       "      <td>2</td>\n",
       "      <td>2</td>\n",
       "      <td>2</td>\n",
       "      <td>0</td>\n",
       "      <td>0.0</td>\n",
       "      <td>0</td>\n",
       "    </tr>\n",
       "    <tr>\n",
       "      <th>3</th>\n",
       "      <td>0</td>\n",
       "      <td>1</td>\n",
       "      <td>44</td>\n",
       "      <td>1</td>\n",
       "      <td>2</td>\n",
       "      <td>3377</td>\n",
       "      <td>0</td>\n",
       "      <td>0</td>\n",
       "      <td>0</td>\n",
       "      <td>2</td>\n",
       "      <td>...</td>\n",
       "      <td>1</td>\n",
       "      <td>1</td>\n",
       "      <td>1</td>\n",
       "      <td>1</td>\n",
       "      <td>3</td>\n",
       "      <td>1</td>\n",
       "      <td>4</td>\n",
       "      <td>0</td>\n",
       "      <td>6.0</td>\n",
       "      <td>1</td>\n",
       "    </tr>\n",
       "    <tr>\n",
       "      <th>4</th>\n",
       "      <td>1</td>\n",
       "      <td>1</td>\n",
       "      <td>49</td>\n",
       "      <td>1</td>\n",
       "      <td>0</td>\n",
       "      <td>1182</td>\n",
       "      <td>2</td>\n",
       "      <td>3</td>\n",
       "      <td>4</td>\n",
       "      <td>3</td>\n",
       "      <td>...</td>\n",
       "      <td>2</td>\n",
       "      <td>2</td>\n",
       "      <td>2</td>\n",
       "      <td>2</td>\n",
       "      <td>4</td>\n",
       "      <td>2</td>\n",
       "      <td>4</td>\n",
       "      <td>0</td>\n",
       "      <td>20.0</td>\n",
       "      <td>1</td>\n",
       "    </tr>\n",
       "    <tr>\n",
       "      <th>...</th>\n",
       "      <td>...</td>\n",
       "      <td>...</td>\n",
       "      <td>...</td>\n",
       "      <td>...</td>\n",
       "      <td>...</td>\n",
       "      <td>...</td>\n",
       "      <td>...</td>\n",
       "      <td>...</td>\n",
       "      <td>...</td>\n",
       "      <td>...</td>\n",
       "      <td>...</td>\n",
       "      <td>...</td>\n",
       "      <td>...</td>\n",
       "      <td>...</td>\n",
       "      <td>...</td>\n",
       "      <td>...</td>\n",
       "      <td>...</td>\n",
       "      <td>...</td>\n",
       "      <td>...</td>\n",
       "      <td>...</td>\n",
       "      <td>...</td>\n",
       "    </tr>\n",
       "    <tr>\n",
       "      <th>129875</th>\n",
       "      <td>1</td>\n",
       "      <td>0</td>\n",
       "      <td>23</td>\n",
       "      <td>1</td>\n",
       "      <td>0</td>\n",
       "      <td>192</td>\n",
       "      <td>2</td>\n",
       "      <td>1</td>\n",
       "      <td>2</td>\n",
       "      <td>3</td>\n",
       "      <td>...</td>\n",
       "      <td>2</td>\n",
       "      <td>3</td>\n",
       "      <td>1</td>\n",
       "      <td>4</td>\n",
       "      <td>2</td>\n",
       "      <td>3</td>\n",
       "      <td>2</td>\n",
       "      <td>3</td>\n",
       "      <td>0.0</td>\n",
       "      <td>0</td>\n",
       "    </tr>\n",
       "    <tr>\n",
       "      <th>129876</th>\n",
       "      <td>0</td>\n",
       "      <td>1</td>\n",
       "      <td>49</td>\n",
       "      <td>1</td>\n",
       "      <td>2</td>\n",
       "      <td>2347</td>\n",
       "      <td>4</td>\n",
       "      <td>4</td>\n",
       "      <td>4</td>\n",
       "      <td>4</td>\n",
       "      <td>...</td>\n",
       "      <td>5</td>\n",
       "      <td>5</td>\n",
       "      <td>5</td>\n",
       "      <td>5</td>\n",
       "      <td>5</td>\n",
       "      <td>5</td>\n",
       "      <td>4</td>\n",
       "      <td>0</td>\n",
       "      <td>0.0</td>\n",
       "      <td>1</td>\n",
       "    </tr>\n",
       "    <tr>\n",
       "      <th>129877</th>\n",
       "      <td>0</td>\n",
       "      <td>0</td>\n",
       "      <td>30</td>\n",
       "      <td>1</td>\n",
       "      <td>2</td>\n",
       "      <td>1995</td>\n",
       "      <td>1</td>\n",
       "      <td>1</td>\n",
       "      <td>1</td>\n",
       "      <td>3</td>\n",
       "      <td>...</td>\n",
       "      <td>4</td>\n",
       "      <td>3</td>\n",
       "      <td>2</td>\n",
       "      <td>4</td>\n",
       "      <td>5</td>\n",
       "      <td>5</td>\n",
       "      <td>4</td>\n",
       "      <td>7</td>\n",
       "      <td>14.0</td>\n",
       "      <td>0</td>\n",
       "    </tr>\n",
       "    <tr>\n",
       "      <th>129878</th>\n",
       "      <td>1</td>\n",
       "      <td>0</td>\n",
       "      <td>22</td>\n",
       "      <td>1</td>\n",
       "      <td>0</td>\n",
       "      <td>1000</td>\n",
       "      <td>1</td>\n",
       "      <td>1</td>\n",
       "      <td>1</td>\n",
       "      <td>5</td>\n",
       "      <td>...</td>\n",
       "      <td>1</td>\n",
       "      <td>4</td>\n",
       "      <td>5</td>\n",
       "      <td>1</td>\n",
       "      <td>5</td>\n",
       "      <td>4</td>\n",
       "      <td>1</td>\n",
       "      <td>0</td>\n",
       "      <td>0.0</td>\n",
       "      <td>0</td>\n",
       "    </tr>\n",
       "    <tr>\n",
       "      <th>129879</th>\n",
       "      <td>0</td>\n",
       "      <td>1</td>\n",
       "      <td>27</td>\n",
       "      <td>1</td>\n",
       "      <td>2</td>\n",
       "      <td>1723</td>\n",
       "      <td>1</td>\n",
       "      <td>3</td>\n",
       "      <td>3</td>\n",
       "      <td>3</td>\n",
       "      <td>...</td>\n",
       "      <td>1</td>\n",
       "      <td>1</td>\n",
       "      <td>1</td>\n",
       "      <td>4</td>\n",
       "      <td>4</td>\n",
       "      <td>3</td>\n",
       "      <td>1</td>\n",
       "      <td>0</td>\n",
       "      <td>0.0</td>\n",
       "      <td>0</td>\n",
       "    </tr>\n",
       "  </tbody>\n",
       "</table>\n",
       "<p>129880 rows × 23 columns</p>\n",
       "</div>"
      ],
      "text/plain": [
       "        Gender  Customer Type  Age  Type of Travel  Class  Flight Distance  \\\n",
       "0            1              1   52               1      0              160   \n",
       "1            1              1   36               1      2             2863   \n",
       "2            0              0   20               1      0              192   \n",
       "3            0              1   44               1      2             3377   \n",
       "4            1              1   49               1      0             1182   \n",
       "...        ...            ...  ...             ...    ...              ...   \n",
       "129875       1              0   23               1      0              192   \n",
       "129876       0              1   49               1      2             2347   \n",
       "129877       0              0   30               1      2             1995   \n",
       "129878       1              0   22               1      0             1000   \n",
       "129879       0              1   27               1      2             1723   \n",
       "\n",
       "        Inflight wifi service  Departure/Arrival time convenient  \\\n",
       "0                           5                                  4   \n",
       "1                           1                                  1   \n",
       "2                           2                                  0   \n",
       "3                           0                                  0   \n",
       "4                           2                                  3   \n",
       "...                       ...                                ...   \n",
       "129875                      2                                  1   \n",
       "129876                      4                                  4   \n",
       "129877                      1                                  1   \n",
       "129878                      1                                  1   \n",
       "129879                      1                                  3   \n",
       "\n",
       "        Ease of Online booking  Gate location  ...  Inflight entertainment  \\\n",
       "0                            3              4  ...                       5   \n",
       "1                            3              1  ...                       4   \n",
       "2                            2              4  ...                       2   \n",
       "3                            0              2  ...                       1   \n",
       "4                            4              3  ...                       2   \n",
       "...                        ...            ...  ...                     ...   \n",
       "129875                       2              3  ...                       2   \n",
       "129876                       4              4  ...                       5   \n",
       "129877                       1              3  ...                       4   \n",
       "129878                       1              5  ...                       1   \n",
       "129879                       3              3  ...                       1   \n",
       "\n",
       "        On-board service  Leg room service  Baggage handling  Checkin service  \\\n",
       "0                      5                 5                 5                2   \n",
       "1                      4                 4                 4                3   \n",
       "2                      4                 1                 3                2   \n",
       "3                      1                 1                 1                3   \n",
       "4                      2                 2                 2                4   \n",
       "...                  ...               ...               ...              ...   \n",
       "129875                 3                 1                 4                2   \n",
       "129876                 5                 5                 5                5   \n",
       "129877                 3                 2                 4                5   \n",
       "129878                 4                 5                 1                5   \n",
       "129879                 1                 1                 4                4   \n",
       "\n",
       "        Inflight service  Cleanliness  Departure Delay in Minutes  \\\n",
       "0                      5            5                          50   \n",
       "1                      4            5                           0   \n",
       "2                      2            2                           0   \n",
       "3                      1            4                           0   \n",
       "4                      2            4                           0   \n",
       "...                  ...          ...                         ...   \n",
       "129875                 3            2                           3   \n",
       "129876                 5            4                           0   \n",
       "129877                 5            4                           7   \n",
       "129878                 4            1                           0   \n",
       "129879                 3            1                           0   \n",
       "\n",
       "        Arrival Delay in Minutes  satisfaction  \n",
       "0                           44.0             1  \n",
       "1                            0.0             1  \n",
       "2                            0.0             0  \n",
       "3                            6.0             1  \n",
       "4                           20.0             1  \n",
       "...                          ...           ...  \n",
       "129875                       0.0             0  \n",
       "129876                       0.0             1  \n",
       "129877                      14.0             0  \n",
       "129878                       0.0             0  \n",
       "129879                       0.0             0  \n",
       "\n",
       "[129880 rows x 23 columns]"
      ]
     },
     "execution_count": 8,
     "metadata": {},
     "output_type": "execute_result"
    }
   ],
   "source": [
    "#Encoding values from string to numerical\n",
    "\n",
    "fulldf['Gender'] = fulldf['Gender'].replace({\"Male\": 0, \"Female\": 1})\n",
    "fulldf['satisfaction'] = fulldf['satisfaction'].replace({\"neutral or dissatisfied\": 0, \"satisfied\": 1})\n",
    "fulldf['Type of Travel'] = fulldf['Type of Travel'].replace({\"Personal Travel\": 0, \"Business travel\": 1})\n",
    "fulldf['Customer Type'] = fulldf['Customer Type'].replace({\"disloyal Customer\": 0, \"Loyal Customer\": 1})\n",
    "fulldf['Class'] = fulldf['Class'].replace({\"Eco\": 0, \"Eco Plus\": 1, \"Business\": 2})\n",
    "fulldf"
   ]
  },
  {
   "cell_type": "markdown",
   "metadata": {},
   "source": [
    "Below are the histograms of every attribute and the with the attribute values as the x axis and the number of records with said value in said attribute as the y axis. For our purposes, it is of almost no significance, except to visually understand the approximate distributions of values over the dataframe. This is needed in turn to understand that the data is not \"capped\" on either end (for example), meaning that the actual values were not rounded to a certain value if they were above that value, and likewise below. Another use for the histograms is seeing that there are sufficient records for most if not all values of every attribute, for example if all reviewers were men, there will be no point of that attribute for the model's purposes."
   ]
  },
  {
   "cell_type": "code",
   "execution_count": 9,
   "metadata": {},
   "outputs": [
    {
     "data": {
      "image/png": "[encoded data removed]",
      "text/plain": [
       "<Figure size 1440x1080 with 25 Axes>"
      ]
     },
     "metadata": {
      "needs_background": "light"
     },
     "output_type": "display_data"
    }
   ],
   "source": [
    "fulldf.hist(bins=50, figsize=(20,15))\n",
    "plt.show()"
   ]
  },
  {
   "cell_type": "markdown",
   "metadata": {},
   "source": [
    "### Dealing with NaN values\n",
    "Below, we list the records which have NaN values in any cell. As we know from before, the only attribute that has NaN values is \"Arrival Delay in Minutes\", so all the records listed below have the value of said attribute as NaN."
   ]
  },
  {
   "cell_type": "code",
   "execution_count": 10,
   "metadata": {},
   "outputs": [
    {
     "data": {
      "text/html": [
       "<div>\n",
       "<style scoped>\n",
       "    .dataframe tbody tr th:only-of-type {\n",
       "        vertical-align: middle;\n",
       "    }\n",
       "\n",
       "    .dataframe tbody tr th {\n",
       "        vertical-align: top;\n",
       "    }\n",
       "\n",
       "    .dataframe thead th {\n",
       "        text-align: right;\n",
       "    }\n",
       "</style>\n",
       "<table border=\"1\" class=\"dataframe\">\n",
       "  <thead>\n",
       "    <tr style=\"text-align: right;\">\n",
       "      <th></th>\n",
       "      <th>Gender</th>\n",
       "      <th>Customer Type</th>\n",
       "      <th>Age</th>\n",
       "      <th>Type of Travel</th>\n",
       "      <th>Class</th>\n",
       "      <th>Flight Distance</th>\n",
       "      <th>Inflight wifi service</th>\n",
       "      <th>Departure/Arrival time convenient</th>\n",
       "      <th>Ease of Online booking</th>\n",
       "      <th>Gate location</th>\n",
       "      <th>...</th>\n",
       "      <th>Inflight entertainment</th>\n",
       "      <th>On-board service</th>\n",
       "      <th>Leg room service</th>\n",
       "      <th>Baggage handling</th>\n",
       "      <th>Checkin service</th>\n",
       "      <th>Inflight service</th>\n",
       "      <th>Cleanliness</th>\n",
       "      <th>Departure Delay in Minutes</th>\n",
       "      <th>Arrival Delay in Minutes</th>\n",
       "      <th>satisfaction</th>\n",
       "    </tr>\n",
       "  </thead>\n",
       "  <tbody>\n",
       "    <tr>\n",
       "      <th>516</th>\n",
       "      <td>1</td>\n",
       "      <td>1</td>\n",
       "      <td>21</td>\n",
       "      <td>0</td>\n",
       "      <td>0</td>\n",
       "      <td>632</td>\n",
       "      <td>1</td>\n",
       "      <td>5</td>\n",
       "      <td>1</td>\n",
       "      <td>4</td>\n",
       "      <td>...</td>\n",
       "      <td>2</td>\n",
       "      <td>4</td>\n",
       "      <td>2</td>\n",
       "      <td>5</td>\n",
       "      <td>4</td>\n",
       "      <td>5</td>\n",
       "      <td>2</td>\n",
       "      <td>9</td>\n",
       "      <td>NaN</td>\n",
       "      <td>0</td>\n",
       "    </tr>\n",
       "    <tr>\n",
       "      <th>656</th>\n",
       "      <td>0</td>\n",
       "      <td>1</td>\n",
       "      <td>9</td>\n",
       "      <td>0</td>\n",
       "      <td>0</td>\n",
       "      <td>762</td>\n",
       "      <td>2</td>\n",
       "      <td>5</td>\n",
       "      <td>2</td>\n",
       "      <td>2</td>\n",
       "      <td>...</td>\n",
       "      <td>4</td>\n",
       "      <td>2</td>\n",
       "      <td>5</td>\n",
       "      <td>2</td>\n",
       "      <td>5</td>\n",
       "      <td>2</td>\n",
       "      <td>4</td>\n",
       "      <td>51</td>\n",
       "      <td>NaN</td>\n",
       "      <td>0</td>\n",
       "    </tr>\n",
       "    <tr>\n",
       "      <th>1071</th>\n",
       "      <td>0</td>\n",
       "      <td>0</td>\n",
       "      <td>25</td>\n",
       "      <td>1</td>\n",
       "      <td>0</td>\n",
       "      <td>1017</td>\n",
       "      <td>3</td>\n",
       "      <td>4</td>\n",
       "      <td>4</td>\n",
       "      <td>5</td>\n",
       "      <td>...</td>\n",
       "      <td>5</td>\n",
       "      <td>2</td>\n",
       "      <td>5</td>\n",
       "      <td>2</td>\n",
       "      <td>3</td>\n",
       "      <td>2</td>\n",
       "      <td>5</td>\n",
       "      <td>126</td>\n",
       "      <td>NaN</td>\n",
       "      <td>0</td>\n",
       "    </tr>\n",
       "    <tr>\n",
       "      <th>1224</th>\n",
       "      <td>0</td>\n",
       "      <td>1</td>\n",
       "      <td>7</td>\n",
       "      <td>0</td>\n",
       "      <td>0</td>\n",
       "      <td>399</td>\n",
       "      <td>4</td>\n",
       "      <td>5</td>\n",
       "      <td>4</td>\n",
       "      <td>4</td>\n",
       "      <td>...</td>\n",
       "      <td>4</td>\n",
       "      <td>4</td>\n",
       "      <td>3</td>\n",
       "      <td>1</td>\n",
       "      <td>1</td>\n",
       "      <td>4</td>\n",
       "      <td>4</td>\n",
       "      <td>0</td>\n",
       "      <td>NaN</td>\n",
       "      <td>0</td>\n",
       "    </tr>\n",
       "    <tr>\n",
       "      <th>1589</th>\n",
       "      <td>1</td>\n",
       "      <td>1</td>\n",
       "      <td>58</td>\n",
       "      <td>1</td>\n",
       "      <td>0</td>\n",
       "      <td>129</td>\n",
       "      <td>5</td>\n",
       "      <td>3</td>\n",
       "      <td>3</td>\n",
       "      <td>3</td>\n",
       "      <td>...</td>\n",
       "      <td>5</td>\n",
       "      <td>5</td>\n",
       "      <td>5</td>\n",
       "      <td>5</td>\n",
       "      <td>3</td>\n",
       "      <td>5</td>\n",
       "      <td>5</td>\n",
       "      <td>3</td>\n",
       "      <td>NaN</td>\n",
       "      <td>1</td>\n",
       "    </tr>\n",
       "    <tr>\n",
       "      <th>...</th>\n",
       "      <td>...</td>\n",
       "      <td>...</td>\n",
       "      <td>...</td>\n",
       "      <td>...</td>\n",
       "      <td>...</td>\n",
       "      <td>...</td>\n",
       "      <td>...</td>\n",
       "      <td>...</td>\n",
       "      <td>...</td>\n",
       "      <td>...</td>\n",
       "      <td>...</td>\n",
       "      <td>...</td>\n",
       "      <td>...</td>\n",
       "      <td>...</td>\n",
       "      <td>...</td>\n",
       "      <td>...</td>\n",
       "      <td>...</td>\n",
       "      <td>...</td>\n",
       "      <td>...</td>\n",
       "      <td>...</td>\n",
       "      <td>...</td>\n",
       "    </tr>\n",
       "    <tr>\n",
       "      <th>128043</th>\n",
       "      <td>0</td>\n",
       "      <td>1</td>\n",
       "      <td>49</td>\n",
       "      <td>0</td>\n",
       "      <td>1</td>\n",
       "      <td>1249</td>\n",
       "      <td>2</td>\n",
       "      <td>5</td>\n",
       "      <td>2</td>\n",
       "      <td>3</td>\n",
       "      <td>...</td>\n",
       "      <td>3</td>\n",
       "      <td>4</td>\n",
       "      <td>5</td>\n",
       "      <td>4</td>\n",
       "      <td>3</td>\n",
       "      <td>4</td>\n",
       "      <td>3</td>\n",
       "      <td>230</td>\n",
       "      <td>NaN</td>\n",
       "      <td>0</td>\n",
       "    </tr>\n",
       "    <tr>\n",
       "      <th>128360</th>\n",
       "      <td>0</td>\n",
       "      <td>1</td>\n",
       "      <td>58</td>\n",
       "      <td>1</td>\n",
       "      <td>0</td>\n",
       "      <td>733</td>\n",
       "      <td>3</td>\n",
       "      <td>3</td>\n",
       "      <td>3</td>\n",
       "      <td>3</td>\n",
       "      <td>...</td>\n",
       "      <td>3</td>\n",
       "      <td>3</td>\n",
       "      <td>1</td>\n",
       "      <td>2</td>\n",
       "      <td>4</td>\n",
       "      <td>2</td>\n",
       "      <td>3</td>\n",
       "      <td>55</td>\n",
       "      <td>NaN</td>\n",
       "      <td>0</td>\n",
       "    </tr>\n",
       "    <tr>\n",
       "      <th>128528</th>\n",
       "      <td>1</td>\n",
       "      <td>0</td>\n",
       "      <td>29</td>\n",
       "      <td>1</td>\n",
       "      <td>0</td>\n",
       "      <td>1107</td>\n",
       "      <td>2</td>\n",
       "      <td>1</td>\n",
       "      <td>1</td>\n",
       "      <td>1</td>\n",
       "      <td>...</td>\n",
       "      <td>5</td>\n",
       "      <td>4</td>\n",
       "      <td>1</td>\n",
       "      <td>5</td>\n",
       "      <td>5</td>\n",
       "      <td>3</td>\n",
       "      <td>5</td>\n",
       "      <td>0</td>\n",
       "      <td>NaN</td>\n",
       "      <td>0</td>\n",
       "    </tr>\n",
       "    <tr>\n",
       "      <th>128936</th>\n",
       "      <td>0</td>\n",
       "      <td>1</td>\n",
       "      <td>58</td>\n",
       "      <td>1</td>\n",
       "      <td>0</td>\n",
       "      <td>1088</td>\n",
       "      <td>4</td>\n",
       "      <td>4</td>\n",
       "      <td>1</td>\n",
       "      <td>1</td>\n",
       "      <td>...</td>\n",
       "      <td>5</td>\n",
       "      <td>1</td>\n",
       "      <td>5</td>\n",
       "      <td>5</td>\n",
       "      <td>5</td>\n",
       "      <td>3</td>\n",
       "      <td>5</td>\n",
       "      <td>0</td>\n",
       "      <td>NaN</td>\n",
       "      <td>1</td>\n",
       "    </tr>\n",
       "    <tr>\n",
       "      <th>129516</th>\n",
       "      <td>1</td>\n",
       "      <td>1</td>\n",
       "      <td>33</td>\n",
       "      <td>0</td>\n",
       "      <td>0</td>\n",
       "      <td>359</td>\n",
       "      <td>4</td>\n",
       "      <td>4</td>\n",
       "      <td>4</td>\n",
       "      <td>3</td>\n",
       "      <td>...</td>\n",
       "      <td>4</td>\n",
       "      <td>3</td>\n",
       "      <td>2</td>\n",
       "      <td>5</td>\n",
       "      <td>3</td>\n",
       "      <td>5</td>\n",
       "      <td>4</td>\n",
       "      <td>42</td>\n",
       "      <td>NaN</td>\n",
       "      <td>0</td>\n",
       "    </tr>\n",
       "  </tbody>\n",
       "</table>\n",
       "<p>393 rows × 23 columns</p>\n",
       "</div>"
      ],
      "text/plain": [
       "        Gender  Customer Type  Age  Type of Travel  Class  Flight Distance  \\\n",
       "516          1              1   21               0      0              632   \n",
       "656          0              1    9               0      0              762   \n",
       "1071         0              0   25               1      0             1017   \n",
       "1224         0              1    7               0      0              399   \n",
       "1589         1              1   58               1      0              129   \n",
       "...        ...            ...  ...             ...    ...              ...   \n",
       "128043       0              1   49               0      1             1249   \n",
       "128360       0              1   58               1      0              733   \n",
       "128528       1              0   29               1      0             1107   \n",
       "128936       0              1   58               1      0             1088   \n",
       "129516       1              1   33               0      0              359   \n",
       "\n",
       "        Inflight wifi service  Departure/Arrival time convenient  \\\n",
       "516                         1                                  5   \n",
       "656                         2                                  5   \n",
       "1071                        3                                  4   \n",
       "1224                        4                                  5   \n",
       "1589                        5                                  3   \n",
       "...                       ...                                ...   \n",
       "128043                      2                                  5   \n",
       "128360                      3                                  3   \n",
       "128528                      2                                  1   \n",
       "128936                      4                                  4   \n",
       "129516                      4                                  4   \n",
       "\n",
       "        Ease of Online booking  Gate location  ...  Inflight entertainment  \\\n",
       "516                          1              4  ...                       2   \n",
       "656                          2              2  ...                       4   \n",
       "1071                         4              5  ...                       5   \n",
       "1224                         4              4  ...                       4   \n",
       "1589                         3              3  ...                       5   \n",
       "...                        ...            ...  ...                     ...   \n",
       "128043                       2              3  ...                       3   \n",
       "128360                       3              3  ...                       3   \n",
       "128528                       1              1  ...                       5   \n",
       "128936                       1              1  ...                       5   \n",
       "129516                       4              3  ...                       4   \n",
       "\n",
       "        On-board service  Leg room service  Baggage handling  Checkin service  \\\n",
       "516                    4                 2                 5                4   \n",
       "656                    2                 5                 2                5   \n",
       "1071                   2                 5                 2                3   \n",
       "1224                   4                 3                 1                1   \n",
       "1589                   5                 5                 5                3   \n",
       "...                  ...               ...               ...              ...   \n",
       "128043                 4                 5                 4                3   \n",
       "128360                 3                 1                 2                4   \n",
       "128528                 4                 1                 5                5   \n",
       "128936                 1                 5                 5                5   \n",
       "129516                 3                 2                 5                3   \n",
       "\n",
       "        Inflight service  Cleanliness  Departure Delay in Minutes  \\\n",
       "516                    5            2                           9   \n",
       "656                    2            4                          51   \n",
       "1071                   2            5                         126   \n",
       "1224                   4            4                           0   \n",
       "1589                   5            5                           3   \n",
       "...                  ...          ...                         ...   \n",
       "128043                 4            3                         230   \n",
       "128360                 2            3                          55   \n",
       "128528                 3            5                           0   \n",
       "128936                 3            5                           0   \n",
       "129516                 5            4                          42   \n",
       "\n",
       "        Arrival Delay in Minutes  satisfaction  \n",
       "516                          NaN             0  \n",
       "656                          NaN             0  \n",
       "1071                         NaN             0  \n",
       "1224                         NaN             0  \n",
       "1589                         NaN             1  \n",
       "...                          ...           ...  \n",
       "128043                       NaN             0  \n",
       "128360                       NaN             0  \n",
       "128528                       NaN             0  \n",
       "128936                       NaN             1  \n",
       "129516                       NaN             0  \n",
       "\n",
       "[393 rows x 23 columns]"
      ]
     },
     "execution_count": 10,
     "metadata": {},
     "output_type": "execute_result"
    }
   ],
   "source": [
    "fulldf[fulldf.isna().any(axis=1)]"
   ]
  },
  {
   "cell_type": "markdown",
   "metadata": {},
   "source": [
    "Below we create a dataframe of correlations between every attribute with one another. The dataframe represents the linear correlation between the attributes (nonlinear relations have very low values as the functions considers only linear relations). The values range between -1 and 1, where positive values represent positive relations (\"as X increases, Y increases\"), while negative value represent negative relations (\"as X increases, Y decreases\"). All attribute has an exact linear relation with itself (1.0000). A final thing to not is that the table presented has many duplicates (we could remove the upper right triangle (if the table were cut diagonally from the upper-left corner to the lower-right corner), and not lose any data).<br>\n",
    "Using this data, we plot a heatmap using seaborn, to better and easier see the higher values."
   ]
  },
  {
   "cell_type": "code",
   "execution_count": 11,
   "metadata": {},
   "outputs": [
    {
     "data": {
      "text/plain": [
       "<AxesSubplot:>"
      ]
     },
     "execution_count": 11,
     "metadata": {},
     "output_type": "execute_result"
    },
    {
     "data": {
      "image/png": "[encoded data removed]",
      "text/plain": [
       "<Figure size 936x936 with 2 Axes>"
      ]
     },
     "metadata": {
      "needs_background": "light"
     },
     "output_type": "display_data"
    }
   ],
   "source": [
    "plt.figure(figsize=(13,13))\n",
    "sns.heatmap(fulldf.corr(), cmap = 'Blues', annot=True, fmt=\".2f\")"
   ]
  },
  {
   "cell_type": "markdown",
   "metadata": {},
   "source": [
    "We can see from the correlation function above that the attributes \"Arrival Delay in Minutes\" and \"Departure Delay in Minutes\" have an extremely high linear correlation (0.9653), and, although not an exact duplicate, as we have NaN values for of the \"Arrival Delay in Minutes\" and not of \"Departure Delay in Minutes\", we can copy values from the later to the former, where needed. Again, it is not a perfect match, nor do we expect the values copied to be an exact replica of what happened in reality, their effect on the dependent variable (the satisfaction) remains the same. All that remains, after making the decision, is to make said changes, which is done below.<br>\n",
    "To visualize the codependence of the 2 attributes, we shall plot a scatter graph using seaborn - Although most values are at the bottom left-hand corner, the tendency is undeniable."
   ]
  },
  {
   "cell_type": "code",
   "execution_count": 12,
   "metadata": {},
   "outputs": [
    {
     "data": {
      "text/plain": [
       "<matplotlib.collections.PathCollection at 0x22eaf383f70>"
      ]
     },
     "execution_count": 12,
     "metadata": {},
     "output_type": "execute_result"
    },
    {
     "data": {
      "image/png": "[encoded data removed]",
      "text/plain": [
       "<Figure size 720x504 with 1 Axes>"
      ]
     },
     "metadata": {
      "needs_background": "light"
     },
     "output_type": "display_data"
    }
   ],
   "source": [
    "fig = plt.figure(figsize = (10,7))\n",
    "plt.scatter(fulldf['Departure Delay in Minutes'], fulldf['Arrival Delay in Minutes'], alpha = 0.1)"
   ]
  },
  {
   "cell_type": "code",
   "execution_count": 13,
   "metadata": {},
   "outputs": [],
   "source": [
    "fulldf['Arrival Delay in Minutes'].fillna(fulldf['Departure Delay in Minutes'], inplace = True)"
   ]
  },
  {
   "cell_type": "markdown",
   "metadata": {},
   "source": [
    "Next, due to the 2 attributes having so close a relation (as mentioned in the cell above), we can remove the unneeded attribute. We define which of the 2 is unneeded by checking which has a slightly closer linear relation to the overall satisfaction."
   ]
  },
  {
   "cell_type": "code",
   "execution_count": 14,
   "metadata": {},
   "outputs": [],
   "source": [
    "fulldf = fulldf.drop(['Departure Delay in Minutes'], axis = 1) #removing the departure delay in minutes -\n",
    "#correlation is 0.96 - very high, no need for both as one follows mostly from the other"
   ]
  },
  {
   "cell_type": "code",
   "execution_count": 15,
   "metadata": {},
   "outputs": [
    {
     "name": "stdout",
     "output_type": "stream",
     "text": [
      "<class 'pandas.core.frame.DataFrame'>\n",
      "RangeIndex: 129880 entries, 0 to 129879\n",
      "Data columns (total 22 columns):\n",
      " #   Column                             Non-Null Count   Dtype  \n",
      "---  ------                             --------------   -----  \n",
      " 0   Gender                             129880 non-null  int64  \n",
      " 1   Customer Type                      129880 non-null  int64  \n",
      " 2   Age                                129880 non-null  int64  \n",
      " 3   Type of Travel                     129880 non-null  int64  \n",
      " 4   Class                              129880 non-null  int64  \n",
      " 5   Flight Distance                    129880 non-null  int64  \n",
      " 6   Inflight wifi service              129880 non-null  int64  \n",
      " 7   Departure/Arrival time convenient  129880 non-null  int64  \n",
      " 8   Ease of Online booking             129880 non-null  int64  \n",
      " 9   Gate location                      129880 non-null  int64  \n",
      " 10  Food and drink                     129880 non-null  int64  \n",
      " 11  Online boarding                    129880 non-null  int64  \n",
      " 12  Seat comfort                       129880 non-null  int64  \n",
      " 13  Inflight entertainment             129880 non-null  int64  \n",
      " 14  On-board service                   129880 non-null  int64  \n",
      " 15  Leg room service                   129880 non-null  int64  \n",
      " 16  Baggage handling                   129880 non-null  int64  \n",
      " 17  Checkin service                    129880 non-null  int64  \n",
      " 18  Inflight service                   129880 non-null  int64  \n",
      " 19  Cleanliness                        129880 non-null  int64  \n",
      " 20  Arrival Delay in Minutes           129880 non-null  float64\n",
      " 21  satisfaction                       129880 non-null  int64  \n",
      "dtypes: float64(1), int64(21)\n",
      "memory usage: 21.8 MB\n"
     ]
    }
   ],
   "source": [
    "fulldf.info() #Presenting the final dataset info before maachine learning algorithms for future reference"
   ]
  },
  {
   "cell_type": "markdown",
   "metadata": {},
   "source": [
    "One last thing we must do before we split the data into train and test sets, we must normalize the values. As all are values are now numerical, and there are no NaN values, we can do that without too much trouble. The normalization will only be done on the values which will be given to us in the future for prediction (all data except the attribute which we have decided to predict: the overall satisfaction of the reviewer). In this case, the overall satisfaction is already normalized as it comprises of values 0 and 1 only, but in general it is not necessary to normalize the attribute for prediction.<br>\n",
    "We choose normalization and not standardization due to there being no outliers in this dataset.<br><br>\n",
    "To normalize the data, we first split it to x and y, and mentioned above."
   ]
  },
  {
   "cell_type": "code",
   "execution_count": 16,
   "metadata": {},
   "outputs": [],
   "source": [
    "x = fulldf.drop(['satisfaction'], axis = 1)\n",
    "y = fulldf['satisfaction']"
   ]
  },
  {
   "cell_type": "markdown",
   "metadata": {},
   "source": [
    "Next, we use the function min_max_scaler.fit_transform() to achieve normalization of the data."
   ]
  },
  {
   "cell_type": "code",
   "execution_count": 17,
   "metadata": {},
   "outputs": [
    {
     "data": {
      "text/html": [
       "<div>\n",
       "<style scoped>\n",
       "    .dataframe tbody tr th:only-of-type {\n",
       "        vertical-align: middle;\n",
       "    }\n",
       "\n",
       "    .dataframe tbody tr th {\n",
       "        vertical-align: top;\n",
       "    }\n",
       "\n",
       "    .dataframe thead th {\n",
       "        text-align: right;\n",
       "    }\n",
       "</style>\n",
       "<table border=\"1\" class=\"dataframe\">\n",
       "  <thead>\n",
       "    <tr style=\"text-align: right;\">\n",
       "      <th></th>\n",
       "      <th>0</th>\n",
       "      <th>1</th>\n",
       "      <th>2</th>\n",
       "      <th>3</th>\n",
       "      <th>4</th>\n",
       "      <th>5</th>\n",
       "      <th>6</th>\n",
       "      <th>7</th>\n",
       "      <th>8</th>\n",
       "      <th>9</th>\n",
       "      <th>...</th>\n",
       "      <th>11</th>\n",
       "      <th>12</th>\n",
       "      <th>13</th>\n",
       "      <th>14</th>\n",
       "      <th>15</th>\n",
       "      <th>16</th>\n",
       "      <th>17</th>\n",
       "      <th>18</th>\n",
       "      <th>19</th>\n",
       "      <th>20</th>\n",
       "    </tr>\n",
       "  </thead>\n",
       "  <tbody>\n",
       "    <tr>\n",
       "      <th>0</th>\n",
       "      <td>1.0</td>\n",
       "      <td>1.0</td>\n",
       "      <td>0.576923</td>\n",
       "      <td>1.0</td>\n",
       "      <td>0.0</td>\n",
       "      <td>0.026050</td>\n",
       "      <td>1.0</td>\n",
       "      <td>0.8</td>\n",
       "      <td>0.6</td>\n",
       "      <td>0.8</td>\n",
       "      <td>...</td>\n",
       "      <td>0.8</td>\n",
       "      <td>0.6</td>\n",
       "      <td>1.0</td>\n",
       "      <td>1.0</td>\n",
       "      <td>1.0</td>\n",
       "      <td>1.00</td>\n",
       "      <td>0.4</td>\n",
       "      <td>1.0</td>\n",
       "      <td>1.0</td>\n",
       "      <td>0.027778</td>\n",
       "    </tr>\n",
       "    <tr>\n",
       "      <th>1</th>\n",
       "      <td>1.0</td>\n",
       "      <td>1.0</td>\n",
       "      <td>0.371795</td>\n",
       "      <td>1.0</td>\n",
       "      <td>1.0</td>\n",
       "      <td>0.571890</td>\n",
       "      <td>0.2</td>\n",
       "      <td>0.2</td>\n",
       "      <td>0.6</td>\n",
       "      <td>0.2</td>\n",
       "      <td>...</td>\n",
       "      <td>0.8</td>\n",
       "      <td>1.0</td>\n",
       "      <td>0.8</td>\n",
       "      <td>0.8</td>\n",
       "      <td>0.8</td>\n",
       "      <td>0.75</td>\n",
       "      <td>0.6</td>\n",
       "      <td>0.8</td>\n",
       "      <td>1.0</td>\n",
       "      <td>0.000000</td>\n",
       "    </tr>\n",
       "    <tr>\n",
       "      <th>2</th>\n",
       "      <td>0.0</td>\n",
       "      <td>0.0</td>\n",
       "      <td>0.166667</td>\n",
       "      <td>1.0</td>\n",
       "      <td>0.0</td>\n",
       "      <td>0.032512</td>\n",
       "      <td>0.4</td>\n",
       "      <td>0.0</td>\n",
       "      <td>0.4</td>\n",
       "      <td>0.8</td>\n",
       "      <td>...</td>\n",
       "      <td>0.4</td>\n",
       "      <td>0.4</td>\n",
       "      <td>0.4</td>\n",
       "      <td>0.8</td>\n",
       "      <td>0.2</td>\n",
       "      <td>0.50</td>\n",
       "      <td>0.4</td>\n",
       "      <td>0.4</td>\n",
       "      <td>0.4</td>\n",
       "      <td>0.000000</td>\n",
       "    </tr>\n",
       "    <tr>\n",
       "      <th>3</th>\n",
       "      <td>0.0</td>\n",
       "      <td>1.0</td>\n",
       "      <td>0.474359</td>\n",
       "      <td>1.0</td>\n",
       "      <td>1.0</td>\n",
       "      <td>0.675687</td>\n",
       "      <td>0.0</td>\n",
       "      <td>0.0</td>\n",
       "      <td>0.0</td>\n",
       "      <td>0.4</td>\n",
       "      <td>...</td>\n",
       "      <td>0.8</td>\n",
       "      <td>0.8</td>\n",
       "      <td>0.2</td>\n",
       "      <td>0.2</td>\n",
       "      <td>0.2</td>\n",
       "      <td>0.00</td>\n",
       "      <td>0.6</td>\n",
       "      <td>0.2</td>\n",
       "      <td>0.8</td>\n",
       "      <td>0.003788</td>\n",
       "    </tr>\n",
       "    <tr>\n",
       "      <th>4</th>\n",
       "      <td>1.0</td>\n",
       "      <td>1.0</td>\n",
       "      <td>0.538462</td>\n",
       "      <td>1.0</td>\n",
       "      <td>0.0</td>\n",
       "      <td>0.232431</td>\n",
       "      <td>0.4</td>\n",
       "      <td>0.6</td>\n",
       "      <td>0.8</td>\n",
       "      <td>0.6</td>\n",
       "      <td>...</td>\n",
       "      <td>0.2</td>\n",
       "      <td>0.4</td>\n",
       "      <td>0.4</td>\n",
       "      <td>0.4</td>\n",
       "      <td>0.4</td>\n",
       "      <td>0.25</td>\n",
       "      <td>0.8</td>\n",
       "      <td>0.4</td>\n",
       "      <td>0.8</td>\n",
       "      <td>0.012626</td>\n",
       "    </tr>\n",
       "    <tr>\n",
       "      <th>...</th>\n",
       "      <td>...</td>\n",
       "      <td>...</td>\n",
       "      <td>...</td>\n",
       "      <td>...</td>\n",
       "      <td>...</td>\n",
       "      <td>...</td>\n",
       "      <td>...</td>\n",
       "      <td>...</td>\n",
       "      <td>...</td>\n",
       "      <td>...</td>\n",
       "      <td>...</td>\n",
       "      <td>...</td>\n",
       "      <td>...</td>\n",
       "      <td>...</td>\n",
       "      <td>...</td>\n",
       "      <td>...</td>\n",
       "      <td>...</td>\n",
       "      <td>...</td>\n",
       "      <td>...</td>\n",
       "      <td>...</td>\n",
       "      <td>...</td>\n",
       "    </tr>\n",
       "    <tr>\n",
       "      <th>129875</th>\n",
       "      <td>1.0</td>\n",
       "      <td>0.0</td>\n",
       "      <td>0.205128</td>\n",
       "      <td>1.0</td>\n",
       "      <td>0.0</td>\n",
       "      <td>0.032512</td>\n",
       "      <td>0.4</td>\n",
       "      <td>0.2</td>\n",
       "      <td>0.4</td>\n",
       "      <td>0.6</td>\n",
       "      <td>...</td>\n",
       "      <td>0.4</td>\n",
       "      <td>0.4</td>\n",
       "      <td>0.4</td>\n",
       "      <td>0.6</td>\n",
       "      <td>0.2</td>\n",
       "      <td>0.75</td>\n",
       "      <td>0.4</td>\n",
       "      <td>0.6</td>\n",
       "      <td>0.4</td>\n",
       "      <td>0.000000</td>\n",
       "    </tr>\n",
       "    <tr>\n",
       "      <th>129876</th>\n",
       "      <td>0.0</td>\n",
       "      <td>1.0</td>\n",
       "      <td>0.538462</td>\n",
       "      <td>1.0</td>\n",
       "      <td>1.0</td>\n",
       "      <td>0.467690</td>\n",
       "      <td>0.8</td>\n",
       "      <td>0.8</td>\n",
       "      <td>0.8</td>\n",
       "      <td>0.8</td>\n",
       "      <td>...</td>\n",
       "      <td>0.8</td>\n",
       "      <td>1.0</td>\n",
       "      <td>1.0</td>\n",
       "      <td>1.0</td>\n",
       "      <td>1.0</td>\n",
       "      <td>1.00</td>\n",
       "      <td>1.0</td>\n",
       "      <td>1.0</td>\n",
       "      <td>0.8</td>\n",
       "      <td>0.000000</td>\n",
       "    </tr>\n",
       "    <tr>\n",
       "      <th>129877</th>\n",
       "      <td>0.0</td>\n",
       "      <td>0.0</td>\n",
       "      <td>0.294872</td>\n",
       "      <td>1.0</td>\n",
       "      <td>1.0</td>\n",
       "      <td>0.396607</td>\n",
       "      <td>0.2</td>\n",
       "      <td>0.2</td>\n",
       "      <td>0.2</td>\n",
       "      <td>0.6</td>\n",
       "      <td>...</td>\n",
       "      <td>0.2</td>\n",
       "      <td>1.0</td>\n",
       "      <td>0.8</td>\n",
       "      <td>0.6</td>\n",
       "      <td>0.4</td>\n",
       "      <td>0.75</td>\n",
       "      <td>1.0</td>\n",
       "      <td>1.0</td>\n",
       "      <td>0.8</td>\n",
       "      <td>0.008838</td>\n",
       "    </tr>\n",
       "    <tr>\n",
       "      <th>129878</th>\n",
       "      <td>1.0</td>\n",
       "      <td>0.0</td>\n",
       "      <td>0.192308</td>\n",
       "      <td>1.0</td>\n",
       "      <td>0.0</td>\n",
       "      <td>0.195679</td>\n",
       "      <td>0.2</td>\n",
       "      <td>0.2</td>\n",
       "      <td>0.2</td>\n",
       "      <td>1.0</td>\n",
       "      <td>...</td>\n",
       "      <td>0.2</td>\n",
       "      <td>0.2</td>\n",
       "      <td>0.2</td>\n",
       "      <td>0.8</td>\n",
       "      <td>1.0</td>\n",
       "      <td>0.00</td>\n",
       "      <td>1.0</td>\n",
       "      <td>0.8</td>\n",
       "      <td>0.2</td>\n",
       "      <td>0.000000</td>\n",
       "    </tr>\n",
       "    <tr>\n",
       "      <th>129879</th>\n",
       "      <td>0.0</td>\n",
       "      <td>1.0</td>\n",
       "      <td>0.256410</td>\n",
       "      <td>1.0</td>\n",
       "      <td>1.0</td>\n",
       "      <td>0.341680</td>\n",
       "      <td>0.2</td>\n",
       "      <td>0.6</td>\n",
       "      <td>0.6</td>\n",
       "      <td>0.6</td>\n",
       "      <td>...</td>\n",
       "      <td>0.2</td>\n",
       "      <td>0.2</td>\n",
       "      <td>0.2</td>\n",
       "      <td>0.2</td>\n",
       "      <td>0.2</td>\n",
       "      <td>0.75</td>\n",
       "      <td>0.8</td>\n",
       "      <td>0.6</td>\n",
       "      <td>0.2</td>\n",
       "      <td>0.000000</td>\n",
       "    </tr>\n",
       "  </tbody>\n",
       "</table>\n",
       "<p>129880 rows × 21 columns</p>\n",
       "</div>"
      ],
      "text/plain": [
       "         0    1         2    3    4         5    6    7    8    9   ...   11  \\\n",
       "0       1.0  1.0  0.576923  1.0  0.0  0.026050  1.0  0.8  0.6  0.8  ...  0.8   \n",
       "1       1.0  1.0  0.371795  1.0  1.0  0.571890  0.2  0.2  0.6  0.2  ...  0.8   \n",
       "2       0.0  0.0  0.166667  1.0  0.0  0.032512  0.4  0.0  0.4  0.8  ...  0.4   \n",
       "3       0.0  1.0  0.474359  1.0  1.0  0.675687  0.0  0.0  0.0  0.4  ...  0.8   \n",
       "4       1.0  1.0  0.538462  1.0  0.0  0.232431  0.4  0.6  0.8  0.6  ...  0.2   \n",
       "...     ...  ...       ...  ...  ...       ...  ...  ...  ...  ...  ...  ...   \n",
       "129875  1.0  0.0  0.205128  1.0  0.0  0.032512  0.4  0.2  0.4  0.6  ...  0.4   \n",
       "129876  0.0  1.0  0.538462  1.0  1.0  0.467690  0.8  0.8  0.8  0.8  ...  0.8   \n",
       "129877  0.0  0.0  0.294872  1.0  1.0  0.396607  0.2  0.2  0.2  0.6  ...  0.2   \n",
       "129878  1.0  0.0  0.192308  1.0  0.0  0.195679  0.2  0.2  0.2  1.0  ...  0.2   \n",
       "129879  0.0  1.0  0.256410  1.0  1.0  0.341680  0.2  0.6  0.6  0.6  ...  0.2   \n",
       "\n",
       "         12   13   14   15    16   17   18   19        20  \n",
       "0       0.6  1.0  1.0  1.0  1.00  0.4  1.0  1.0  0.027778  \n",
       "1       1.0  0.8  0.8  0.8  0.75  0.6  0.8  1.0  0.000000  \n",
       "2       0.4  0.4  0.8  0.2  0.50  0.4  0.4  0.4  0.000000  \n",
       "3       0.8  0.2  0.2  0.2  0.00  0.6  0.2  0.8  0.003788  \n",
       "4       0.4  0.4  0.4  0.4  0.25  0.8  0.4  0.8  0.012626  \n",
       "...     ...  ...  ...  ...   ...  ...  ...  ...       ...  \n",
       "129875  0.4  0.4  0.6  0.2  0.75  0.4  0.6  0.4  0.000000  \n",
       "129876  1.0  1.0  1.0  1.0  1.00  1.0  1.0  0.8  0.000000  \n",
       "129877  1.0  0.8  0.6  0.4  0.75  1.0  1.0  0.8  0.008838  \n",
       "129878  0.2  0.2  0.8  1.0  0.00  1.0  0.8  0.2  0.000000  \n",
       "129879  0.2  0.2  0.2  0.2  0.75  0.8  0.6  0.2  0.000000  \n",
       "\n",
       "[129880 rows x 21 columns]"
      ]
     },
     "execution_count": 17,
     "metadata": {},
     "output_type": "execute_result"
    }
   ],
   "source": [
    "z = x.values #returns a numpy array\n",
    "min_max_scaler = MinMaxScaler()\n",
    "z_scaled = min_max_scaler.fit_transform(z)\n",
    "x = pd.DataFrame(z_scaled)\n",
    "x"
   ]
  },
  {
   "cell_type": "markdown",
   "metadata": {},
   "source": [
    "## Models\n",
    "Now that we are finished with data cleaning, we have a dataset, where there are no NaN values, all attributes are numerical and normalized, we can split the data using the train_test_split() method. The method splits the data according to a random state (an integer), so that over multiple reruns, the resulting dataframes from the method remain the same. The test size is set to 0.1 (10%), which results in close to 13000 records (which is enough in my opinion)."
   ]
  },
  {
   "cell_type": "code",
   "execution_count": 18,
   "metadata": {},
   "outputs": [],
   "source": [
    "X_train, X_test, y_train, y_test = train_test_split(x, y, test_size = 0.1, random_state = 0)"
   ]
  },
  {
   "cell_type": "markdown",
   "metadata": {},
   "source": [
    "### Dummy Classifier"
   ]
  },
  {
   "cell_type": "markdown",
   "metadata": {},
   "source": [
    "Now that we have split our data, we can get down to the models. Before choosing and applying the models to the data, we need a baseline model, to compare all others to it: if the models thereafter are worse than the base model, we are doing something wrong. If the model is better than the base model, on the other hand, it means that the model works, and can be better at predicting than a \"dummy\" model. The base model we will use is \"Dummy Classifier\", which will, regardless of the input, put in the most frequent value in y_train. It puts in the most frequent value due to the strategy we have put into the model, although we could choose differently, but this strategy seems to return the best results.<br><br>\n",
    "\n",
    "after using the model.fit() and model.predict() methods, we can use the metrics.accuracy_score() method to test a see which percentage of the predictions made by the dummy classifier were correct. in our case, the percentage of correct answers is 56.7%. Not bad, although not unexpected, as it almost certainly would have to be over 50%, as out of the 2 options, the dummy classifier chose the one which appeared the most."
   ]
  },
  {
   "cell_type": "code",
   "execution_count": 19,
   "metadata": {},
   "outputs": [
    {
     "data": {
      "text/plain": [
       "0.5637511549122267"
      ]
     },
     "execution_count": 19,
     "metadata": {},
     "output_type": "execute_result"
    }
   ],
   "source": [
    "dummyModel = DummyClassifier(strategy=\"most_frequent\")\n",
    "dummyModel.fit(X_train, y_train)\n",
    "predictionsDummy = dummyModel.predict(X_test)\n",
    "\n",
    "accuracyDummy = metrics.accuracy_score(y_test, predictionsDummy)\n",
    "accuracyDummy"
   ]
  },
  {
   "cell_type": "markdown",
   "metadata": {},
   "source": [
    "We shall plot a confusion matrix to visualize how many values the dummy classifier predicted correctly (the confusion matrix is explained in detail later in the notebook."
   ]
  },
  {
   "cell_type": "code",
   "execution_count": 20,
   "metadata": {},
   "outputs": [
    {
     "data": {
      "text/plain": [
       "<AxesSubplot:>"
      ]
     },
     "execution_count": 20,
     "metadata": {},
     "output_type": "execute_result"
    },
    {
     "data": {
      "image/png": "[encoded data removed]",
      "text/plain": [
       "<Figure size 360x288 with 2 Axes>"
      ]
     },
     "metadata": {
      "needs_background": "light"
     },
     "output_type": "display_data"
    }
   ],
   "source": [
    "plt.figure(figsize=(5,4))\n",
    "sns.heatmap(confusion_matrix(y_test, predictionsDummy), cmap = \"Blues\", annot=True, fmt = '.0f')"
   ]
  },
  {
   "cell_type": "markdown",
   "metadata": {},
   "source": [
    "### KNN: K Nearest Neighbor"
   ]
  },
  {
   "cell_type": "markdown",
   "metadata": {},
   "source": [
    "Now that we know what we strive for (a model that returns an accuracy of more than 0.56), we can start applying a model to the data that does something more than the dummy classifier. We will first use the KNN model. The KNN model (K nearest Neighbors) is one that chooses the value closest to the values from the train set. if K = 1, then it chooses depending on the single closest neighbor to the wanted data; if N > 1, then it chooses the label depending on the N closest neighbors (in terms of data). The \"weights\" parameter specifies whether the model is to give a higher penalty for the neighbors further away or to count their value as equally valuable to determine the label.<br><br>\n",
    "\n",
    "In the cell below we run a function, which purpose is to determine the best N value, meaning the number of neighbors for which the data works best. True, the differences seem not very significant between the different values, but I believe it gives perspective.<br>\n",
    "*Note: Due to the function run time being abysmal (several minutes), we will save the results in a different variable, and put the function call as a comment, so as not to delay the running of the notebook."
   ]
  },
  {
   "cell_type": "code",
   "execution_count": 21,
   "metadata": {},
   "outputs": [],
   "source": [
    "def chooseKNN():\n",
    "    maxi = 1 #saving the index of the highest score\n",
    "    max = 0 #saving the value of the highest score\n",
    "    for i in range(1,20):\n",
    "        modelKNN = KNeighborsClassifier(n_neighbors = i, weights='distance')\n",
    "        modelKNN.fit(X_train, y_train)\n",
    "        accuracy = modelKNN.score(X_test, y_test)\n",
    "        if (accuracy > max):\n",
    "            maxi = i\n",
    "            max = accuracy\n",
    "    print(maxi, \"  \", max)\n",
    "#chooseKNN()\n",
    "#The value for maxi returned was: 9\n",
    "#The value for max was: 0.9335540498922081"
   ]
  },
  {
   "cell_type": "markdown",
   "metadata": {},
   "source": [
    "We have identified the best number of neighbors for this data: 9. We shall run the model one last time to record the predictions made, to calculate the model's accuracy using measures other than the built in score() method."
   ]
  },
  {
   "cell_type": "code",
   "execution_count": 22,
   "metadata": {},
   "outputs": [
    {
     "ename": "KeyboardInterrupt",
     "evalue": "",
     "output_type": "error",
     "traceback": [
      "\u001b[1;31m---------------------------------------------------------------------------\u001b[0m",
      "\u001b[1;31mKeyboardInterrupt\u001b[0m                         Traceback (most recent call last)",
      "\u001b[1;32m<ipython-input-22-14a33e313756>\u001b[0m in \u001b[0;36m<module>\u001b[1;34m\u001b[0m\n\u001b[0;32m      1\u001b[0m \u001b[0mmodelKNN\u001b[0m \u001b[1;33m=\u001b[0m \u001b[0mKNeighborsClassifier\u001b[0m\u001b[1;33m(\u001b[0m\u001b[0mn_neighbors\u001b[0m \u001b[1;33m=\u001b[0m \u001b[1;36m9\u001b[0m\u001b[1;33m,\u001b[0m \u001b[0mweights\u001b[0m\u001b[1;33m=\u001b[0m\u001b[1;34m'distance'\u001b[0m\u001b[1;33m)\u001b[0m\u001b[1;33m\u001b[0m\u001b[1;33m\u001b[0m\u001b[0m\n\u001b[0;32m      2\u001b[0m \u001b[0mmodelKNN\u001b[0m\u001b[1;33m.\u001b[0m\u001b[0mfit\u001b[0m\u001b[1;33m(\u001b[0m\u001b[0mX_train\u001b[0m\u001b[1;33m,\u001b[0m \u001b[0my_train\u001b[0m\u001b[1;33m)\u001b[0m\u001b[1;33m\u001b[0m\u001b[1;33m\u001b[0m\u001b[0m\n\u001b[1;32m----> 3\u001b[1;33m \u001b[0mpredictionsKNN\u001b[0m \u001b[1;33m=\u001b[0m \u001b[0mmodelKNN\u001b[0m\u001b[1;33m.\u001b[0m\u001b[0mpredict\u001b[0m\u001b[1;33m(\u001b[0m\u001b[0mX_test\u001b[0m\u001b[1;33m)\u001b[0m\u001b[1;33m\u001b[0m\u001b[1;33m\u001b[0m\u001b[0m\n\u001b[0m\u001b[0;32m      4\u001b[0m \u001b[0maccuracyKNN\u001b[0m \u001b[1;33m=\u001b[0m \u001b[0mmetrics\u001b[0m\u001b[1;33m.\u001b[0m\u001b[0maccuracy_score\u001b[0m\u001b[1;33m(\u001b[0m\u001b[0my_test\u001b[0m\u001b[1;33m,\u001b[0m \u001b[0mpredictionsKNN\u001b[0m\u001b[1;33m)\u001b[0m \u001b[1;31m#Resturns the same value as the score() method in the\u001b[0m\u001b[1;33m\u001b[0m\u001b[1;33m\u001b[0m\u001b[0m\n\u001b[0;32m      5\u001b[0m \u001b[1;31m#previous cell\u001b[0m\u001b[1;33m\u001b[0m\u001b[1;33m\u001b[0m\u001b[1;33m\u001b[0m\u001b[0m\n",
      "\u001b[1;32m~\\anaconda3\\lib\\site-packages\\sklearn\\neighbors\\_classification.py\u001b[0m in \u001b[0;36mpredict\u001b[1;34m(self, X)\u001b[0m\n\u001b[0;32m    195\u001b[0m         \u001b[0mX\u001b[0m \u001b[1;33m=\u001b[0m \u001b[0mcheck_array\u001b[0m\u001b[1;33m(\u001b[0m\u001b[0mX\u001b[0m\u001b[1;33m,\u001b[0m \u001b[0maccept_sparse\u001b[0m\u001b[1;33m=\u001b[0m\u001b[1;34m'csr'\u001b[0m\u001b[1;33m)\u001b[0m\u001b[1;33m\u001b[0m\u001b[1;33m\u001b[0m\u001b[0m\n\u001b[0;32m    196\u001b[0m \u001b[1;33m\u001b[0m\u001b[0m\n\u001b[1;32m--> 197\u001b[1;33m         \u001b[0mneigh_dist\u001b[0m\u001b[1;33m,\u001b[0m \u001b[0mneigh_ind\u001b[0m \u001b[1;33m=\u001b[0m \u001b[0mself\u001b[0m\u001b[1;33m.\u001b[0m\u001b[0mkneighbors\u001b[0m\u001b[1;33m(\u001b[0m\u001b[0mX\u001b[0m\u001b[1;33m)\u001b[0m\u001b[1;33m\u001b[0m\u001b[1;33m\u001b[0m\u001b[0m\n\u001b[0m\u001b[0;32m    198\u001b[0m         \u001b[0mclasses_\u001b[0m \u001b[1;33m=\u001b[0m \u001b[0mself\u001b[0m\u001b[1;33m.\u001b[0m\u001b[0mclasses_\u001b[0m\u001b[1;33m\u001b[0m\u001b[1;33m\u001b[0m\u001b[0m\n\u001b[0;32m    199\u001b[0m         \u001b[0m_y\u001b[0m \u001b[1;33m=\u001b[0m \u001b[0mself\u001b[0m\u001b[1;33m.\u001b[0m\u001b[0m_y\u001b[0m\u001b[1;33m\u001b[0m\u001b[1;33m\u001b[0m\u001b[0m\n",
      "\u001b[1;32m~\\anaconda3\\lib\\site-packages\\sklearn\\neighbors\\_base.py\u001b[0m in \u001b[0;36mkneighbors\u001b[1;34m(self, X, n_neighbors, return_distance)\u001b[0m\n\u001b[0;32m    703\u001b[0m                 \u001b[0mkwds\u001b[0m \u001b[1;33m=\u001b[0m \u001b[0mself\u001b[0m\u001b[1;33m.\u001b[0m\u001b[0meffective_metric_params_\u001b[0m\u001b[1;33m\u001b[0m\u001b[1;33m\u001b[0m\u001b[0m\n\u001b[0;32m    704\u001b[0m \u001b[1;33m\u001b[0m\u001b[0m\n\u001b[1;32m--> 705\u001b[1;33m             chunked_results = list(pairwise_distances_chunked(\n\u001b[0m\u001b[0;32m    706\u001b[0m                 \u001b[0mX\u001b[0m\u001b[1;33m,\u001b[0m \u001b[0mself\u001b[0m\u001b[1;33m.\u001b[0m\u001b[0m_fit_X\u001b[0m\u001b[1;33m,\u001b[0m \u001b[0mreduce_func\u001b[0m\u001b[1;33m=\u001b[0m\u001b[0mreduce_func\u001b[0m\u001b[1;33m,\u001b[0m\u001b[1;33m\u001b[0m\u001b[1;33m\u001b[0m\u001b[0m\n\u001b[0;32m    707\u001b[0m                 \u001b[0mmetric\u001b[0m\u001b[1;33m=\u001b[0m\u001b[0mself\u001b[0m\u001b[1;33m.\u001b[0m\u001b[0meffective_metric_\u001b[0m\u001b[1;33m,\u001b[0m \u001b[0mn_jobs\u001b[0m\u001b[1;33m=\u001b[0m\u001b[0mn_jobs\u001b[0m\u001b[1;33m,\u001b[0m\u001b[1;33m\u001b[0m\u001b[1;33m\u001b[0m\u001b[0m\n",
      "\u001b[1;32m~\\anaconda3\\lib\\site-packages\\sklearn\\metrics\\pairwise.py\u001b[0m in \u001b[0;36mpairwise_distances_chunked\u001b[1;34m(X, Y, reduce_func, metric, n_jobs, working_memory, **kwds)\u001b[0m\n\u001b[0;32m   1631\u001b[0m         \u001b[1;32mif\u001b[0m \u001b[0mreduce_func\u001b[0m \u001b[1;32mis\u001b[0m \u001b[1;32mnot\u001b[0m \u001b[1;32mNone\u001b[0m\u001b[1;33m:\u001b[0m\u001b[1;33m\u001b[0m\u001b[1;33m\u001b[0m\u001b[0m\n\u001b[0;32m   1632\u001b[0m             \u001b[0mchunk_size\u001b[0m \u001b[1;33m=\u001b[0m \u001b[0mD_chunk\u001b[0m\u001b[1;33m.\u001b[0m\u001b[0mshape\u001b[0m\u001b[1;33m[\u001b[0m\u001b[1;36m0\u001b[0m\u001b[1;33m]\u001b[0m\u001b[1;33m\u001b[0m\u001b[1;33m\u001b[0m\u001b[0m\n\u001b[1;32m-> 1633\u001b[1;33m             \u001b[0mD_chunk\u001b[0m \u001b[1;33m=\u001b[0m \u001b[0mreduce_func\u001b[0m\u001b[1;33m(\u001b[0m\u001b[0mD_chunk\u001b[0m\u001b[1;33m,\u001b[0m \u001b[0msl\u001b[0m\u001b[1;33m.\u001b[0m\u001b[0mstart\u001b[0m\u001b[1;33m)\u001b[0m\u001b[1;33m\u001b[0m\u001b[1;33m\u001b[0m\u001b[0m\n\u001b[0m\u001b[0;32m   1634\u001b[0m             \u001b[0m_check_chunk_size\u001b[0m\u001b[1;33m(\u001b[0m\u001b[0mD_chunk\u001b[0m\u001b[1;33m,\u001b[0m \u001b[0mchunk_size\u001b[0m\u001b[1;33m)\u001b[0m\u001b[1;33m\u001b[0m\u001b[1;33m\u001b[0m\u001b[0m\n\u001b[0;32m   1635\u001b[0m         \u001b[1;32myield\u001b[0m \u001b[0mD_chunk\u001b[0m\u001b[1;33m\u001b[0m\u001b[1;33m\u001b[0m\u001b[0m\n",
      "\u001b[1;32m~\\anaconda3\\lib\\site-packages\\sklearn\\neighbors\\_base.py\u001b[0m in \u001b[0;36m_kneighbors_reduce_func\u001b[1;34m(self, dist, start, n_neighbors, return_distance)\u001b[0m\n\u001b[0;32m    580\u001b[0m         \"\"\"\n\u001b[0;32m    581\u001b[0m         \u001b[0msample_range\u001b[0m \u001b[1;33m=\u001b[0m \u001b[0mnp\u001b[0m\u001b[1;33m.\u001b[0m\u001b[0marange\u001b[0m\u001b[1;33m(\u001b[0m\u001b[0mdist\u001b[0m\u001b[1;33m.\u001b[0m\u001b[0mshape\u001b[0m\u001b[1;33m[\u001b[0m\u001b[1;36m0\u001b[0m\u001b[1;33m]\u001b[0m\u001b[1;33m)\u001b[0m\u001b[1;33m[\u001b[0m\u001b[1;33m:\u001b[0m\u001b[1;33m,\u001b[0m \u001b[1;32mNone\u001b[0m\u001b[1;33m]\u001b[0m\u001b[1;33m\u001b[0m\u001b[1;33m\u001b[0m\u001b[0m\n\u001b[1;32m--> 582\u001b[1;33m         \u001b[0mneigh_ind\u001b[0m \u001b[1;33m=\u001b[0m \u001b[0mnp\u001b[0m\u001b[1;33m.\u001b[0m\u001b[0margpartition\u001b[0m\u001b[1;33m(\u001b[0m\u001b[0mdist\u001b[0m\u001b[1;33m,\u001b[0m \u001b[0mn_neighbors\u001b[0m \u001b[1;33m-\u001b[0m \u001b[1;36m1\u001b[0m\u001b[1;33m,\u001b[0m \u001b[0maxis\u001b[0m\u001b[1;33m=\u001b[0m\u001b[1;36m1\u001b[0m\u001b[1;33m)\u001b[0m\u001b[1;33m\u001b[0m\u001b[1;33m\u001b[0m\u001b[0m\n\u001b[0m\u001b[0;32m    583\u001b[0m         \u001b[0mneigh_ind\u001b[0m \u001b[1;33m=\u001b[0m \u001b[0mneigh_ind\u001b[0m\u001b[1;33m[\u001b[0m\u001b[1;33m:\u001b[0m\u001b[1;33m,\u001b[0m \u001b[1;33m:\u001b[0m\u001b[0mn_neighbors\u001b[0m\u001b[1;33m]\u001b[0m\u001b[1;33m\u001b[0m\u001b[1;33m\u001b[0m\u001b[0m\n\u001b[0;32m    584\u001b[0m         \u001b[1;31m# argpartition doesn't guarantee sorted order, so we sort again\u001b[0m\u001b[1;33m\u001b[0m\u001b[1;33m\u001b[0m\u001b[1;33m\u001b[0m\u001b[0m\n",
      "\u001b[1;32m<__array_function__ internals>\u001b[0m in \u001b[0;36margpartition\u001b[1;34m(*args, **kwargs)\u001b[0m\n",
      "\u001b[1;32m~\\anaconda3\\lib\\site-packages\\numpy\\core\\fromnumeric.py\u001b[0m in \u001b[0;36margpartition\u001b[1;34m(a, kth, axis, kind, order)\u001b[0m\n\u001b[0;32m    830\u001b[0m \u001b[1;33m\u001b[0m\u001b[0m\n\u001b[0;32m    831\u001b[0m     \"\"\"\n\u001b[1;32m--> 832\u001b[1;33m     \u001b[1;32mreturn\u001b[0m \u001b[0m_wrapfunc\u001b[0m\u001b[1;33m(\u001b[0m\u001b[0ma\u001b[0m\u001b[1;33m,\u001b[0m \u001b[1;34m'argpartition'\u001b[0m\u001b[1;33m,\u001b[0m \u001b[0mkth\u001b[0m\u001b[1;33m,\u001b[0m \u001b[0maxis\u001b[0m\u001b[1;33m=\u001b[0m\u001b[0maxis\u001b[0m\u001b[1;33m,\u001b[0m \u001b[0mkind\u001b[0m\u001b[1;33m=\u001b[0m\u001b[0mkind\u001b[0m\u001b[1;33m,\u001b[0m \u001b[0morder\u001b[0m\u001b[1;33m=\u001b[0m\u001b[0morder\u001b[0m\u001b[1;33m)\u001b[0m\u001b[1;33m\u001b[0m\u001b[1;33m\u001b[0m\u001b[0m\n\u001b[0m\u001b[0;32m    833\u001b[0m \u001b[1;33m\u001b[0m\u001b[0m\n\u001b[0;32m    834\u001b[0m \u001b[1;33m\u001b[0m\u001b[0m\n",
      "\u001b[1;32m~\\anaconda3\\lib\\site-packages\\numpy\\core\\fromnumeric.py\u001b[0m in \u001b[0;36m_wrapfunc\u001b[1;34m(obj, method, *args, **kwds)\u001b[0m\n\u001b[0;32m     56\u001b[0m \u001b[1;33m\u001b[0m\u001b[0m\n\u001b[0;32m     57\u001b[0m     \u001b[1;32mtry\u001b[0m\u001b[1;33m:\u001b[0m\u001b[1;33m\u001b[0m\u001b[1;33m\u001b[0m\u001b[0m\n\u001b[1;32m---> 58\u001b[1;33m         \u001b[1;32mreturn\u001b[0m \u001b[0mbound\u001b[0m\u001b[1;33m(\u001b[0m\u001b[1;33m*\u001b[0m\u001b[0margs\u001b[0m\u001b[1;33m,\u001b[0m \u001b[1;33m**\u001b[0m\u001b[0mkwds\u001b[0m\u001b[1;33m)\u001b[0m\u001b[1;33m\u001b[0m\u001b[1;33m\u001b[0m\u001b[0m\n\u001b[0m\u001b[0;32m     59\u001b[0m     \u001b[1;32mexcept\u001b[0m \u001b[0mTypeError\u001b[0m\u001b[1;33m:\u001b[0m\u001b[1;33m\u001b[0m\u001b[1;33m\u001b[0m\u001b[0m\n\u001b[0;32m     60\u001b[0m         \u001b[1;31m# A TypeError occurs if the object does have such a method in its\u001b[0m\u001b[1;33m\u001b[0m\u001b[1;33m\u001b[0m\u001b[1;33m\u001b[0m\u001b[0m\n",
      "\u001b[1;31mKeyboardInterrupt\u001b[0m: "
     ]
    }
   ],
   "source": [
    "modelKNN = KNeighborsClassifier(n_neighbors = 9, weights='distance')\n",
    "modelKNN.fit(X_train, y_train)\n",
    "predictionsKNN = modelKNN.predict(X_test)\n",
    "accuracyKNN = metrics.accuracy_score(y_test, predictionsKNN) #Resturns the same value as the score() method in the\n",
    "#previous cell\n",
    "accuracyKNN"
   ]
  },
  {
   "cell_type": "markdown",
   "metadata": {},
   "source": [
    "Below we calculate the best cv parameter (K-folds) value for the cross-validation score. We run from 1 to 20. The cv value in cross validation score means the number of \"folds\" the training set is divided into.<br>\n",
    "\n",
    "Cross validation is when we divide the training set into a certain number of parts of identical length. There are made this certain number of runs, when for each run, a different one of the divided sets is set aside. The model runs as in the usual training set, then another \"piece\" of the training set is used. Their performances are recorded, and the mean value is displayed.<br><br>\n",
    "\n",
    "We have identified after these runs that 19 is the best number of k-folds for this data (out of the given range at least). As we were hoping, the r2 score matches (almost) the r2 score of the original model, meaning the model works as expected, without overfitting or underfitting (most probably).<br>\n",
    "\n",
    "*Note: As with KNN value, due to the function run time being abysmal (several minutes), we will save the results in a different variable, and put the function call as a comment, so as not to delay the running of the notebook."
   ]
  },
  {
   "cell_type": "code",
   "execution_count": null,
   "metadata": {},
   "outputs": [],
   "source": [
    "def chooseKFold(model):\n",
    "    maxi = 1 #saving the index of the highest score\n",
    "    max = 0 #saving the value of the highest score\n",
    "    for i in range(2,20):\n",
    "        accuracy = cross_val_score(model, X_train, y_train, cv = i).mean()\n",
    "        if (accuracy > max):\n",
    "            maxi = i\n",
    "            max = accuracy\n",
    "    print('Best index:', maxi, \"\\ncross_val_score of index\", maxi, ':', max)"
   ]
  },
  {
   "cell_type": "code",
   "execution_count": 24,
   "metadata": {},
   "outputs": [],
   "source": [
    "#chooseKFold(modelKNN)\n",
    "#The value for maxi returned was: 19\n",
    "#The value for max was: 0.9317832165238031"
   ]
  },
  {
   "cell_type": "markdown",
   "metadata": {},
   "source": [
    "<a id='confusion'></a>\n",
    "We now want to know exactly how well our model has performed on the task at hand. We shall plot a confusion matrix to understand how many of the answers the model got wrong and right per label for the test set.<br>\n",
    "Each cell from left to right and top to bottom: The model said 0 and it was 0, the model said 1 and it was 0, the model said 1 and it was 0, the model said 1 and it was 1.<br>\n",
    "This is of course, where 0 is \"neutral or dissatisfied\" and 1 is \"satisfied\".<br>\n",
    "In other words, the diagonal cells from top left corner are the value the model predicted correctly, all others (in this case only 2), are the ones the model predicted incorrectly.<br>\n",
    "Another thing to note, is that in general, the confusion matrix is built thus: The x axis represents the predicted labels, whereas the y axis represents the actual labels.<br>\n",
    "The confusion matrix is shown as a heatmap using seaborn."
   ]
  },
  {
   "cell_type": "code",
   "execution_count": 25,
   "metadata": {},
   "outputs": [
    {
     "data": {
      "text/plain": [
       "<AxesSubplot:>"
      ]
     },
     "execution_count": 25,
     "metadata": {},
     "output_type": "execute_result"
    },
    {
     "data": {
      "image/png": "[encoded data removed]",
      "text/plain": [
       "<Figure size 360x288 with 2 Axes>"
      ]
     },
     "metadata": {
      "needs_background": "light"
     },
     "output_type": "display_data"
    }
   ],
   "source": [
    "plt.figure(figsize=(5,4))\n",
    "sns.heatmap(confusion_matrix(y_test, predictionsKNN), cmap = \"Blues\", annot=True, fmt = '.0f')"
   ]
  },
  {
   "cell_type": "markdown",
   "metadata": {},
   "source": [
    "Next, we want to show the \"classification report\" of the model at hand (KNN). The report shows us several things:\n",
    "- Precision - Here are 2 values:<br>\n",
    "    Precision for 0: out of all predicted 0'es, how many were predicted correct? the answer according to the report is 0.92, or 92%.<br>\n",
    "    Precision for 1: out of all predicted 1's, how many were predicted correct? the answer according to the report is 0.96, or 96%.<br>\n",
    "    The equation for precision is:\n",
    "    $$ Precision = \\frac{TruePositive}{TruePositive + FalsePositive} $$<br>\n",
    "\n",
    "- Recall - Here are 2 values:<br>\n",
    "    Precision for 0: out of all true 0'es, how many were predicted correct? the answer according to the report is 0.97, or 97%.<br>\n",
    "    Precision for 1: out of all true 1's, how many were predicted correct? the answer according to the report is 0.89, or 89%.<br>\n",
    "    The equation for precision is:\n",
    "    $$ Recall = \\frac{TruePositive}{TruePositive + FalseNegative} $$<br>\n",
    "    \n",
    "- F1 score - The overall evaluation of the model. calculated by the equation for each value:\n",
    "  $$ F1 = 2 \\times \\frac{Precision \\times Recall}{Precision + Recall} $$<br>\n",
    "\n",
    "- Accuracy - How many predictions were made correctly. The report shows us that the accuracy of the KNN model is 0.93, or 93%\n",
    "\n",
    "- Support - The column states the number of true occurrences of each of the 2 values in the dataset, as well as them combined (the last 3 values of support)"
   ]
  },
  {
   "cell_type": "code",
   "execution_count": 26,
   "metadata": {},
   "outputs": [
    {
     "name": "stdout",
     "output_type": "stream",
     "text": [
      "              precision    recall  f1-score   support\n",
      "\n",
      "           0       0.92      0.97      0.94      7322\n",
      "           1       0.96      0.89      0.92      5666\n",
      "\n",
      "    accuracy                           0.93     12988\n",
      "   macro avg       0.94      0.93      0.93     12988\n",
      "weighted avg       0.93      0.93      0.93     12988\n",
      "\n"
     ]
    }
   ],
   "source": [
    "print(classification_report(y_test, predictionsKNN))"
   ]
  },
  {
   "cell_type": "markdown",
   "metadata": {},
   "source": [
    "### Logistic Regression"
   ]
  },
  {
   "cell_type": "markdown",
   "metadata": {},
   "source": [
    "For our second model we will choose Logistic Regression. This model is chosen because it makes no assumptions regarding the distribution of labels, it works according to probabilities which it calculates for each record in the dataframe, and it is a fairly simple model that yet works well with many datasets. The model tries to fit an S shape to the data (as opposed to linear regression that fits a straight line), where the edges of the S are values where the probability is very high for a label to occur, and closer to the middle of the S, it is lower. We can also set a threshold \"on the S\", from which the model will predict a certain value. This is usually done when a certain value is preferred over the other. As we try to be objective with the reviews, we will not do it.<br><br>\n",
    "As done with the KNN model, we define the model, use fit() and predict() methods and calculate and present the accuracy of the model, in this case 0.87 or 87%"
   ]
  },
  {
   "cell_type": "code",
   "execution_count": 27,
   "metadata": {},
   "outputs": [
    {
     "data": {
      "text/plain": [
       "0.8728826609177702"
      ]
     },
     "execution_count": 27,
     "metadata": {},
     "output_type": "execute_result"
    }
   ],
   "source": [
    "modelLogReg = LogisticRegression()\n",
    "modelLogReg.fit(X_train, y_train)\n",
    "predictionsLogReg = modelLogReg.predict(X_test)\n",
    "accuracyLogReg = modelLogReg.score(X_test, y_test)\n",
    "accuracyLogReg"
   ]
  },
  {
   "cell_type": "markdown",
   "metadata": {},
   "source": [
    "Below, again, the function for identifying the optimal k-fold was called. As is clearly visible, the result is very similar to the original model of Logistic Regression, meaning the model works as should, without overfitting or underfitting (most probably)."
   ]
  },
  {
   "cell_type": "code",
   "execution_count": 28,
   "metadata": {},
   "outputs": [
    {
     "name": "stdout",
     "output_type": "stream",
     "text": [
      "The values returned by the function were:\n",
      " The optimal K-fold is: 12 and its score is 0.8742771104951578\n"
     ]
    }
   ],
   "source": [
    "#chooseKFold(modelLogReg)\n",
    "print('The values returned by the function were:\\n', 'The optimal K-fold is: 12 and its score is 0.8742771104951578')"
   ]
  },
  {
   "cell_type": "markdown",
   "metadata": {},
   "source": [
    "As in KNN, we show the confusion matrix as a heatmap and the classification report."
   ]
  },
  {
   "cell_type": "code",
   "execution_count": 29,
   "metadata": {},
   "outputs": [
    {
     "data": {
      "text/plain": [
       "<AxesSubplot:>"
      ]
     },
     "execution_count": 29,
     "metadata": {},
     "output_type": "execute_result"
    },
    {
     "data": {
      "image/png": "[encoded data removed]",
      "text/plain": [
       "<Figure size 360x288 with 2 Axes>"
      ]
     },
     "metadata": {
      "needs_background": "light"
     },
     "output_type": "display_data"
    }
   ],
   "source": [
    "plt.figure(figsize=(5,4))\n",
    "sns.heatmap(confusion_matrix(y_test, predictionsLogReg), cmap = \"Blues\", annot=True, fmt = '.0f')"
   ]
  },
  {
   "cell_type": "code",
   "execution_count": 30,
   "metadata": {},
   "outputs": [
    {
     "name": "stdout",
     "output_type": "stream",
     "text": [
      "              precision    recall  f1-score   support\n",
      "\n",
      "           0       0.88      0.90      0.89      7322\n",
      "           1       0.87      0.84      0.85      5666\n",
      "\n",
      "    accuracy                           0.87     12988\n",
      "   macro avg       0.87      0.87      0.87     12988\n",
      "weighted avg       0.87      0.87      0.87     12988\n",
      "\n"
     ]
    }
   ],
   "source": [
    "print(classification_report(y_test, predictionsLogReg))"
   ]
  },
  {
   "cell_type": "markdown",
   "metadata": {},
   "source": [
    "<a id='ROC'></a>\n",
    "In the following cells, we will plot the ROC curve for the 3 models we have. The ROC curve describes the performance of the model/s according to the confusion matrix. With the changes in thresholds from the default (0.5 in our case), so does change the confusion matrix, and more specifically the ratio between the right and the left columns of it. As one increases, the other decreases. Likewise, when a bottom cell of a certain column increases, so does the other one in the same column. The later relationship is shown plainly as the ROC curve.<br>\n",
    "To plot the curve, we first calculate and save the probabilities of every model we want to present. The probabilities are returned as a 2D array, but we only need a single column. The second column (\"1\") was chosen. we use the metrics.roc_curve() method to return 3 values, the first 2 of which will be used as the x and y axis as their names imply (fpr = false positive rate; trp = true positive rate).<br>\n",
    "The code that comes after is the plotting of the graphs, the naming of axis and the showing of legend."
   ]
  },
  {
   "cell_type": "code",
   "execution_count": 31,
   "metadata": {},
   "outputs": [],
   "source": [
    "probsKNN = modelKNN.predict_proba(X_test)[:, 1]\n",
    "probsLogReg = modelLogReg.predict_proba(X_test)[:, 1]\n",
    "dummyProbs = dummyModel.predict_proba(X_test)[:, 1]"
   ]
  },
  {
   "cell_type": "code",
   "execution_count": 32,
   "metadata": {},
   "outputs": [
    {
     "data": {
      "text/plain": [
       "<matplotlib.legend.Legend at 0x1b114cd7910>"
      ]
     },
     "execution_count": 32,
     "metadata": {},
     "output_type": "execute_result"
    },
    {
     "data": {
      "image/png": "[encoded data removed]",
      "text/plain": [
       "<Figure size 432x288 with 1 Axes>"
      ]
     },
     "metadata": {
      "needs_background": "light"
     },
     "output_type": "display_data"
    }
   ],
   "source": [
    "fprLR, tprLR, thresholdsLR = metrics.roc_curve(y_test, probsLogReg)\n",
    "fprKNN, tprKNN, thresholdsKNN = metrics.roc_curve(y_test, probsKNN)\n",
    "fprDummy, tprDummy, thresholdsDummy = metrics.roc_curve(y_test, dummyProbs)\n",
    "fig = plt.figure()\n",
    "axes = fig.add_axes([0,0,1,1])\n",
    "axes.plot(fprLR, tprLR, label = \"LogReg\")\n",
    "axes.plot(fprKNN, tprKNN, label = \"KNN\")\n",
    "axes.plot(fprDummy, tprDummy, label = \"Dummy\")\n",
    "axes.set_xlabel(\"False positive rate\")\n",
    "axes.set_ylabel(\"True positive rate\")\n",
    "axes.set_title(\"ROC Curve for KNN, Logistic regression, Dummy\")\n",
    "axes.legend()"
   ]
  },
  {
   "cell_type": "markdown",
   "metadata": {},
   "source": [
    "For absolution, we seek to calculate the AUC of each model: the area under the ROC curve. Using the built-in method metrics.auc() to calculate. The results are plain. Out of the 3 models shown, the KNN is the best, although the logistic regression is not bad too. The dummy, as predicted, should not be used."
   ]
  },
  {
   "cell_type": "code",
   "execution_count": 33,
   "metadata": {},
   "outputs": [
    {
     "name": "stdout",
     "output_type": "stream",
     "text": [
      "AUC of Logistic Regression model: 0.9248094052487305\n",
      "AUC of KNN model: 0.9779561771153629\n",
      "AUC of Dummy model: 0.5\n"
     ]
    }
   ],
   "source": [
    "print('AUC of Logistic Regression model:', metrics.auc(fprLR, tprLR))\n",
    "print('AUC of KNN model:', metrics.auc(fprKNN, tprKNN))\n",
    "print('AUC of Dummy model:', metrics.auc(fprDummy, tprDummy))"
   ]
  },
  {
   "cell_type": "markdown",
   "metadata": {},
   "source": [
    "Let us show the accuracy scores of the 3 models:"
   ]
  },
  {
   "cell_type": "code",
   "execution_count": 34,
   "metadata": {},
   "outputs": [
    {
     "data": {
      "text/plain": [
       "Text(0.5, 1.0, 'Accuracy Scores of the different models')"
      ]
     },
     "execution_count": 34,
     "metadata": {},
     "output_type": "execute_result"
    },
    {
     "data": {
      "image/png": "[encoded data removed]",
      "text/plain": [
       "<Figure size 432x288 with 1 Axes>"
      ]
     },
     "metadata": {
      "needs_background": "light"
     },
     "output_type": "display_data"
    }
   ],
   "source": [
    "fig = plt.figure()\n",
    "accuracies = [accuracyDummy, accuracyKNN, accuracyLogReg]\n",
    "accuraciesSize = np.arange(len(accuracies))\n",
    "axes = fig.add_axes([0,0,1,1])\n",
    "axes.bar(['Dummy', 'KNN', 'Logistic Regression'], accuracies)\n",
    "axes.set_ylabel(\"Accuracy Score\")\n",
    "axes.set_title(\"Accuracy Scores of the different models\")"
   ]
  },
  {
   "cell_type": "markdown",
   "metadata": {},
   "source": [
    "To conclude, we have tested 2 models (3 if you count the dummy) on the dataset to determine passenger’s satisfaction of the airline after they have taken the survey. The best model out of the 3 is undoubtedly the KNN (for this specific dataset). With a high accuracy rate (0.93) and a high value of the AUC of the ROC curve."
   ]
  },
  {
   "cell_type": "markdown",
   "metadata": {},
   "source": [
    "# ---------------------------------------------------------------"
   ]
  },
  {
   "cell_type": "markdown",
   "metadata": {},
   "source": [
    "# Continuing from first semester henceforth..."
   ]
  },
  {
   "cell_type": "markdown",
   "metadata": {},
   "source": [
    "The purpose of the continuation of this notebook is to try and improve the performance of the classifiers from the first semester, using the techniques newly learned and examined. Moreover, a bigger accent will be put on runtime of the models, with a slighly less \"accuracy only\" approach. Naturally, we are not certain that such an improvement can be made, especially with our already high accuracy rate."
   ]
  },
  {
   "cell_type": "code",
   "execution_count": 24,
   "metadata": {},
   "outputs": [],
   "source": [
    "from sklearn.ensemble import RandomForestClassifier\n",
    "from sklearn.ensemble import AdaBoostClassifier\n",
    "from sklearn.tree import DecisionTreeClassifier\n",
    "import xgboost as xgb\n",
    "from xgboost import XGBClassifier\n",
    "from sklearn.ensemble import VotingClassifier\n",
    "import warnings\n",
    "from sklearn.ensemble import BaggingClassifier\n",
    "from sklearn.ensemble import StackingClassifier\n",
    "import time\n",
    "from sklearn.decomposition import PCA\n",
    "from sklearn.model_selection import GridSearchCV\n",
    "#Relevant imports"
   ]
  },
  {
   "cell_type": "markdown",
   "metadata": {},
   "source": [
    "The models we will use all use Ensemble learning to achieve the desired result. The idea of Ensemble learning is to use multiple predictions from different sources and from them extrapolate the final result which the models return. Due to the estimators being unbiased by one another, there cannot be overfitting in such models (with large numbers of estimators), hence we need not worry in creating \"too much\" estimators, as they correct one another and thus remove overfitting from equation. So why not use an almost infinite number of estimators? That is for 2 reasons, the first being is that with large number of estimators, the runtime of the fitting of models becomes increasingly larger, making the process inefficient. The second reason is that after a certain number of estimators, the use of additional estimators becomes less and less useful, as they have corrected each other \"as much as they were going to correct\". In most cases, the accuracy will still rise with the number of estimators, but more slowly. Together, the 2 reasons prevent us from rationalizing the use of \"too large\" number of estimators (although we must still take care to choose the correct number of estimators, to maximize accuracy while minimizing the runtime of the program). For each model and each dataset, the ideal number of estimators differ and must be considered individually."
   ]
  },
  {
   "cell_type": "markdown",
   "metadata": {},
   "source": [
    "The strength of Ensemble Learning is its use of \"weak learners\" (classifiers with an accuracy slightly higher than 50%), since the combinations of weak classifiers many times (in the tens, hundreds, or thousands) produce exceptional results. Of course, the better the classifier - the more accurate the completed model shall most likely be, but accuracy is not always the deciding factor, but rather the runtime of the program: while an ensemble of \"strong learners\" may be more accurate (not necessarily the case), the program using them will usually run much slower than the one using \"weak learners\". Again, the results usually are quite close in terms of accuracy to make such exceptions."
   ]
  },
  {
   "cell_type": "markdown",
   "metadata": {},
   "source": [
    "As accuracy is currently not our only concern, we want to see the difference that the PCA algorithm makes when using it on this data (PCA explained later). For the purposes of learning and understanding the concepts better, we shall see the difference of accuracy vs. runtime for each model. First, we shall see the results of the models without PCA, then use PCA and run the classifiers again. Then, we shall see the differences in performance between the approaches."
   ]
  },
  {
   "cell_type": "markdown",
   "metadata": {},
   "source": [
    "We shall calculate the runtime of each model, to better understand the best option of models for this data."
   ]
  },
  {
   "cell_type": "markdown",
   "metadata": {},
   "source": [
    "In the classifiers below, the hyperparameter tuning was mostly done using educated guesses and trial and error. After the best classifier was found, a grid search was run to maximize the results."
   ]
  },
  {
   "cell_type": "markdown",
   "metadata": {},
   "source": [
    "For each classifier, we shall plot a [confusion matrix](#confusion) and print a classification report in order to better understand the results (explained in previously in this notebook)."
   ]
  },
  {
   "cell_type": "markdown",
   "metadata": {},
   "source": [
    "First, we can check the accuracy received when using the <b>Random Forests Classifier</b>. This classifier uses ensemble learning by constructing a multitude of decision trees (specified with the n_estimators hyperparameter, defaults at 100), without a maximum depth of each tree (such depth can be added using the max_depth hyperparameter, but after several tests, the result was that not limiting the trees is best in the case of this data). After several tests, the number of estimators was set to 500, as the best correlation of time and resource consumption.<br>\n",
    "For the test set, each trees prediction is calculated, the results then aggregated, and the final answer is given. The aggregation is performed by each trees result counted and the \"majority vote\" is the final answer of the classifier."
   ]
  },
  {
   "cell_type": "code",
   "execution_count": 46,
   "metadata": {},
   "outputs": [
    {
     "name": "stdout",
     "output_type": "stream",
     "text": [
      "Accuracy (Random Forests):  0.9634277794887589\n",
      "Time taken to achive result: 8.866713523864746 seconds\n"
     ]
    }
   ],
   "source": [
    "#Random Forests\n",
    "start_timeRandForests = time.time()\n",
    "modelRandForests = RandomForestClassifier(n_estimators = 500, n_jobs = -1, random_state = 0)\n",
    "modelRandForests.fit(X_train, y_train)\n",
    "predictionsRandForests = modelRandForests.predict(X_test)\n",
    "accuracyRandForests = metrics.accuracy_score(y_test, predictionsRandForests)\n",
    "print(\"Accuracy (Random Forests): \", accuracyRandForests)\n",
    "timeRandForests = time.time() - start_timeRandForests\n",
    "print(\"Time taken to achive result: %s seconds\" % (timeRandForests))"
   ]
  },
  {
   "cell_type": "code",
   "execution_count": 47,
   "metadata": {},
   "outputs": [
    {
     "data": {
      "text/plain": [
       "<AxesSubplot:>"
      ]
     },
     "execution_count": 47,
     "metadata": {},
     "output_type": "execute_result"
    },
    {
     "data": {
      "image/png": "[encoded data removed]",
      "text/plain": [
       "<Figure size 360x288 with 2 Axes>"
      ]
     },
     "metadata": {
      "needs_background": "light"
     },
     "output_type": "display_data"
    }
   ],
   "source": [
    "plt.figure(figsize=(5,4))\n",
    "sns.heatmap(confusion_matrix(y_test, predictionsRandForests), cmap = \"Blues\", annot=True, fmt = '.0f')"
   ]
  },
  {
   "cell_type": "code",
   "execution_count": 48,
   "metadata": {},
   "outputs": [
    {
     "name": "stdout",
     "output_type": "stream",
     "text": [
      "              precision    recall  f1-score   support\n",
      "\n",
      "           0       0.95      0.98      0.97      7322\n",
      "           1       0.98      0.94      0.96      5666\n",
      "\n",
      "    accuracy                           0.96     12988\n",
      "   macro avg       0.97      0.96      0.96     12988\n",
      "weighted avg       0.96      0.96      0.96     12988\n",
      "\n"
     ]
    }
   ],
   "source": [
    "print(classification_report(y_test, predictionsRandForests))"
   ]
  },
  {
   "cell_type": "markdown",
   "metadata": {},
   "source": [
    "Next, we will check the performance of the <b>AdaBoost Classifier</b> (AdaBoost stands for Adaptive Boost). This classifier also uses ensemble learning to achieve its purpose. After receiving the results from some base classifier, in our case the Decision Tree Classifier, the model then performs the base classifier over and over (n_estimator times), while each time giving more weight to the misclassified training instances. Then, again using ensemble learning techniques the model returns its final answer according to the many sub-models it created.<br>\n",
    "The learning rate hyperparameter was left at the default value of 1 (after several tests to determine the best value). The hyperparameter specifies the rate of adaptability of the classifier to the data after each iteration of the estimator."
   ]
  },
  {
   "cell_type": "code",
   "execution_count": 49,
   "metadata": {},
   "outputs": [
    {
     "name": "stdout",
     "output_type": "stream",
     "text": [
      "Accuracy (AdaBoost):  0.9575762242069603\n",
      "Time taken to achive result: 105.26763963699341 seconds\n"
     ]
    }
   ],
   "source": [
    "#AdaBoost\n",
    "start_timeAdaBoost = time.time()\n",
    "modelDecTree = DecisionTreeClassifier(random_state=0, max_depth=2)\n",
    "modelAdaBoost = AdaBoostClassifier(modelDecTree, n_estimators = 1000, random_state = 0, learning_rate = 1)\n",
    "modelAdaBoost.fit(X_train, y_train)\n",
    "predictionsAdaBoost = modelAdaBoost.predict(X_test)\n",
    "accuracyAdaBoost = metrics.accuracy_score(y_test, predictionsAdaBoost)\n",
    "print(\"Accuracy (AdaBoost): \", accuracyAdaBoost)\n",
    "timeAdaBoost = time.time() - start_timeAdaBoost\n",
    "print(\"Time taken to achive result: %s seconds\" % (timeAdaBoost))"
   ]
  },
  {
   "cell_type": "code",
   "execution_count": 50,
   "metadata": {},
   "outputs": [
    {
     "data": {
      "text/plain": [
       "<AxesSubplot:>"
      ]
     },
     "execution_count": 50,
     "metadata": {},
     "output_type": "execute_result"
    },
    {
     "data": {
      "image/png": "[encoded data removed]",
      "text/plain": [
       "<Figure size 360x288 with 2 Axes>"
      ]
     },
     "metadata": {
      "needs_background": "light"
     },
     "output_type": "display_data"
    }
   ],
   "source": [
    "plt.figure(figsize=(5,4))\n",
    "sns.heatmap(confusion_matrix(y_test, predictionsAdaBoost), cmap = \"Blues\", annot=True, fmt = '.0f')"
   ]
  },
  {
   "cell_type": "code",
   "execution_count": 51,
   "metadata": {},
   "outputs": [
    {
     "name": "stdout",
     "output_type": "stream",
     "text": [
      "              precision    recall  f1-score   support\n",
      "\n",
      "           0       0.96      0.97      0.96      7322\n",
      "           1       0.96      0.94      0.95      5666\n",
      "\n",
      "    accuracy                           0.96     12988\n",
      "   macro avg       0.96      0.96      0.96     12988\n",
      "weighted avg       0.96      0.96      0.96     12988\n",
      "\n"
     ]
    }
   ],
   "source": [
    "print(classification_report(y_test, predictionsAdaBoost))"
   ]
  },
  {
   "cell_type": "markdown",
   "metadata": {},
   "source": [
    "Last of the single models (but certainly not least), we shall run the <b>XGBoost Classifier</b> on our data (XGBoost standing for Extreme Gradient Boosting, which uses Ensemble Learning and boosting in a similar yet different way to AdaBoost above. Where AdaBoost tweaks the individual instance weights, giving some more or less wight, XGBoost fits a new predictor to the residual errors made by the previous predictor. It should be noted that the residual errors get smaller with each iteration of XGBoost, making the model very effective (in many cases the most effective out of all)."
   ]
  },
  {
   "cell_type": "code",
   "execution_count": 52,
   "metadata": {},
   "outputs": [
    {
     "name": "stdout",
     "output_type": "stream",
     "text": [
      "Accuracy (XGBoost):  0.9655066214967662\n",
      "Time taken to achive result: 3.468726396560669 seconds\n"
     ]
    }
   ],
   "source": [
    "#XGBoost\n",
    "start_timeXGBoost = time.time()\n",
    "warnings.filterwarnings('ignore')\n",
    "modelXGBoost = XGBClassifier(learning_rate = 0.2, n_estimators = 200, verbosity = 0, use_label_encoder = False, n_jobs = -1)\n",
    "modelXGBoost.fit(X_train, y_train)\n",
    "predictionsXGBoost = modelXGBoost.predict(X_test)\n",
    "accuracyXGBoost = metrics.accuracy_score(y_test, predictionsXGBoost)\n",
    "print(\"Accuracy (XGBoost): \", accuracyXGBoost)\n",
    "timeXGBoost = time.time() - start_timeXGBoost\n",
    "print(\"Time taken to achive result: %s seconds\" % (timeXGBoost))"
   ]
  },
  {
   "cell_type": "code",
   "execution_count": 53,
   "metadata": {},
   "outputs": [
    {
     "data": {
      "text/plain": [
       "<AxesSubplot:>"
      ]
     },
     "execution_count": 53,
     "metadata": {},
     "output_type": "execute_result"
    },
    {
     "data": {
      "image/png": "[encoded data removed]",
      "text/plain": [
       "<Figure size 360x288 with 2 Axes>"
      ]
     },
     "metadata": {
      "needs_background": "light"
     },
     "output_type": "display_data"
    }
   ],
   "source": [
    "plt.figure(figsize=(5,4))\n",
    "sns.heatmap(confusion_matrix(y_test, predictionsXGBoost), cmap = \"Blues\", annot=True, fmt = '.0f')"
   ]
  },
  {
   "cell_type": "code",
   "execution_count": 54,
   "metadata": {},
   "outputs": [
    {
     "name": "stdout",
     "output_type": "stream",
     "text": [
      "              precision    recall  f1-score   support\n",
      "\n",
      "           0       0.96      0.98      0.97      7322\n",
      "           1       0.97      0.95      0.96      5666\n",
      "\n",
      "    accuracy                           0.97     12988\n",
      "   macro avg       0.97      0.96      0.96     12988\n",
      "weighted avg       0.97      0.97      0.97     12988\n",
      "\n"
     ]
    }
   ],
   "source": [
    "print(classification_report(y_test, predictionsXGBoost))"
   ]
  },
  {
   "cell_type": "markdown",
   "metadata": {},
   "source": [
    "Now that all models are trained, and they are not bad at all, we can try to combine them and get \"the best out of all worlds\". This we shall first try by using the <b>Voting Classifier</b>. This classifier takes the results of each model (given in the \"estimators\" hyperparameter), and compares the results given by each model for every record of the dataframe, returning the value that most classifiers agree on. The voting method was changed to \"soft\", meaning that from each classifier, the probability of each result will be considered (\"how sure the classifier is that its final decision is correct\"), rather than the raw \"yes or no\" in the case of \"hard\" voting method. The weights of each model in the evaluation are also given, for we know that the last 3 classifiers had much better results than the first two."
   ]
  },
  {
   "cell_type": "code",
   "execution_count": 55,
   "metadata": {},
   "outputs": [
    {
     "name": "stdout",
     "output_type": "stream",
     "text": [
      "Accuracy:  0.9654296273483215\n",
      "Time taken to achive result: 148.0000650882721 seconds\n"
     ]
    }
   ],
   "source": [
    "#Voting\n",
    "start_timeVoting = time.time()\n",
    "warnings.filterwarnings('ignore')\n",
    "modelVoting = VotingClassifier(\n",
    "    estimators=\n",
    "        [('KNN', modelKNN),\n",
    "         ('LogReg', modelLogReg),\n",
    "         ('RandForests', modelRandForests),\n",
    "         ('AdaBoost', modelAdaBoost),\n",
    "         ('XGBoost', modelXGBoost)],\n",
    "    voting='soft', n_jobs=-1, weights=[1,1,3,3,3])\n",
    "modelVoting.fit(X_train, y_train)\n",
    "predictionsVoting = modelVoting.predict(X_test)\n",
    "accuracyVoting = metrics.accuracy_score(y_test, predictionsVoting)\n",
    "print(\"Accuracy: \", accuracyVoting)\n",
    "timeVoting = time.time() - start_timeVoting\n",
    "print(\"Time taken to achive result: %s seconds\" % (timeVoting))"
   ]
  },
  {
   "cell_type": "code",
   "execution_count": 56,
   "metadata": {},
   "outputs": [
    {
     "data": {
      "text/plain": [
       "<AxesSubplot:>"
      ]
     },
     "execution_count": 56,
     "metadata": {},
     "output_type": "execute_result"
    },
    {
     "data": {
      "image/png": "[encoded data removed]",
      "text/plain": [
       "<Figure size 360x288 with 2 Axes>"
      ]
     },
     "metadata": {
      "needs_background": "light"
     },
     "output_type": "display_data"
    }
   ],
   "source": [
    "plt.figure(figsize=(5,4))\n",
    "sns.heatmap(confusion_matrix(y_test, predictionsVoting), cmap = \"Blues\", annot=True, fmt = '.0f')"
   ]
  },
  {
   "cell_type": "code",
   "execution_count": 57,
   "metadata": {},
   "outputs": [
    {
     "name": "stdout",
     "output_type": "stream",
     "text": [
      "              precision    recall  f1-score   support\n",
      "\n",
      "           0       0.96      0.98      0.97      7322\n",
      "           1       0.98      0.94      0.96      5666\n",
      "\n",
      "    accuracy                           0.97     12988\n",
      "   macro avg       0.97      0.96      0.96     12988\n",
      "weighted avg       0.97      0.97      0.97     12988\n",
      "\n"
     ]
    }
   ],
   "source": [
    "print(classification_report(y_test, predictionsVoting))"
   ]
  },
  {
   "cell_type": "markdown",
   "metadata": {},
   "source": [
    "Another option we will now observe is to use the <b>Bagging/Pasting Classifiers</b>. These classifiers combine not many different models, but a single model where the data is divided into multiple parts (the number is defined in the n_estimators hyperparameter), and a single model is run on all these subsections, resulting in a quite accurate model. When the samples taken from the complete dataset can be chosen twice or more for a single predictor, the model is called Bagging, if not then it is Pasting. In practice, Pasting is used more when the dataset is large, while for smaller datasets, the Bagging Classifier may be a good choice. We will try to use both classifiers to see how it performs on our data. The difference between the two classifiers in code is only the \"bootstrap\" hyperparameter. We will Use the XGBoost model as the estimator, as it performed best out of the classifiers we have evaluated up to this point."
   ]
  },
  {
   "cell_type": "code",
   "execution_count": 58,
   "metadata": {},
   "outputs": [
    {
     "name": "stdout",
     "output_type": "stream",
     "text": [
      "Accuracy:  0.9658915922389898\n",
      "Time taken to achive result: 360.38956689834595 seconds\n"
     ]
    }
   ],
   "source": [
    "#Bagging\n",
    "start_timeBagging = time.time()\n",
    "modelBagging = BaggingClassifier(modelXGBoost, n_estimators = 100, bootstrap = True)\n",
    "modelBagging.fit(X_train, y_train)\n",
    "predictionsBagging = modelBagging.predict(X_test)\n",
    "accuracyBagging = metrics.accuracy_score(y_test, predictionsBagging)\n",
    "print(\"Accuracy: \", accuracyBagging)\n",
    "timeBagging = time.time() - start_timeBagging\n",
    "print(\"Time taken to achive result: %s seconds\" % (timeBagging))"
   ]
  },
  {
   "cell_type": "code",
   "execution_count": 59,
   "metadata": {},
   "outputs": [
    {
     "data": {
      "text/plain": [
       "<AxesSubplot:>"
      ]
     },
     "execution_count": 59,
     "metadata": {},
     "output_type": "execute_result"
    },
    {
     "data": {
      "image/png": "[encoded data removed]",
      "text/plain": [
       "<Figure size 360x288 with 2 Axes>"
      ]
     },
     "metadata": {
      "needs_background": "light"
     },
     "output_type": "display_data"
    }
   ],
   "source": [
    "plt.figure(figsize=(5,4))\n",
    "sns.heatmap(confusion_matrix(y_test, predictionsBagging), cmap = \"Blues\", annot=True, fmt = '.0f')"
   ]
  },
  {
   "cell_type": "code",
   "execution_count": 60,
   "metadata": {},
   "outputs": [
    {
     "name": "stdout",
     "output_type": "stream",
     "text": [
      "              precision    recall  f1-score   support\n",
      "\n",
      "           0       0.96      0.98      0.97      7322\n",
      "           1       0.98      0.94      0.96      5666\n",
      "\n",
      "    accuracy                           0.97     12988\n",
      "   macro avg       0.97      0.96      0.97     12988\n",
      "weighted avg       0.97      0.97      0.97     12988\n",
      "\n"
     ]
    }
   ],
   "source": [
    "print(classification_report(y_test, predictionsBagging))"
   ]
  },
  {
   "cell_type": "code",
   "execution_count": 61,
   "metadata": {},
   "outputs": [
    {
     "name": "stdout",
     "output_type": "stream",
     "text": [
      "Accuracy:  0.9655066214967662\n",
      "Time taken to achive result: 359.9447295665741 seconds\n"
     ]
    }
   ],
   "source": [
    "#Psting\n",
    "start_timePasting = time.time()\n",
    "modelPasting = BaggingClassifier(modelXGBoost, n_estimators = 100, bootstrap = False)\n",
    "modelPasting.fit(X_train, y_train)\n",
    "predictionsPasting = modelPasting.predict(X_test)\n",
    "accuracyPasting = metrics.accuracy_score(y_test, predictionsPasting)\n",
    "print(\"Accuracy: \", accuracyPasting)\n",
    "timePasting = time.time() - start_timePasting\n",
    "print(\"Time taken to achive result: %s seconds\" % (timePasting))"
   ]
  },
  {
   "cell_type": "code",
   "execution_count": 62,
   "metadata": {},
   "outputs": [
    {
     "data": {
      "text/plain": [
       "<AxesSubplot:>"
      ]
     },
     "execution_count": 62,
     "metadata": {},
     "output_type": "execute_result"
    },
    {
     "data": {
      "image/png": "[encoded data removed]",
      "text/plain": [
       "<Figure size 360x288 with 2 Axes>"
      ]
     },
     "metadata": {
      "needs_background": "light"
     },
     "output_type": "display_data"
    }
   ],
   "source": [
    "plt.figure(figsize=(5,4))\n",
    "sns.heatmap(confusion_matrix(y_test, predictionsPasting), cmap = \"Blues\", annot=True, fmt = '.0f')"
   ]
  },
  {
   "cell_type": "code",
   "execution_count": 63,
   "metadata": {},
   "outputs": [
    {
     "name": "stdout",
     "output_type": "stream",
     "text": [
      "              precision    recall  f1-score   support\n",
      "\n",
      "           0       0.96      0.98      0.97      7322\n",
      "           1       0.97      0.95      0.96      5666\n",
      "\n",
      "    accuracy                           0.97     12988\n",
      "   macro avg       0.97      0.96      0.96     12988\n",
      "weighted avg       0.97      0.97      0.97     12988\n",
      "\n"
     ]
    }
   ],
   "source": [
    "print(classification_report(y_test, predictionsPasting))"
   ]
  },
  {
   "cell_type": "markdown",
   "metadata": {},
   "source": [
    "The last ensemble method we will evaluate is the <b>Stacking Classifier</b>. This uses the simple yet elegant idea to take the results given by each predictor for each method, and unlike the voting classifier, build a new model to evaluate them and return an answer, which shall be the final result for the instance for this classifier."
   ]
  },
  {
   "cell_type": "code",
   "execution_count": 64,
   "metadata": {},
   "outputs": [
    {
     "name": "stdout",
     "output_type": "stream",
     "text": [
      "Accuracy:  0.9651986449029873\n",
      "Time taken to achive result: 759.5865070819855 seconds\n"
     ]
    }
   ],
   "source": [
    "#Stacking\n",
    "start_timeStacking = time.time()\n",
    "modelStacking = StackingClassifier(estimators= [('KNN', modelKNN),\n",
    "                                      ('LogReg', modelLogReg),\n",
    "                                      ('RandForests', modelRandForests),\n",
    "                                      ('AdaBoost', modelAdaBoost),\n",
    "                                      ('XGBoost', modelXGBoost)], \n",
    "                         final_estimator=LogisticRegression())\n",
    "modelStacking.fit(X_train, y_train)\n",
    "predictionsStacking = modelStacking.predict(X_test)\n",
    "accuracyStacking = metrics.accuracy_score(y_test, predictionsStacking)\n",
    "print(\"Accuracy: \", accuracyStacking)\n",
    "timeStacking = time.time() - start_timeStacking\n",
    "print(\"Time taken to achive result: %s seconds\" % (timeStacking))"
   ]
  },
  {
   "cell_type": "code",
   "execution_count": 65,
   "metadata": {},
   "outputs": [
    {
     "data": {
      "text/plain": [
       "<AxesSubplot:>"
      ]
     },
     "execution_count": 65,
     "metadata": {},
     "output_type": "execute_result"
    },
    {
     "data": {
      "image/png": "[encoded data removed]",
      "text/plain": [
       "<Figure size 360x288 with 2 Axes>"
      ]
     },
     "metadata": {
      "needs_background": "light"
     },
     "output_type": "display_data"
    }
   ],
   "source": [
    "plt.figure(figsize=(5,4))\n",
    "sns.heatmap(confusion_matrix(y_test, predictionsStacking), cmap = \"Blues\", annot=True, fmt = '.0f')"
   ]
  },
  {
   "cell_type": "code",
   "execution_count": 66,
   "metadata": {},
   "outputs": [
    {
     "name": "stdout",
     "output_type": "stream",
     "text": [
      "              precision    recall  f1-score   support\n",
      "\n",
      "           0       0.96      0.98      0.97      7322\n",
      "           1       0.97      0.95      0.96      5666\n",
      "\n",
      "    accuracy                           0.97     12988\n",
      "   macro avg       0.97      0.96      0.96     12988\n",
      "weighted avg       0.97      0.97      0.97     12988\n",
      "\n"
     ]
    }
   ],
   "source": [
    "print(classification_report(y_test, predictionsStacking))"
   ]
  },
  {
   "cell_type": "markdown",
   "metadata": {},
   "source": [
    "Now that we have trained, fitted, and seen each model, we must decide which of the models to categorize as \"best\", for which we will analyze the runtime and accuracy of each model. Of course, in commercial projects, the choice will be much more dependent on the type of project and its purposes, as well as the hardware available."
   ]
  },
  {
   "cell_type": "markdown",
   "metadata": {},
   "source": [
    "Below is the ROC Curve for the classifiers that we have tried (ROC curve explained in full in the [first half](#ROC) of this notebook), but as we can see, this graph does not tell us much, as most of the models overlap and their accuracy is very close to one another. The ROC Curve's \"only concern\" is the accuracy of the classifier, but we wish to evaluate the best classifier in terms of effectiveness (accuracy vs. runtime), so the ROC Curve is of limited use."
   ]
  },
  {
   "cell_type": "code",
   "execution_count": 67,
   "metadata": {},
   "outputs": [
    {
     "data": {
      "text/plain": [
       "<matplotlib.legend.Legend at 0x1b114949610>"
      ]
     },
     "execution_count": 67,
     "metadata": {},
     "output_type": "execute_result"
    },
    {
     "data": {
      "image/png": "[encoded data removed]",
      "text/plain": [
       "<Figure size 432x288 with 1 Axes>"
      ]
     },
     "metadata": {
      "needs_background": "light"
     },
     "output_type": "display_data"
    }
   ],
   "source": [
    "probsKNN = modelKNN.predict_proba(X_test)[:, 1]\n",
    "probsLogReg = modelLogReg.predict_proba(X_test)[:, 1]\n",
    "dummyProbs = dummyModel.predict_proba(X_test)[:, 1]\n",
    "probsRandomForests = modelRandForests.predict_proba(X_test)[:, 1]\n",
    "probsAdaBoost = modelAdaBoost.predict_proba(X_test)[:, 1]\n",
    "probsXGBoost = modelXGBoost.predict_proba(X_test)[:, 1]\n",
    "probsVoting = modelVoting.predict_proba(X_test)[:, 1]\n",
    "probsBagging = modelBagging.predict_proba(X_test)[:, 1]\n",
    "probsPasting = modelPasting.predict_proba(X_test)[:, 1]\n",
    "probsStacking = modelStacking.predict_proba(X_test)[:, 1]\n",
    "\n",
    "fprLogReg, tprLogReg, thresholdsLogReg = metrics.roc_curve(y_test, probsLogReg)\n",
    "fprKNN, tprKNN, thresholdsKNN = metrics.roc_curve(y_test, probsKNN)\n",
    "fprDummy, tprDummy, thresholdsDummy = metrics.roc_curve(y_test, dummyProbs)\n",
    "fprRandFor, tprRandFor, thresholdsRandFor = metrics.roc_curve(y_test, probsRandomForests)\n",
    "fprAdaB, tprAdaB, thresholdsAdaB = metrics.roc_curve(y_test, probsAdaBoost)\n",
    "fprXGB, tprXGB, thresholdsXGB = metrics.roc_curve(y_test, probsXGBoost)\n",
    "fprVot, tprVot, thresholdsVot = metrics.roc_curve(y_test, probsVoting)\n",
    "fprBag, tprBag, thresholdsBag = metrics.roc_curve(y_test, probsBagging)\n",
    "fprPas, tprPas, thresholdsPas = metrics.roc_curve(y_test, probsPasting)\n",
    "fprSta, tprSta, thresholdsSta = metrics.roc_curve(y_test, probsStacking)\n",
    "\n",
    "fig = plt.figure()\n",
    "axes = fig.add_axes([0,0,1,1])\n",
    "axes.plot(fprDummy, tprDummy, label = \"Dummy\")\n",
    "axes.plot(fprKNN, tprKNN, label = \"KNN\")\n",
    "axes.plot(fprLogReg, tprLogReg, label = \"LogReg\")\n",
    "axes.plot(fprRandFor, tprRandFor, label = \"Random Forest\")\n",
    "axes.plot(fprAdaB, tprAdaB, label = \"AdaBoost\")\n",
    "axes.plot(fprXGB, tprXGB, label = \"XGBoost\")\n",
    "axes.plot(fprVot, tprVot, label = \"Voting\")\n",
    "axes.plot(fprBag, tprBag, label = \"Bagging\")\n",
    "axes.plot(fprPas, tprPas, label = \"Pasting\")\n",
    "axes.plot(fprSta, tprSta, label = \"Stacking\")\n",
    "\n",
    "axes.set_xlabel(\"False positive rate\")\n",
    "axes.set_ylabel(\"True positive rate\")\n",
    "axes.set_title(\"ROC Curves for different models\")\n",
    "axes.legend()"
   ]
  },
  {
   "cell_type": "markdown",
   "metadata": {},
   "source": [
    "Next, we will create a table (a dataframe), that will show us the considered data, to help us define the best classifier out of all. Although the table is very helpful, it is still quite hard to see the differences between the accuracies of the classifiers (though quite easy to see the differences of runtime)."
   ]
  },
  {
   "cell_type": "code",
   "execution_count": 68,
   "metadata": {},
   "outputs": [
    {
     "data": {
      "text/html": [
       "<style  type=\"text/css\" >\n",
       "#T_5e2fc_row0_col0,#T_5e2fc_row0_col1,#T_5e2fc_row0_col2,#T_5e2fc_row1_col0,#T_5e2fc_row1_col1,#T_5e2fc_row1_col2,#T_5e2fc_row2_col0,#T_5e2fc_row2_col1,#T_5e2fc_row2_col2,#T_5e2fc_row3_col0,#T_5e2fc_row3_col1,#T_5e2fc_row3_col2,#T_5e2fc_row4_col0,#T_5e2fc_row4_col1,#T_5e2fc_row4_col2,#T_5e2fc_row5_col0,#T_5e2fc_row5_col1,#T_5e2fc_row5_col2,#T_5e2fc_row6_col0,#T_5e2fc_row6_col1,#T_5e2fc_row6_col2,#T_5e2fc_row7_col0,#T_5e2fc_row7_col1,#T_5e2fc_row7_col2,#T_5e2fc_row8_col0,#T_5e2fc_row8_col1,#T_5e2fc_row8_col2,#T_5e2fc_row9_col0,#T_5e2fc_row9_col1,#T_5e2fc_row9_col2{\n",
       "            text-align:  left;\n",
       "        }</style><table id=\"T_5e2fc_\" ><thead>    <tr>        <th class=\"blank level0\" ></th>        <th class=\"col_heading level0 col0\" >Model</th>        <th class=\"col_heading level0 col1\" >Accuracy</th>        <th class=\"col_heading level0 col2\" >Runtime (Seconds)</th>    </tr></thead><tbody>\n",
       "                <tr>\n",
       "                        <th id=\"T_5e2fc_level0_row0\" class=\"row_heading level0 row0\" >0</th>\n",
       "                        <td id=\"T_5e2fc_row0_col0\" class=\"data row0 col0\" >Dummy</td>\n",
       "                        <td id=\"T_5e2fc_row0_col1\" class=\"data row0 col1\" >0.5637511549122267</td>\n",
       "                        <td id=\"T_5e2fc_row0_col2\" class=\"data row0 col2\" >---</td>\n",
       "            </tr>\n",
       "            <tr>\n",
       "                        <th id=\"T_5e2fc_level0_row1\" class=\"row_heading level0 row1\" >1</th>\n",
       "                        <td id=\"T_5e2fc_row1_col0\" class=\"data row1 col0\" >KNN</td>\n",
       "                        <td id=\"T_5e2fc_row1_col1\" class=\"data row1 col1\" >0.9335540498922081</td>\n",
       "                        <td id=\"T_5e2fc_row1_col2\" class=\"data row1 col2\" >---</td>\n",
       "            </tr>\n",
       "            <tr>\n",
       "                        <th id=\"T_5e2fc_level0_row2\" class=\"row_heading level0 row2\" >2</th>\n",
       "                        <td id=\"T_5e2fc_row2_col0\" class=\"data row2 col0\" >Logistic Regression</td>\n",
       "                        <td id=\"T_5e2fc_row2_col1\" class=\"data row2 col1\" >0.8728826609177702</td>\n",
       "                        <td id=\"T_5e2fc_row2_col2\" class=\"data row2 col2\" >---</td>\n",
       "            </tr>\n",
       "            <tr>\n",
       "                        <th id=\"T_5e2fc_level0_row3\" class=\"row_heading level0 row3\" >3</th>\n",
       "                        <td id=\"T_5e2fc_row3_col0\" class=\"data row3 col0\" >Random Forests</td>\n",
       "                        <td id=\"T_5e2fc_row3_col1\" class=\"data row3 col1\" >0.9634277794887589</td>\n",
       "                        <td id=\"T_5e2fc_row3_col2\" class=\"data row3 col2\" >8.866713523864746</td>\n",
       "            </tr>\n",
       "            <tr>\n",
       "                        <th id=\"T_5e2fc_level0_row4\" class=\"row_heading level0 row4\" >4</th>\n",
       "                        <td id=\"T_5e2fc_row4_col0\" class=\"data row4 col0\" >AdaBoost</td>\n",
       "                        <td id=\"T_5e2fc_row4_col1\" class=\"data row4 col1\" >0.9575762242069603</td>\n",
       "                        <td id=\"T_5e2fc_row4_col2\" class=\"data row4 col2\" >105.26763963699341</td>\n",
       "            </tr>\n",
       "            <tr>\n",
       "                        <th id=\"T_5e2fc_level0_row5\" class=\"row_heading level0 row5\" >5</th>\n",
       "                        <td id=\"T_5e2fc_row5_col0\" class=\"data row5 col0\" >XGBoost</td>\n",
       "                        <td id=\"T_5e2fc_row5_col1\" class=\"data row5 col1\" >0.9655066214967662</td>\n",
       "                        <td id=\"T_5e2fc_row5_col2\" class=\"data row5 col2\" >3.468726396560669</td>\n",
       "            </tr>\n",
       "            <tr>\n",
       "                        <th id=\"T_5e2fc_level0_row6\" class=\"row_heading level0 row6\" >6</th>\n",
       "                        <td id=\"T_5e2fc_row6_col0\" class=\"data row6 col0\" >Voting</td>\n",
       "                        <td id=\"T_5e2fc_row6_col1\" class=\"data row6 col1\" >0.9654296273483215</td>\n",
       "                        <td id=\"T_5e2fc_row6_col2\" class=\"data row6 col2\" >148.0000650882721</td>\n",
       "            </tr>\n",
       "            <tr>\n",
       "                        <th id=\"T_5e2fc_level0_row7\" class=\"row_heading level0 row7\" >7</th>\n",
       "                        <td id=\"T_5e2fc_row7_col0\" class=\"data row7 col0\" >Bagging</td>\n",
       "                        <td id=\"T_5e2fc_row7_col1\" class=\"data row7 col1\" >0.9658915922389898</td>\n",
       "                        <td id=\"T_5e2fc_row7_col2\" class=\"data row7 col2\" >360.38956689834595</td>\n",
       "            </tr>\n",
       "            <tr>\n",
       "                        <th id=\"T_5e2fc_level0_row8\" class=\"row_heading level0 row8\" >8</th>\n",
       "                        <td id=\"T_5e2fc_row8_col0\" class=\"data row8 col0\" >Pasting</td>\n",
       "                        <td id=\"T_5e2fc_row8_col1\" class=\"data row8 col1\" >0.9655066214967662</td>\n",
       "                        <td id=\"T_5e2fc_row8_col2\" class=\"data row8 col2\" >359.9447295665741</td>\n",
       "            </tr>\n",
       "            <tr>\n",
       "                        <th id=\"T_5e2fc_level0_row9\" class=\"row_heading level0 row9\" >9</th>\n",
       "                        <td id=\"T_5e2fc_row9_col0\" class=\"data row9 col0\" >Stacking</td>\n",
       "                        <td id=\"T_5e2fc_row9_col1\" class=\"data row9 col1\" >0.9651986449029873</td>\n",
       "                        <td id=\"T_5e2fc_row9_col2\" class=\"data row9 col2\" >759.5865070819855</td>\n",
       "            </tr>\n",
       "    </tbody></table>"
      ],
      "text/plain": [
       "<pandas.io.formats.style.Styler at 0x1b114a15460>"
      ]
     },
     "execution_count": 68,
     "metadata": {},
     "output_type": "execute_result"
    }
   ],
   "source": [
    "results = pd.DataFrame(np.array([['Dummy', accuracyDummy, '---'],\n",
    "                            ['KNN', accuracyKNN, '---'],\n",
    "                            ['Logistic Regression', accuracyLogReg, '---'],\n",
    "                            ['Random Forests', accuracyRandForests, timeRandForests],\n",
    "                            ['AdaBoost', accuracyAdaBoost, timeAdaBoost],\n",
    "                            ['XGBoost', accuracyXGBoost, timeXGBoost],\n",
    "                            ['Voting', accuracyVoting, timeVoting],\n",
    "                            ['Bagging', accuracyBagging, timeBagging],\n",
    "                            ['Pasting', accuracyPasting, timePasting],\n",
    "                            ['Stacking', accuracyStacking, timeStacking]]),\n",
    "                  columns=['Model', 'Accuracy', 'Runtime (Seconds)'])\n",
    "resultsView = results.style.set_properties(**{'text-align': 'left'})\n",
    "resultsView"
   ]
  },
  {
   "cell_type": "markdown",
   "metadata": {},
   "source": [
    "We will plot a bar graph to help us see the accuracies better. Again, the differences here are minor, so the graph is of limited use. We can determine that that the Dummy Classifier and Logistic Regression perform much worse than the rest. "
   ]
  },
  {
   "cell_type": "code",
   "execution_count": 69,
   "metadata": {},
   "outputs": [
    {
     "data": {
      "image/png": "[encoded data removed]",
      "text/plain": [
       "<Figure size 936x432 with 1 Axes>"
      ]
     },
     "metadata": {
      "needs_background": "light"
     },
     "output_type": "display_data"
    }
   ],
   "source": [
    "fig = plt.figure(figsize=(13,6))\n",
    "\n",
    "accuracies = [accuracyDummy, accuracyKNN, accuracyLogReg, accuracyRandForests, accuracyAdaBoost, accuracyXGBoost,\n",
    "             accuracyVoting, accuracyBagging, accuracyPasting, accuracyStacking]\n",
    "accuraciesSize = np.arange(len(accuracies))\n",
    "axes = fig.add_axes([0,0,1,1])\n",
    "axes.bar(['Dummy', 'KNN', 'Logistic Regression', 'Random Forest', 'AdaBoost', 'XGBoost', 'Voting', 'Bagging',\n",
    "          'Pasting', 'Stacking'], accuracies)\n",
    "axes.set_ylabel(\"Accuracy Score\")\n",
    "axes.set_title(\"Accuracy Scores of the different models\")\n",
    "plt.rcParams['xtick.labelsize'] = 10"
   ]
  },
  {
   "cell_type": "markdown",
   "metadata": {},
   "source": [
    "In the graph below, we try to zoom in the graph above (by limiting the y axis). As we can see, The Dummy Classifier, KNN and Logistic Regression models are not even in the range specified, hence invisible in the graph. The rest of the models, although still very close, can be distinguished and we can see that the most accurate classifier is the Bagging Classifier, next being XGBoost, Voting and Stacking (in that order). That being said, the difference between these four classifiers is very minor."
   ]
  },
  {
   "cell_type": "code",
   "execution_count": 70,
   "metadata": {
    "scrolled": false
   },
   "outputs": [
    {
     "data": {
      "text/plain": [
       "(0.957, 0.9664)"
      ]
     },
     "execution_count": 70,
     "metadata": {},
     "output_type": "execute_result"
    },
    {
     "data": {
      "image/png": "[encoded data removed]",
      "text/plain": [
       "<Figure size 936x432 with 1 Axes>"
      ]
     },
     "metadata": {
      "needs_background": "light"
     },
     "output_type": "display_data"
    }
   ],
   "source": [
    "fig = plt.figure(figsize=(13,6))\n",
    "\n",
    "accuracies = [accuracyDummy, accuracyKNN, accuracyLogReg, accuracyRandForests, accuracyAdaBoost, accuracyXGBoost,\n",
    "             accuracyVoting, accuracyBagging, accuracyPasting, accuracyStacking]\n",
    "accuraciesSize = np.arange(len(accuracies))\n",
    "axes = fig.add_axes([0,0,1,1])\n",
    "axes.bar(['Dummy', 'KNN', 'Logistic Regression', 'Random Forest', 'AdaBoost', 'XGBoost', 'Voting', 'Bagging',\n",
    "          'Pasting', 'Stacking'], accuracies)\n",
    "axes.set_ylabel(\"Accuracy Score\")\n",
    "axes.set_title(\"Accuracy Scores of the different models\")\n",
    "plt.rcParams['xtick.labelsize'] = 10\n",
    "axes.set_ylim([0.957, 0.9664])"
   ]
  },
  {
   "cell_type": "markdown",
   "metadata": {},
   "source": [
    "Next, The bar graph for the runtimes is shown. We can identify the Bagging Classifier as the one with the longest runtime, while The Dummy, KNN, Logistic Regression and Random Forests classifiers had the best runtime."
   ]
  },
  {
   "cell_type": "code",
   "execution_count": null,
   "metadata": {},
   "outputs": [],
   "source": [
    "def timeGraph():\n",
    "    fig = plt.figure(figsize=(13,6))\n",
    "\n",
    "    time = [timeDummy, timeKNN, timeLogReg, timeRandForests, timeAdaBoost, timeXGBoost,\n",
    "             timeVoting, timeBagging, timePasting, timeStacking]\n",
    "    timeSize = np.arange(len(time))\n",
    "    axes = fig.add_axes([0,0,1,1])\n",
    "    labels = ['Dummy', 'KNN', 'Logistic Regression', 'Random Forest', 'AdaBoost', 'XGBoost', 'Voting', 'Bagging',\n",
    "              'Pasting', 'Stacking']\n",
    "    axes.bar(labels, time)\n",
    "    axes.set_ylabel(\"Runtime (Seconds)\")\n",
    "    axes.set_title(\"Runtimes of the Different Classifiers\")\n",
    "    plt.rcParams['xtick.labelsize'] = 10\n",
    "    \n",
    "timeGraph()"
   ]
  },
  {
   "cell_type": "code",
   "execution_count": 71,
   "metadata": {},
   "outputs": [
    {
     "data": {
      "text/html": [
       "<style  type=\"text/css\" >\n",
       "#T_5e2fc_row0_col0,#T_5e2fc_row0_col1,#T_5e2fc_row0_col2,#T_5e2fc_row1_col0,#T_5e2fc_row1_col1,#T_5e2fc_row1_col2,#T_5e2fc_row2_col0,#T_5e2fc_row2_col1,#T_5e2fc_row2_col2,#T_5e2fc_row3_col0,#T_5e2fc_row3_col1,#T_5e2fc_row3_col2,#T_5e2fc_row4_col0,#T_5e2fc_row4_col1,#T_5e2fc_row4_col2,#T_5e2fc_row5_col0,#T_5e2fc_row5_col1,#T_5e2fc_row5_col2,#T_5e2fc_row6_col0,#T_5e2fc_row6_col1,#T_5e2fc_row6_col2,#T_5e2fc_row7_col0,#T_5e2fc_row7_col1,#T_5e2fc_row7_col2,#T_5e2fc_row8_col0,#T_5e2fc_row8_col1,#T_5e2fc_row8_col2,#T_5e2fc_row9_col0,#T_5e2fc_row9_col1,#T_5e2fc_row9_col2{\n",
       "            text-align:  left;\n",
       "            text-align:  left;\n",
       "        }</style><table id=\"T_5e2fc_\" ><thead>    <tr>        <th class=\"blank level0\" ></th>        <th class=\"col_heading level0 col0\" >Model</th>        <th class=\"col_heading level0 col1\" >Accuracy</th>        <th class=\"col_heading level0 col2\" >Runtime (Seconds)</th>    </tr></thead><tbody>\n",
       "                <tr>\n",
       "                        <th id=\"T_5e2fc_level0_row0\" class=\"row_heading level0 row0\" >0</th>\n",
       "                        <td id=\"T_5e2fc_row0_col0\" class=\"data row0 col0\" >Dummy</td>\n",
       "                        <td id=\"T_5e2fc_row0_col1\" class=\"data row0 col1\" >0.5637511549122267</td>\n",
       "                        <td id=\"T_5e2fc_row0_col2\" class=\"data row0 col2\" >---</td>\n",
       "            </tr>\n",
       "            <tr>\n",
       "                        <th id=\"T_5e2fc_level0_row1\" class=\"row_heading level0 row1\" >1</th>\n",
       "                        <td id=\"T_5e2fc_row1_col0\" class=\"data row1 col0\" >KNN</td>\n",
       "                        <td id=\"T_5e2fc_row1_col1\" class=\"data row1 col1\" >0.9335540498922081</td>\n",
       "                        <td id=\"T_5e2fc_row1_col2\" class=\"data row1 col2\" >---</td>\n",
       "            </tr>\n",
       "            <tr>\n",
       "                        <th id=\"T_5e2fc_level0_row2\" class=\"row_heading level0 row2\" >2</th>\n",
       "                        <td id=\"T_5e2fc_row2_col0\" class=\"data row2 col0\" >Logistic Regression</td>\n",
       "                        <td id=\"T_5e2fc_row2_col1\" class=\"data row2 col1\" >0.8728826609177702</td>\n",
       "                        <td id=\"T_5e2fc_row2_col2\" class=\"data row2 col2\" >---</td>\n",
       "            </tr>\n",
       "            <tr>\n",
       "                        <th id=\"T_5e2fc_level0_row3\" class=\"row_heading level0 row3\" >3</th>\n",
       "                        <td id=\"T_5e2fc_row3_col0\" class=\"data row3 col0\" >Random Forests</td>\n",
       "                        <td id=\"T_5e2fc_row3_col1\" class=\"data row3 col1\" >0.9634277794887589</td>\n",
       "                        <td id=\"T_5e2fc_row3_col2\" class=\"data row3 col2\" >8.866713523864746</td>\n",
       "            </tr>\n",
       "            <tr>\n",
       "                        <th id=\"T_5e2fc_level0_row4\" class=\"row_heading level0 row4\" >4</th>\n",
       "                        <td id=\"T_5e2fc_row4_col0\" class=\"data row4 col0\" >AdaBoost</td>\n",
       "                        <td id=\"T_5e2fc_row4_col1\" class=\"data row4 col1\" >0.9575762242069603</td>\n",
       "                        <td id=\"T_5e2fc_row4_col2\" class=\"data row4 col2\" >105.26763963699341</td>\n",
       "            </tr>\n",
       "            <tr>\n",
       "                        <th id=\"T_5e2fc_level0_row5\" class=\"row_heading level0 row5\" >5</th>\n",
       "                        <td id=\"T_5e2fc_row5_col0\" class=\"data row5 col0\" >XGBoost</td>\n",
       "                        <td id=\"T_5e2fc_row5_col1\" class=\"data row5 col1\" >0.9655066214967662</td>\n",
       "                        <td id=\"T_5e2fc_row5_col2\" class=\"data row5 col2\" >3.468726396560669</td>\n",
       "            </tr>\n",
       "            <tr>\n",
       "                        <th id=\"T_5e2fc_level0_row6\" class=\"row_heading level0 row6\" >6</th>\n",
       "                        <td id=\"T_5e2fc_row6_col0\" class=\"data row6 col0\" >Voting</td>\n",
       "                        <td id=\"T_5e2fc_row6_col1\" class=\"data row6 col1\" >0.9654296273483215</td>\n",
       "                        <td id=\"T_5e2fc_row6_col2\" class=\"data row6 col2\" >148.0000650882721</td>\n",
       "            </tr>\n",
       "            <tr>\n",
       "                        <th id=\"T_5e2fc_level0_row7\" class=\"row_heading level0 row7\" >7</th>\n",
       "                        <td id=\"T_5e2fc_row7_col0\" class=\"data row7 col0\" >Bagging</td>\n",
       "                        <td id=\"T_5e2fc_row7_col1\" class=\"data row7 col1\" >0.9658915922389898</td>\n",
       "                        <td id=\"T_5e2fc_row7_col2\" class=\"data row7 col2\" >360.38956689834595</td>\n",
       "            </tr>\n",
       "            <tr>\n",
       "                        <th id=\"T_5e2fc_level0_row8\" class=\"row_heading level0 row8\" >8</th>\n",
       "                        <td id=\"T_5e2fc_row8_col0\" class=\"data row8 col0\" >Pasting</td>\n",
       "                        <td id=\"T_5e2fc_row8_col1\" class=\"data row8 col1\" >0.9655066214967662</td>\n",
       "                        <td id=\"T_5e2fc_row8_col2\" class=\"data row8 col2\" >359.9447295665741</td>\n",
       "            </tr>\n",
       "            <tr>\n",
       "                        <th id=\"T_5e2fc_level0_row9\" class=\"row_heading level0 row9\" >9</th>\n",
       "                        <td id=\"T_5e2fc_row9_col0\" class=\"data row9 col0\" >Stacking</td>\n",
       "                        <td id=\"T_5e2fc_row9_col1\" class=\"data row9 col1\" >0.9651986449029873</td>\n",
       "                        <td id=\"T_5e2fc_row9_col2\" class=\"data row9 col2\" >759.5865070819855</td>\n",
       "            </tr>\n",
       "    </tbody></table>"
      ],
      "text/plain": [
       "<pandas.io.formats.style.Styler at 0x1b114a15460>"
      ]
     },
     "execution_count": 71,
     "metadata": {},
     "output_type": "execute_result"
    }
   ],
   "source": [
    "resultsView"
   ]
  },
  {
   "cell_type": "markdown",
   "metadata": {},
   "source": [
    "Below is a combined graph showing both accuracies and runtimes of each classifier (left y-axis: runtime (seconds), right y-axis: accuracy):"
   ]
  },
  {
   "attachments": {
    "Picture4.png": {
     "image/png": "[encoded data removed]"
    }
   },
   "cell_type": "markdown",
   "metadata": {},
   "source": [
    "![Picture4.png](attachment:Picture4.png)"
   ]
  },
  {
   "cell_type": "markdown",
   "metadata": {},
   "source": [
    "##### Mid-Way Conclusion"
   ]
  },
  {
   "cell_type": "markdown",
   "metadata": {},
   "source": [
    "Now that we have determined the most accurate classifier, we can have a look at the runtimes of each classifier. We can see that the bagging classifier (best in regards of accuracy) takes around 350 seconds, whereas the XGBoost classifier gives almost the same accuracy (difference of around 0.0003) while taking only 3 seconds to achieve the results! This makes the XGBoost Classifier the best to use in almost all cases (exceptions may be when accuracy is of the utmost importance)."
   ]
  },
  {
   "cell_type": "markdown",
   "metadata": {},
   "source": [
    "## PCA (Principal Component Analysis)"
   ]
  },
  {
   "cell_type": "markdown",
   "metadata": {},
   "source": [
    "<b>Dimensionality Reduction:</b><br>\n",
    "When working with data which has many dimensions, it is often wise to attempt to quicken the classifiers by reducing the number of dimensions used to fit the data. Clearly, the removal of some dimensions will cause the classifier to perform worse than if it were run on the full data, but it can be very beneficial due to it expediting the runtime of the program dramatically. The problem occurs when we try to choose which dimensions to remove from examination, as it could be the feature having a crucial impact on the results of our classifier. This is what the PCA attempts to help us choose."
   ]
  },
  {
   "cell_type": "markdown",
   "metadata": {},
   "source": [
    "<b>What is PCA?</b><br>\n",
    "The PCA algorithm attempts to help us use dimensionality reduction to reduce runtime while slightly reducing the accuracy of the classifiers. Using some linear algebra, the algorithm chooses the number of dimensions (as can be specified using the n_components hyperparameter) which are the most useful for the classifiers. When n_components is set to a value between 0 and 1, the algorithm covers the percentage of variance specified (very useful, as it is making the PCA flexible for different data, or for approximating the accuracy drop of the final classifier)."
   ]
  },
  {
   "cell_type": "markdown",
   "metadata": {},
   "source": [
    "The PCA should be trained and fitted on the training set, and then the trained PCA should be used to transform both the training and the testing set. Training the PCA on the test set is not right, as it means that we are using both the training and testing to fit the data to a certain shape, while analyzing it as a whole, which is incorrect, as the test set should only be used to test the results.<br>\n",
    "Despite that, the test set still has to be changed according to what the PCA has fitted on the training set, due to all classifiers requiring the data to be of the same shape in order to work on them."
   ]
  },
  {
   "cell_type": "code",
   "execution_count": 72,
   "metadata": {},
   "outputs": [],
   "source": [
    "pca = PCA(n_components=0.9)\n",
    "X_train_Reduced = pca.fit_transform(X_train)\n",
    "X_test_Reduced = pca.transform(X_test)"
   ]
  },
  {
   "cell_type": "markdown",
   "metadata": {},
   "source": [
    "Now that the PCA is trained and we have transformed the data into what the PCA has determined, we can run the classifiers again, to check and see how they perform. We shall use two of the classifiers to start with and see what happens."
   ]
  },
  {
   "cell_type": "code",
   "execution_count": 73,
   "metadata": {},
   "outputs": [
    {
     "name": "stdout",
     "output_type": "stream",
     "text": [
      "Accuracy (XGBoost):  0.9655066214967662\n",
      "Time taken to achive result: 10.491519451141357 seconds\n"
     ]
    }
   ],
   "source": [
    "#XGBoost after PCA\n",
    "start_timeXGBoostPCA = time.time()\n",
    "warnings.filterwarnings('ignore')\n",
    "modelXGBoost = XGBClassifier(learning_rate = 0.2, n_estimators = 200, verbosity = 0, use_label_encoder = False, n_jobs = -1)\n",
    "modelXGBoost.fit(X_train_Reduced, y_train)\n",
    "predictionsXGBoostPCA = modelXGBoost.predict(X_test_Reduced)\n",
    "accuracyXGBoostPCA = metrics.accuracy_score(y_test, predictionsXGBoostPCA)\n",
    "print(\"Accuracy (XGBoost): \", accuracyXGBoost)\n",
    "timeXGBoostPCA = time.time() - start_timeXGBoostPCA\n",
    "print(\"Time taken to achive result: %s seconds\" % (timeXGBoostPCA))"
   ]
  },
  {
   "cell_type": "code",
   "execution_count": 74,
   "metadata": {},
   "outputs": [
    {
     "data": {
      "text/plain": [
       "<AxesSubplot:>"
      ]
     },
     "execution_count": 74,
     "metadata": {},
     "output_type": "execute_result"
    },
    {
     "data": {
      "image/png": "[encoded data removed]",
      "text/plain": [
       "<Figure size 360x288 with 2 Axes>"
      ]
     },
     "metadata": {
      "needs_background": "light"
     },
     "output_type": "display_data"
    }
   ],
   "source": [
    "plt.figure(figsize=(5,4))\n",
    "sns.heatmap(confusion_matrix(y_test, predictionsXGBoostPCA), cmap = \"Blues\", annot=True, fmt = '.0f')"
   ]
  },
  {
   "cell_type": "code",
   "execution_count": 75,
   "metadata": {},
   "outputs": [
    {
     "name": "stdout",
     "output_type": "stream",
     "text": [
      "              precision    recall  f1-score   support\n",
      "\n",
      "           0       0.93      0.95      0.94      7322\n",
      "           1       0.94      0.90      0.92      5666\n",
      "\n",
      "    accuracy                           0.93     12988\n",
      "   macro avg       0.93      0.93      0.93     12988\n",
      "weighted avg       0.93      0.93      0.93     12988\n",
      "\n"
     ]
    }
   ],
   "source": [
    "print(classification_report(y_test, predictionsXGBoostPCA))"
   ]
  },
  {
   "cell_type": "code",
   "execution_count": 76,
   "metadata": {},
   "outputs": [
    {
     "name": "stdout",
     "output_type": "stream",
     "text": [
      "Accuracy (AdaBoost):  0.9141515244841392\n",
      "Time taken to achive result: 299.69625639915466 seconds\n"
     ]
    }
   ],
   "source": [
    "#AdaBoost after PCA\n",
    "start_timeAdaBoostPCA = time.time()\n",
    "modelDecTree = DecisionTreeClassifier(random_state=0, max_depth=2)\n",
    "modelAdaBoost = AdaBoostClassifier(modelDecTree, n_estimators = 1000, random_state = 0, learning_rate = 1)\n",
    "modelAdaBoost.fit(X_train_Reduced, y_train)\n",
    "predictionsAdaBoostPCA = modelAdaBoost.predict(X_test_Reduced)\n",
    "accuracyAdaBoostPCA = metrics.accuracy_score(y_test, predictionsAdaBoostPCA)\n",
    "print(\"Accuracy (AdaBoost): \", accuracyAdaBoostPCA)\n",
    "timeAdaBoostPCA = time.time() - start_timeAdaBoostPCA\n",
    "print(\"Time taken to achive result: %s seconds\" % (timeAdaBoostPCA))"
   ]
  },
  {
   "cell_type": "code",
   "execution_count": 77,
   "metadata": {},
   "outputs": [
    {
     "data": {
      "text/plain": [
       "<AxesSubplot:>"
      ]
     },
     "execution_count": 77,
     "metadata": {},
     "output_type": "execute_result"
    },
    {
     "data": {
      "image/png": "[encoded data removed]",
      "text/plain": [
       "<Figure size 360x288 with 2 Axes>"
      ]
     },
     "metadata": {
      "needs_background": "light"
     },
     "output_type": "display_data"
    }
   ],
   "source": [
    "plt.figure(figsize=(5,4))\n",
    "sns.heatmap(confusion_matrix(y_test, predictionsAdaBoostPCA), cmap = \"Blues\", annot=True, fmt = '.0f')"
   ]
  },
  {
   "cell_type": "code",
   "execution_count": 78,
   "metadata": {},
   "outputs": [
    {
     "name": "stdout",
     "output_type": "stream",
     "text": [
      "              precision    recall  f1-score   support\n",
      "\n",
      "           0       0.91      0.93      0.92      7322\n",
      "           1       0.91      0.89      0.90      5666\n",
      "\n",
      "    accuracy                           0.91     12988\n",
      "   macro avg       0.91      0.91      0.91     12988\n",
      "weighted avg       0.91      0.91      0.91     12988\n",
      "\n"
     ]
    }
   ],
   "source": [
    "print(classification_report(y_test, predictionsAdaBoostPCA))"
   ]
  },
  {
   "cell_type": "markdown",
   "metadata": {},
   "source": [
    "Now, for the two classifiers, we can record their results in the table we created.<br>\n",
    "The results were quite unexpected. We expected the runtime of the program to reduce, as well as the accuracy of the model to drop slightly.<br>\n",
    "We can see that the accuracy, as expected, was reduced, as was the number of dimensions, meaning the PCA algorithm worked. Despite that, the runtime of the classifiers was not reduced (quite the opposite). This, after much scrupulus research, turns out to be due to most of the data being discrete (having a very limited number of unique values for a feature). PCA, when exposed to such data, performs as expected in all regards but runtime, which increases (in our case the runtime was increased to three times the runtime of the program before PCA). Meaning, put plainly, that PCA is meant to be used (if the purpose is to reduce runtime) only on continuous data, or when the number of unique values in each feature is large.<br>\n",
    "Note, that the PCA algorithm is still very useful for discrete data if we want to minimize data size while maximizing accuracy. This is not the case for us, as we wished to reduce runtime."
   ]
  },
  {
   "cell_type": "markdown",
   "metadata": {},
   "source": [
    "As a partial summary, (explained in full in the conclusion and above), we can understand that the best classifier for our needs is the XGBoost. To further improve its performance, we can try to run a Grid Search in order to find the best hyperparameters for the job (Our metric being the accuracy of the model). The Grid Search runs the classifier on all options as specified in \"parameters\" and running cross validation on them, and can return the best option out of all. We choose to check the 2 most important (in my opinion and in many cases) hyperparameters: learning rate and number of estimators (checking more hyperparameters will result in too many iterations of the grid search, increasing the runtime drastically). The Grid Search was run once, its results recorded (and printed below), in order to reduce the overall runtime of the program."
   ]
  },
  {
   "cell_type": "code",
   "execution_count": 1,
   "metadata": {},
   "outputs": [
    {
     "name": "stdout",
     "output_type": "stream",
     "text": [
      "Best Average Accuracy: 0.9648050981375675 when the parameters were: learning_rate: 0.05 and n_estimators: 950\n"
     ]
    }
   ],
   "source": [
    "def GridSearchXGBoost():\n",
    "    paramsXGBoost = {\n",
    "        'learning_rate': [0.02, 0.05, 0.1, 0.2, 0.3, 0.4, 0.5, 0.6, 0.7, 0.8, 0.9, 1],\n",
    "        'n_estimators': list(range(50, 1050, 50))\n",
    "    }\n",
    "    gridSearch = GridSearchCV(modelXGBoost, paramsXGBoost, cv=10, scoring='accuracy')\n",
    "\n",
    "\n",
    "    start_timeGS = time.time()\n",
    "    gridSearch.fit(X_train, y_train)\n",
    "    timeGS = time.time() - start_timeGS\n",
    "    print(\"Time taken to achive result: %s seconds\" % (timeGS))\n",
    "    pd.DataFrame(gridSearch.cv_results_)[['Average score', 'std_test_score', 'params']]\n",
    "\n",
    "    # examine the best model\n",
    "    print(gridSearch.best_score_)\n",
    "    print(gridSearch.best_params_)\n",
    "    \n",
    "\n",
    "#GridSearchXGBoost()\n",
    "\n",
    "    \n",
    "#The results after the run of the function:\n",
    "print(\"Best Average Accuracy: 0.9648050981375675 when the parameters were: learning_rate: 0.05 and n_estimators: 950\")"
   ]
  },
  {
   "cell_type": "markdown",
   "metadata": {},
   "source": [
    "When we run the XGBoost on the found hyperparameters, we can see that the accuracy of the classifier has risen to surpass the accuracy of the most accurate classifier up to this point (Bagging), although the average accuracy when run in the grid search was less. The difference is quite minor, but we can guess that the one run in the grid search is the more accurate (as it was run using cross validation). Again, because the differences are minor, we will not go into deciding which estimation of the classifier is better or more accurate (it is an estimation after all).<br>\n",
    "Still The XGBoost classifier has improved its performance, with the cost of runtime (16 seconds compared to 3 seconds). Whether this difference is significant enough or not to make the changes, there is no definite answer. My personal opinion is that it is."
   ]
  },
  {
   "cell_type": "code",
   "execution_count": 27,
   "metadata": {},
   "outputs": [
    {
     "name": "stdout",
     "output_type": "stream",
     "text": [
      "Accuracy (XGBoost):  0.9659685863874345\n",
      "Time taken to achive result: 89.27826595306396 seconds\n"
     ]
    }
   ],
   "source": [
    "#Improved XGBoost\n",
    "start_timeXGBoostNew = time.time()\n",
    "warnings.filterwarnings('ignore')\n",
    "modelXGBoostNew = XGBClassifier(learning_rate = 0.05, n_estimators = 950, verbosity = 0, use_label_encoder = False, n_jobs = -1)\n",
    "modelXGBoostNew.fit(X_train, y_train)\n",
    "predictionsXGBoostNew = modelXGBoostNew.predict(X_test)\n",
    "accuracyXGBoostNew = metrics.accuracy_score(y_test, predictionsXGBoostNew)\n",
    "print(\"Accuracy (XGBoost): \", accuracyXGBoostNew)\n",
    "timeXGBoostNew = time.time() - start_timeXGBoostNew\n",
    "print(\"Time taken to achive result: %s seconds\" % (timeXGBoostNew))\n",
    "#0.9654296273483215"
   ]
  },
  {
   "cell_type": "code",
   "execution_count": 85,
   "metadata": {},
   "outputs": [
    {
     "data": {
      "text/plain": [
       "<AxesSubplot:>"
      ]
     },
     "execution_count": 85,
     "metadata": {},
     "output_type": "execute_result"
    },
    {
     "data": {
      "image/png": "[encoded data removed]",
      "text/plain": [
       "<Figure size 360x288 with 2 Axes>"
      ]
     },
     "metadata": {
      "needs_background": "light"
     },
     "output_type": "display_data"
    }
   ],
   "source": [
    "plt.figure(figsize=(5,4))\n",
    "sns.heatmap(confusion_matrix(y_test, predictionsXGBoostNew), cmap = \"Blues\", annot=True, fmt = '.0f')"
   ]
  },
  {
   "cell_type": "code",
   "execution_count": 86,
   "metadata": {},
   "outputs": [
    {
     "name": "stdout",
     "output_type": "stream",
     "text": [
      "              precision    recall  f1-score   support\n",
      "\n",
      "           0       0.96      0.98      0.97      7322\n",
      "           1       0.97      0.95      0.96      5666\n",
      "\n",
      "    accuracy                           0.97     12988\n",
      "   macro avg       0.97      0.96      0.97     12988\n",
      "weighted avg       0.97      0.97      0.97     12988\n",
      "\n"
     ]
    }
   ],
   "source": [
    "print(classification_report(y_test, predictionsXGBoostNew))"
   ]
  },
  {
   "cell_type": "code",
   "execution_count": 83,
   "metadata": {},
   "outputs": [
    {
     "data": {
      "text/html": [
       "<style  type=\"text/css\" >\n",
       "#T_30445_row0_col0,#T_30445_row0_col1,#T_30445_row0_col2,#T_30445_row0_col3,#T_30445_row0_col4,#T_30445_row1_col0,#T_30445_row1_col1,#T_30445_row1_col2,#T_30445_row1_col3,#T_30445_row1_col4,#T_30445_row2_col0,#T_30445_row2_col1,#T_30445_row2_col2,#T_30445_row2_col3,#T_30445_row2_col4,#T_30445_row3_col0,#T_30445_row3_col1,#T_30445_row3_col2,#T_30445_row3_col3,#T_30445_row3_col4,#T_30445_row4_col0,#T_30445_row4_col1,#T_30445_row4_col2,#T_30445_row4_col3,#T_30445_row4_col4,#T_30445_row5_col0,#T_30445_row5_col1,#T_30445_row5_col2,#T_30445_row5_col3,#T_30445_row5_col4,#T_30445_row6_col0,#T_30445_row6_col1,#T_30445_row6_col2,#T_30445_row6_col3,#T_30445_row6_col4,#T_30445_row7_col0,#T_30445_row7_col1,#T_30445_row7_col2,#T_30445_row7_col3,#T_30445_row7_col4,#T_30445_row8_col0,#T_30445_row8_col1,#T_30445_row8_col2,#T_30445_row8_col3,#T_30445_row8_col4,#T_30445_row9_col0,#T_30445_row9_col1,#T_30445_row9_col2,#T_30445_row9_col3,#T_30445_row9_col4,#T_30445_row10_col0,#T_30445_row10_col1,#T_30445_row10_col2,#T_30445_row10_col3,#T_30445_row10_col4{\n",
       "            text-align:  left;\n",
       "        }</style><table id=\"T_30445_\" ><thead>    <tr>        <th class=\"blank level0\" ></th>        <th class=\"col_heading level0 col0\" >Model</th>        <th class=\"col_heading level0 col1\" >Accuracy</th>        <th class=\"col_heading level0 col2\" >Runtime (Seconds)</th>        <th class=\"col_heading level0 col3\" >PCA Accuracy</th>        <th class=\"col_heading level0 col4\" >PCA Runtime (Seconds)</th>    </tr></thead><tbody>\n",
       "                <tr>\n",
       "                        <th id=\"T_30445_level0_row0\" class=\"row_heading level0 row0\" >0</th>\n",
       "                        <td id=\"T_30445_row0_col0\" class=\"data row0 col0\" >Dummy</td>\n",
       "                        <td id=\"T_30445_row0_col1\" class=\"data row0 col1\" >0.5637511549122267</td>\n",
       "                        <td id=\"T_30445_row0_col2\" class=\"data row0 col2\" >---</td>\n",
       "                        <td id=\"T_30445_row0_col3\" class=\"data row0 col3\" >---</td>\n",
       "                        <td id=\"T_30445_row0_col4\" class=\"data row0 col4\" >---</td>\n",
       "            </tr>\n",
       "            <tr>\n",
       "                        <th id=\"T_30445_level0_row1\" class=\"row_heading level0 row1\" >1</th>\n",
       "                        <td id=\"T_30445_row1_col0\" class=\"data row1 col0\" >KNN</td>\n",
       "                        <td id=\"T_30445_row1_col1\" class=\"data row1 col1\" >0.9335540498922081</td>\n",
       "                        <td id=\"T_30445_row1_col2\" class=\"data row1 col2\" >---</td>\n",
       "                        <td id=\"T_30445_row1_col3\" class=\"data row1 col3\" >---</td>\n",
       "                        <td id=\"T_30445_row1_col4\" class=\"data row1 col4\" >---</td>\n",
       "            </tr>\n",
       "            <tr>\n",
       "                        <th id=\"T_30445_level0_row2\" class=\"row_heading level0 row2\" >2</th>\n",
       "                        <td id=\"T_30445_row2_col0\" class=\"data row2 col0\" >Logistic Regression</td>\n",
       "                        <td id=\"T_30445_row2_col1\" class=\"data row2 col1\" >0.8728826609177702</td>\n",
       "                        <td id=\"T_30445_row2_col2\" class=\"data row2 col2\" >---</td>\n",
       "                        <td id=\"T_30445_row2_col3\" class=\"data row2 col3\" >---</td>\n",
       "                        <td id=\"T_30445_row2_col4\" class=\"data row2 col4\" >---</td>\n",
       "            </tr>\n",
       "            <tr>\n",
       "                        <th id=\"T_30445_level0_row3\" class=\"row_heading level0 row3\" >3</th>\n",
       "                        <td id=\"T_30445_row3_col0\" class=\"data row3 col0\" >Random Forests</td>\n",
       "                        <td id=\"T_30445_row3_col1\" class=\"data row3 col1\" >0.9634277794887589</td>\n",
       "                        <td id=\"T_30445_row3_col2\" class=\"data row3 col2\" >8.866713523864746</td>\n",
       "                        <td id=\"T_30445_row3_col3\" class=\"data row3 col3\" >---</td>\n",
       "                        <td id=\"T_30445_row3_col4\" class=\"data row3 col4\" >---</td>\n",
       "            </tr>\n",
       "            <tr>\n",
       "                        <th id=\"T_30445_level0_row4\" class=\"row_heading level0 row4\" >4</th>\n",
       "                        <td id=\"T_30445_row4_col0\" class=\"data row4 col0\" >AdaBoost</td>\n",
       "                        <td id=\"T_30445_row4_col1\" class=\"data row4 col1\" >0.9575762242069603</td>\n",
       "                        <td id=\"T_30445_row4_col2\" class=\"data row4 col2\" >105.26763963699341</td>\n",
       "                        <td id=\"T_30445_row4_col3\" class=\"data row4 col3\" >0.9141515244841392</td>\n",
       "                        <td id=\"T_30445_row4_col4\" class=\"data row4 col4\" >299.69625639915466</td>\n",
       "            </tr>\n",
       "            <tr>\n",
       "                        <th id=\"T_30445_level0_row5\" class=\"row_heading level0 row5\" >5</th>\n",
       "                        <td id=\"T_30445_row5_col0\" class=\"data row5 col0\" >XGBoost - before Grid Search</td>\n",
       "                        <td id=\"T_30445_row5_col1\" class=\"data row5 col1\" >0.9655066214967662</td>\n",
       "                        <td id=\"T_30445_row5_col2\" class=\"data row5 col2\" >3.468726396560669</td>\n",
       "                        <td id=\"T_30445_row5_col3\" class=\"data row5 col3\" >0.93032029565753</td>\n",
       "                        <td id=\"T_30445_row5_col4\" class=\"data row5 col4\" >10.491519451141357</td>\n",
       "            </tr>\n",
       "            <tr>\n",
       "                        <th id=\"T_30445_level0_row6\" class=\"row_heading level0 row6\" >6</th>\n",
       "                        <td id=\"T_30445_row6_col0\" class=\"data row6 col0\" >XGBoost - after Grid Search</td>\n",
       "                        <td id=\"T_30445_row6_col1\" class=\"data row6 col1\" >0.9659685863874345</td>\n",
       "                        <td id=\"T_30445_row6_col2\" class=\"data row6 col2\" >15.806080341339111</td>\n",
       "                        <td id=\"T_30445_row6_col3\" class=\"data row6 col3\" >---</td>\n",
       "                        <td id=\"T_30445_row6_col4\" class=\"data row6 col4\" >---</td>\n",
       "            </tr>\n",
       "            <tr>\n",
       "                        <th id=\"T_30445_level0_row7\" class=\"row_heading level0 row7\" >7</th>\n",
       "                        <td id=\"T_30445_row7_col0\" class=\"data row7 col0\" >Voting</td>\n",
       "                        <td id=\"T_30445_row7_col1\" class=\"data row7 col1\" >0.9654296273483215</td>\n",
       "                        <td id=\"T_30445_row7_col2\" class=\"data row7 col2\" >148.0000650882721</td>\n",
       "                        <td id=\"T_30445_row7_col3\" class=\"data row7 col3\" >---</td>\n",
       "                        <td id=\"T_30445_row7_col4\" class=\"data row7 col4\" >---</td>\n",
       "            </tr>\n",
       "            <tr>\n",
       "                        <th id=\"T_30445_level0_row8\" class=\"row_heading level0 row8\" >8</th>\n",
       "                        <td id=\"T_30445_row8_col0\" class=\"data row8 col0\" >Bagging</td>\n",
       "                        <td id=\"T_30445_row8_col1\" class=\"data row8 col1\" >0.9658915922389898</td>\n",
       "                        <td id=\"T_30445_row8_col2\" class=\"data row8 col2\" >360.38956689834595</td>\n",
       "                        <td id=\"T_30445_row8_col3\" class=\"data row8 col3\" >---</td>\n",
       "                        <td id=\"T_30445_row8_col4\" class=\"data row8 col4\" >---</td>\n",
       "            </tr>\n",
       "            <tr>\n",
       "                        <th id=\"T_30445_level0_row9\" class=\"row_heading level0 row9\" >9</th>\n",
       "                        <td id=\"T_30445_row9_col0\" class=\"data row9 col0\" >Pasting</td>\n",
       "                        <td id=\"T_30445_row9_col1\" class=\"data row9 col1\" >0.9655066214967662</td>\n",
       "                        <td id=\"T_30445_row9_col2\" class=\"data row9 col2\" >359.9447295665741</td>\n",
       "                        <td id=\"T_30445_row9_col3\" class=\"data row9 col3\" >---</td>\n",
       "                        <td id=\"T_30445_row9_col4\" class=\"data row9 col4\" >---</td>\n",
       "            </tr>\n",
       "            <tr>\n",
       "                        <th id=\"T_30445_level0_row10\" class=\"row_heading level0 row10\" >10</th>\n",
       "                        <td id=\"T_30445_row10_col0\" class=\"data row10 col0\" >Stacking</td>\n",
       "                        <td id=\"T_30445_row10_col1\" class=\"data row10 col1\" >0.9651986449029873</td>\n",
       "                        <td id=\"T_30445_row10_col2\" class=\"data row10 col2\" >759.5865070819855</td>\n",
       "                        <td id=\"T_30445_row10_col3\" class=\"data row10 col3\" >---</td>\n",
       "                        <td id=\"T_30445_row10_col4\" class=\"data row10 col4\" >---</td>\n",
       "            </tr>\n",
       "    </tbody></table>"
      ],
      "text/plain": [
       "<pandas.io.formats.style.Styler at 0x1b1b3e501f0>"
      ]
     },
     "execution_count": 83,
     "metadata": {},
     "output_type": "execute_result"
    }
   ],
   "source": [
    "results = pd.DataFrame(np.array([['Dummy', accuracyDummy, '---', '---', '---'],\n",
    "                            ['KNN', accuracyKNN, '---', '---', '---'],\n",
    "                            ['Logistic Regression', accuracyLogReg, '---', '---', '---'],\n",
    "                            ['Random Forests', accuracyRandForests, timeRandForests, '---', '---'],\n",
    "                            ['AdaBoost', accuracyAdaBoost, timeAdaBoost, accuracyAdaBoostPCA, timeAdaBoostPCA],\n",
    "                            ['XGBoost - before Grid Search', accuracyXGBoost, timeXGBoost, accuracyXGBoostPCA, timeXGBoostPCA],\n",
    "                            ['XGBoost - after Grid Search', accuracyXGBoostNew, timeXGBoostNew, '---', '---'],\n",
    "                            ['Voting', accuracyVoting, timeVoting, '---', '---'],\n",
    "                            ['Bagging', accuracyBagging, timeBagging, '---', '---'],\n",
    "                            ['Pasting', accuracyPasting, timePasting, '---', '---'],\n",
    "                            ['Stacking', accuracyStacking, timeStacking, '---', '---']]),\n",
    "                  columns=['Model', 'Accuracy', 'Runtime (Seconds)', 'PCA Accuracy', 'PCA Runtime (Seconds)'])\n",
    "resultsView = results.style.set_properties(**{'text-align': 'left'})\n",
    "resultsView"
   ]
  },
  {
   "cell_type": "markdown",
   "metadata": {},
   "source": [
    "Below is the same table from above sorted by the accuracies of the models."
   ]
  },
  {
   "cell_type": "code",
   "execution_count": 84,
   "metadata": {},
   "outputs": [
    {
     "data": {
      "text/html": [
       "<style  type=\"text/css\" >\n",
       "#T_d33d4_row0_col0,#T_d33d4_row0_col1,#T_d33d4_row0_col2,#T_d33d4_row0_col3,#T_d33d4_row0_col4,#T_d33d4_row1_col0,#T_d33d4_row1_col1,#T_d33d4_row1_col2,#T_d33d4_row1_col3,#T_d33d4_row1_col4,#T_d33d4_row2_col0,#T_d33d4_row2_col1,#T_d33d4_row2_col2,#T_d33d4_row2_col3,#T_d33d4_row2_col4,#T_d33d4_row3_col0,#T_d33d4_row3_col1,#T_d33d4_row3_col2,#T_d33d4_row3_col3,#T_d33d4_row3_col4,#T_d33d4_row4_col0,#T_d33d4_row4_col1,#T_d33d4_row4_col2,#T_d33d4_row4_col3,#T_d33d4_row4_col4,#T_d33d4_row5_col0,#T_d33d4_row5_col1,#T_d33d4_row5_col2,#T_d33d4_row5_col3,#T_d33d4_row5_col4,#T_d33d4_row6_col0,#T_d33d4_row6_col1,#T_d33d4_row6_col2,#T_d33d4_row6_col3,#T_d33d4_row6_col4,#T_d33d4_row7_col0,#T_d33d4_row7_col1,#T_d33d4_row7_col2,#T_d33d4_row7_col3,#T_d33d4_row7_col4,#T_d33d4_row8_col0,#T_d33d4_row8_col1,#T_d33d4_row8_col2,#T_d33d4_row8_col3,#T_d33d4_row8_col4,#T_d33d4_row9_col0,#T_d33d4_row9_col1,#T_d33d4_row9_col2,#T_d33d4_row9_col3,#T_d33d4_row9_col4,#T_d33d4_row10_col0,#T_d33d4_row10_col1,#T_d33d4_row10_col2,#T_d33d4_row10_col3,#T_d33d4_row10_col4{\n",
       "            text-align:  left;\n",
       "        }</style><table id=\"T_d33d4_\" ><thead>    <tr>        <th class=\"blank level0\" ></th>        <th class=\"col_heading level0 col0\" >Model</th>        <th class=\"col_heading level0 col1\" >Accuracy</th>        <th class=\"col_heading level0 col2\" >Runtime (Seconds)</th>        <th class=\"col_heading level0 col3\" >PCA Accuracy</th>        <th class=\"col_heading level0 col4\" >PCA Runtime (Seconds)</th>    </tr></thead><tbody>\n",
       "                <tr>\n",
       "                        <th id=\"T_d33d4_level0_row0\" class=\"row_heading level0 row0\" >6</th>\n",
       "                        <td id=\"T_d33d4_row0_col0\" class=\"data row0 col0\" >XGBoost - after Grid Search</td>\n",
       "                        <td id=\"T_d33d4_row0_col1\" class=\"data row0 col1\" >0.9659685863874345</td>\n",
       "                        <td id=\"T_d33d4_row0_col2\" class=\"data row0 col2\" >15.806080341339111</td>\n",
       "                        <td id=\"T_d33d4_row0_col3\" class=\"data row0 col3\" >---</td>\n",
       "                        <td id=\"T_d33d4_row0_col4\" class=\"data row0 col4\" >---</td>\n",
       "            </tr>\n",
       "            <tr>\n",
       "                        <th id=\"T_d33d4_level0_row1\" class=\"row_heading level0 row1\" >8</th>\n",
       "                        <td id=\"T_d33d4_row1_col0\" class=\"data row1 col0\" >Bagging</td>\n",
       "                        <td id=\"T_d33d4_row1_col1\" class=\"data row1 col1\" >0.9658915922389898</td>\n",
       "                        <td id=\"T_d33d4_row1_col2\" class=\"data row1 col2\" >360.38956689834595</td>\n",
       "                        <td id=\"T_d33d4_row1_col3\" class=\"data row1 col3\" >---</td>\n",
       "                        <td id=\"T_d33d4_row1_col4\" class=\"data row1 col4\" >---</td>\n",
       "            </tr>\n",
       "            <tr>\n",
       "                        <th id=\"T_d33d4_level0_row2\" class=\"row_heading level0 row2\" >5</th>\n",
       "                        <td id=\"T_d33d4_row2_col0\" class=\"data row2 col0\" >XGBoost - before Grid Search</td>\n",
       "                        <td id=\"T_d33d4_row2_col1\" class=\"data row2 col1\" >0.9655066214967662</td>\n",
       "                        <td id=\"T_d33d4_row2_col2\" class=\"data row2 col2\" >3.468726396560669</td>\n",
       "                        <td id=\"T_d33d4_row2_col3\" class=\"data row2 col3\" >0.93032029565753</td>\n",
       "                        <td id=\"T_d33d4_row2_col4\" class=\"data row2 col4\" >10.491519451141357</td>\n",
       "            </tr>\n",
       "            <tr>\n",
       "                        <th id=\"T_d33d4_level0_row3\" class=\"row_heading level0 row3\" >9</th>\n",
       "                        <td id=\"T_d33d4_row3_col0\" class=\"data row3 col0\" >Pasting</td>\n",
       "                        <td id=\"T_d33d4_row3_col1\" class=\"data row3 col1\" >0.9655066214967662</td>\n",
       "                        <td id=\"T_d33d4_row3_col2\" class=\"data row3 col2\" >359.9447295665741</td>\n",
       "                        <td id=\"T_d33d4_row3_col3\" class=\"data row3 col3\" >---</td>\n",
       "                        <td id=\"T_d33d4_row3_col4\" class=\"data row3 col4\" >---</td>\n",
       "            </tr>\n",
       "            <tr>\n",
       "                        <th id=\"T_d33d4_level0_row4\" class=\"row_heading level0 row4\" >7</th>\n",
       "                        <td id=\"T_d33d4_row4_col0\" class=\"data row4 col0\" >Voting</td>\n",
       "                        <td id=\"T_d33d4_row4_col1\" class=\"data row4 col1\" >0.9654296273483215</td>\n",
       "                        <td id=\"T_d33d4_row4_col2\" class=\"data row4 col2\" >148.0000650882721</td>\n",
       "                        <td id=\"T_d33d4_row4_col3\" class=\"data row4 col3\" >---</td>\n",
       "                        <td id=\"T_d33d4_row4_col4\" class=\"data row4 col4\" >---</td>\n",
       "            </tr>\n",
       "            <tr>\n",
       "                        <th id=\"T_d33d4_level0_row5\" class=\"row_heading level0 row5\" >10</th>\n",
       "                        <td id=\"T_d33d4_row5_col0\" class=\"data row5 col0\" >Stacking</td>\n",
       "                        <td id=\"T_d33d4_row5_col1\" class=\"data row5 col1\" >0.9651986449029873</td>\n",
       "                        <td id=\"T_d33d4_row5_col2\" class=\"data row5 col2\" >759.5865070819855</td>\n",
       "                        <td id=\"T_d33d4_row5_col3\" class=\"data row5 col3\" >---</td>\n",
       "                        <td id=\"T_d33d4_row5_col4\" class=\"data row5 col4\" >---</td>\n",
       "            </tr>\n",
       "            <tr>\n",
       "                        <th id=\"T_d33d4_level0_row6\" class=\"row_heading level0 row6\" >3</th>\n",
       "                        <td id=\"T_d33d4_row6_col0\" class=\"data row6 col0\" >Random Forests</td>\n",
       "                        <td id=\"T_d33d4_row6_col1\" class=\"data row6 col1\" >0.9634277794887589</td>\n",
       "                        <td id=\"T_d33d4_row6_col2\" class=\"data row6 col2\" >8.866713523864746</td>\n",
       "                        <td id=\"T_d33d4_row6_col3\" class=\"data row6 col3\" >---</td>\n",
       "                        <td id=\"T_d33d4_row6_col4\" class=\"data row6 col4\" >---</td>\n",
       "            </tr>\n",
       "            <tr>\n",
       "                        <th id=\"T_d33d4_level0_row7\" class=\"row_heading level0 row7\" >4</th>\n",
       "                        <td id=\"T_d33d4_row7_col0\" class=\"data row7 col0\" >AdaBoost</td>\n",
       "                        <td id=\"T_d33d4_row7_col1\" class=\"data row7 col1\" >0.9575762242069603</td>\n",
       "                        <td id=\"T_d33d4_row7_col2\" class=\"data row7 col2\" >105.26763963699341</td>\n",
       "                        <td id=\"T_d33d4_row7_col3\" class=\"data row7 col3\" >0.9141515244841392</td>\n",
       "                        <td id=\"T_d33d4_row7_col4\" class=\"data row7 col4\" >299.69625639915466</td>\n",
       "            </tr>\n",
       "            <tr>\n",
       "                        <th id=\"T_d33d4_level0_row8\" class=\"row_heading level0 row8\" >1</th>\n",
       "                        <td id=\"T_d33d4_row8_col0\" class=\"data row8 col0\" >KNN</td>\n",
       "                        <td id=\"T_d33d4_row8_col1\" class=\"data row8 col1\" >0.9335540498922081</td>\n",
       "                        <td id=\"T_d33d4_row8_col2\" class=\"data row8 col2\" >---</td>\n",
       "                        <td id=\"T_d33d4_row8_col3\" class=\"data row8 col3\" >---</td>\n",
       "                        <td id=\"T_d33d4_row8_col4\" class=\"data row8 col4\" >---</td>\n",
       "            </tr>\n",
       "            <tr>\n",
       "                        <th id=\"T_d33d4_level0_row9\" class=\"row_heading level0 row9\" >2</th>\n",
       "                        <td id=\"T_d33d4_row9_col0\" class=\"data row9 col0\" >Logistic Regression</td>\n",
       "                        <td id=\"T_d33d4_row9_col1\" class=\"data row9 col1\" >0.8728826609177702</td>\n",
       "                        <td id=\"T_d33d4_row9_col2\" class=\"data row9 col2\" >---</td>\n",
       "                        <td id=\"T_d33d4_row9_col3\" class=\"data row9 col3\" >---</td>\n",
       "                        <td id=\"T_d33d4_row9_col4\" class=\"data row9 col4\" >---</td>\n",
       "            </tr>\n",
       "            <tr>\n",
       "                        <th id=\"T_d33d4_level0_row10\" class=\"row_heading level0 row10\" >0</th>\n",
       "                        <td id=\"T_d33d4_row10_col0\" class=\"data row10 col0\" >Dummy</td>\n",
       "                        <td id=\"T_d33d4_row10_col1\" class=\"data row10 col1\" >0.5637511549122267</td>\n",
       "                        <td id=\"T_d33d4_row10_col2\" class=\"data row10 col2\" >---</td>\n",
       "                        <td id=\"T_d33d4_row10_col3\" class=\"data row10 col3\" >---</td>\n",
       "                        <td id=\"T_d33d4_row10_col4\" class=\"data row10 col4\" >---</td>\n",
       "            </tr>\n",
       "    </tbody></table>"
      ],
      "text/plain": [
       "<pandas.io.formats.style.Styler at 0x1b1b3e50190>"
      ]
     },
     "execution_count": 84,
     "metadata": {},
     "output_type": "execute_result"
    }
   ],
   "source": [
    "results = results.sort_values(by = 'Accuracy', axis = 0, ascending = False)\n",
    "resultsView = results.style.set_properties(**{'text-align': 'left'})\n",
    "resultsView"
   ]
  },
  {
   "cell_type": "markdown",
   "metadata": {},
   "source": [
    "### Conclusion"
   ]
  },
  {
   "cell_type": "markdown",
   "metadata": {},
   "source": [
    "Throughout the data and the notebook, we have tried to find the best model for our data, with the objectives to optimize accuracy and runtime as best we can. We have tried many models, the results of which are displayed above. Due to the PCA not improving the performance of the models with our objectives in mind, we can conclude that the XGBoost classifier with the correced hyperparameters after Grid Search is the best classifier we have reviewed, although the original XGBoost may also be considered best.<br>\n",
    "\n",
    "Moreover, we can determine that the Confusion Matrices presented throughout the notebook have determined that, considering the data was not equally balaced to begin with, the classifiers are not biased (roughly the same percentage of errors for both classes).\n",
    "\n",
    "Comparing to the work of the last semeste, we have managed to increase the accuracy of our classifiers by roughly 3% (from 0.93 to 0.96) with the use of ensemble learning.\n",
    "\n",
    "If our objective was to use the most accurate model, with no regard to runtime, the best model would have been undoubtedly the Bagging classifier or the XGBoost Classifier with the corrected hyperparameters (to answer definitively requires more research and the difference is extremely minor).<br>\n",
    "\n",
    "If our objective was to optimize the data for data size and any combination of accuracy and runtime, extensive calculations, and trials with the use of PCA would have had to have been performed (were not performed in this notebook).<br>\n",
    "\n",
    "As mentioned before, this notebook was done mostly for educational purposes, with all aspects and all classifiers shown and explained fully. Generally, a classifier will be chosen according to the needs and the limitations of the project and hardware."
   ]
  },
  {
   "cell_type": "code",
   "execution_count": null,
   "metadata": {},
   "outputs": [],
   "source": []
  }
 ],
 "metadata": {
  "kernelspec": {
   "display_name": "Python 3",
   "language": "python",
   "name": "python3"
  },
  "language_info": {
   "codemirror_mode": {
    "name": "ipython",
    "version": 3
   },
   "file_extension": ".py",
   "mimetype": "text/x-python",
   "name": "python",
   "nbconvert_exporter": "python",
   "pygments_lexer": "ipython3",
   "version": "3.8.8"
  }
 },
 "nbformat": 4,
 "nbformat_minor": 4
}
