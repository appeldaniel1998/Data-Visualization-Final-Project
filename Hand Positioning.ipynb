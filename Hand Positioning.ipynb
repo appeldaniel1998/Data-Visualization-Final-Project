{
 "cells": [
  {
   "cell_type": "code",
   "execution_count": 1,
   "id": "eeebe7c3",
   "metadata": {},
   "outputs": [],
   "source": [
    "#Relevant imports\n",
    "import os\n",
    "import cv2\n",
    "import matplotlib.pyplot as plt\n",
    "%matplotlib inline\n",
    "import random\n",
    "import numpy as np\n",
    "import pandas as pd\n",
    "from sklearn.model_selection import train_test_split\n",
    "from sklearn.preprocessing import MinMaxScaler\n",
    "from sklearn.decomposition import PCA\n",
    "from xgboost import XGBClassifier\n",
    "import time\n",
    "from sklearn import metrics\n",
    "import warnings\n",
    "from sklearn.metrics import mean_squared_error\n",
    "from sklearn.metrics import r2_score\n",
    "from sklearn.dummy import DummyClassifier\n",
    "from sklearn.neighbors import KNeighborsClassifier\n",
    "from sklearn.linear_model import LogisticRegression\n",
    "from sklearn.ensemble import RandomForestClassifier\n",
    "from sklearn.ensemble import AdaBoostClassifier\n",
    "from sklearn.tree import DecisionTreeClassifier\n",
    "from sklearn.ensemble import VotingClassifier\n",
    "from sklearn.ensemble import BaggingClassifier\n",
    "from sklearn.ensemble import StackingClassifier\n",
    "import seaborn as sns\n",
    "from sklearn.metrics import classification_report\n",
    "from sklearn.metrics import confusion_matrix"
   ]
  },
  {
   "cell_type": "code",
   "execution_count": 100,
   "id": "df990672",
   "metadata": {},
   "outputs": [],
   "source": [
    "sub1Spont1 = pd.read_csv('Data/Hand Positioning/Training/Evyatar Cohen/Evyatar636771050011691836Spontan.csv')\n",
    "sub1Sync1 = pd.read_csv('Data/Hand Positioning/Training/Evyatar Cohen/Evyatar636771050902934708Sync.csv')\n",
    "sub1Alone1 = pd.read_csv('Data/Hand Positioning/Training/Evyatar Cohen/Evyatar636771051823980826Alone.csv')\n",
    "sub1Spont2 = pd.read_csv('Data/Hand Positioning/Training/Evyatar Cohen/Evyatar636771052727603804Spontan.csv')\n",
    "sub1Sync2 = pd.read_csv('Data/Hand Positioning/Training/Evyatar Cohen/Evyatar636771053639929594Sync.csv')\n",
    "sub1Alone2 = pd.read_csv('Data/Hand Positioning/Training/Evyatar Cohen/Evyatar636771054555711409Alone.csv')\n",
    "\n",
    "sub2Spont1 = pd.read_csv('Data/Hand Positioning/Training/Nofar Social_Nuero/Nofar636759792183061005Spontan.csv')\n",
    "sub2Sync1 = pd.read_csv('Data/Hand Positioning/Training/Nofar Social_Nuero/Nofar636759794200223541Sync.csv')\n",
    "sub2Alone1 = pd.read_csv('Data/Hand Positioning/Training/Nofar Social_Nuero/Nofar636759793193137655Alone.csv')\n",
    "sub2Spont2 = pd.read_csv('Data/Hand Positioning/Training/Nofar Social_Nuero/Nofar636759795182793299Spontan.csv')\n",
    "sub2Sync2 = pd.read_csv('Data/Hand Positioning/Training/Nofar Social_Nuero/Nofar636759797397919664Sync.csv')\n",
    "sub2Alone2 = pd.read_csv('Data/Hand Positioning/Training/Nofar Social_Nuero/Nofar636759796290435160Alone.csv')\n",
    "\n",
    "sub3Spont1 = pd.read_csv('Data/Hand Positioning/Training/Oriya Social_Nuero/Oriya636759799659227614Spontan.csv')\n",
    "sub3Sync1 = pd.read_csv('Data/Hand Positioning/Training/Oriya Social_Nuero/Oriya636759803164759865Sync.csv')\n",
    "sub3Alone1 = pd.read_csv('Data/Hand Positioning/Training/Oriya Social_Nuero/Oriya636759800632839612Alone.csv')\n",
    "sub3Spont2 = pd.read_csv('Data/Hand Positioning/Training/Oriya Social_Nuero/Oriya636759804404113837Spontan.csv')\n",
    "sub3Sync2 = pd.read_csv('Data/Hand Positioning/Training/Oriya Social_Nuero/Oriya636759806131350399Sync.csv')\n",
    "sub3Alone2 = pd.read_csv('Data/Hand Positioning/Training/Oriya Social_Nuero/Oriya636759801991504932Alone.csv')\n",
    "sub3Alone3 = pd.read_csv('Data/Hand Positioning/Training/Oriya Social_Nuero/Oriya636759805268396661Alone.csv')\n",
    "\n",
    "sub4Spont1 = pd.read_csv('Data/Hand Positioning/Training/Orya Kalmanovitz/OryaB636771080972009775Spontan.csv')\n",
    "sub4Sync1 = pd.read_csv('Data/Hand Positioning/Training/Orya Kalmanovitz/OryaB636771081904052624Sync.csv')\n",
    "sub4Alone1 = pd.read_csv('Data/Hand Positioning/Training/Orya Kalmanovitz/OryaB636771082736601528Alone.csv')\n",
    "sub4Spont2 = pd.read_csv('Data/Hand Positioning/Training/Orya Kalmanovitz/OryaB636771083605535985Spontan.csv')\n",
    "sub4Sync2 = pd.read_csv('Data/Hand Positioning/Training/Orya Kalmanovitz/OryaB636771084494502229Sync.csv')\n",
    "\n",
    "sub5Spont1 = pd.read_csv('Data/Hand Positioning/Training/Revital Marbel/Revital636770953887274261Spontan.csv')\n",
    "sub5Sync1 = pd.read_csv('Data/Hand Positioning/Training/Revital Marbel/Revital636770954952844556Sync.csv')\n",
    "sub5Alone1 = pd.read_csv('Data/Hand Positioning/Training/Revital Marbel/Revital636770955999435879Alone.csv')\n",
    "sub5Spont2 = pd.read_csv('Data/Hand Positioning/Training/Revital Marbel/Revital636770957038873193Spontan.csv')\n",
    "sub5Sync2 = pd.read_csv('Data/Hand Positioning/Training/Revital Marbel/Revital636770957894370062Sync.csv')\n",
    "\n",
    "sub6Spont1 = pd.read_csv('Data/Hand Positioning/Training/Shahar Terner/Sachar636771045591258071Spontan.csv')\n",
    "sub6Sync1 = pd.read_csv('Data/Hand Positioning/Training/Shahar Terner/Sachar636771046527112972Sync.csv')\n",
    "sub6Alone1 = pd.read_csv('Data/Hand Positioning/Training/Shahar Terner/Sachar636771047408504303Alone.csv')\n",
    "\n",
    "sub7Spont1 = pd.read_csv('Data/Hand Positioning/Training/Shelly Social_Nuero/Shelly636759784020992272Spontan.csv')\n",
    "sub7Sync1 = pd.read_csv('Data/Hand Positioning/Training/Shelly Social_Nuero/Shelly636759786470414550Sync.csv')\n",
    "sub7Alone1 = pd.read_csv('Data/Hand Positioning/Training/Shelly Social_Nuero/Shelly636759785254377607Alone.csv')\n",
    "sub7Spont2 = pd.read_csv('Data/Hand Positioning/Training/Shelly Social_Nuero/Shelly636759787508979097Spontan.csv')\n",
    "sub7Sync2 = pd.read_csv('Data/Hand Positioning/Training/Shelly Social_Nuero/Shelly636759789526313406Sync.csv')\n",
    "sub7Alone2 = pd.read_csv('Data/Hand Positioning/Training/Shelly Social_Nuero/Shelly636759788383205274Alone.csv')\n",
    "\n",
    "sub8Spont1 = pd.read_csv('Data/Hand Positioning/Training/Yael Hagai/Yael636771059544754823Spontan.csv')\n",
    "sub8Sync1 = pd.read_csv('Data/Hand Positioning/Training/Yael Hagai/Yael636771060699529085Sync.csv')\n",
    "sub8Alone1 = pd.read_csv('Data/Hand Positioning/Training/Yael Hagai/Yael636771061659067649Alone.csv')\n",
    "\n",
    "sub9Spont1 = pd.read_csv('Data/Hand Positioning/Training/Yoel Raz/Yoel636760918326775654Spontan.csv')\n",
    "sub9Sync1 = pd.read_csv('Data/Hand Positioning/Training/Yoel Raz/Yoel636760920526441748Sync.csv')\n",
    "sub9Alone1 = pd.read_csv('Data/Hand Positioning/Training/Yoel Raz/Yoel636760919215510154Alone.csv')\n",
    "sub9Spont2 = pd.read_csv('Data/Hand Positioning/Training/Yoel Raz/Yoel636760921663075813Spontan.csv')\n",
    "sub9Sync2 = pd.read_csv('Data/Hand Positioning/Training/Yoel Raz/Yoel636760923490742912Sync.csv')\n",
    "sub9Alone2 = pd.read_csv('Data/Hand Positioning/Training/Yoel Raz/Yoel636760922573364655Alone.csv')\n",
    "#47 dataframes\n",
    "\n",
    "handRight = pd.read_csv('Data/Hand Positioning/HandRight.csv')"
   ]
  },
  {
   "cell_type": "code",
   "execution_count": 101,
   "id": "014ef5e9",
   "metadata": {},
   "outputs": [
    {
     "name": "stdout",
     "output_type": "stream",
     "text": [
      "47\n"
     ]
    }
   ],
   "source": [
    "aloneList = [sub1Alone1, sub1Alone2, sub2Alone1, sub2Alone2, sub3Alone1, sub3Alone2, sub3Alone3, sub4Alone1,\n",
    "             sub5Alone1, sub6Alone1, sub7Alone1, sub7Alone2, sub8Alone1, sub9Alone1, sub9Alone2]\n",
    "syncList = [sub1Sync1, sub1Sync2, sub2Sync1, sub2Sync2, sub3Sync1, sub3Sync2, sub4Sync1, sub4Sync2, sub5Sync1,\n",
    "            sub5Sync2, sub6Sync1, sub7Sync1, sub7Sync2, sub8Sync1, sub9Sync1, sub9Sync2]\n",
    "spontList = [sub1Spont1, sub1Spont2, sub2Spont1, sub2Spont2, sub3Spont1, sub3Spont2, sub4Spont1, sub4Spont2, sub5Spont1,\n",
    "             sub5Spont2, sub6Spont1, sub7Spont1, sub7Spont2, sub8Spont1, sub9Spont1, sub9Spont2]\n",
    "totalList = aloneList + syncList + spontList\n",
    "print (len(aloneList) + len(syncList) + len(spontList))"
   ]
  },
  {
   "cell_type": "code",
   "execution_count": 102,
   "id": "7759542a",
   "metadata": {},
   "outputs": [
    {
     "data": {
      "text/plain": [
       "0"
      ]
     },
     "execution_count": 102,
     "metadata": {},
     "output_type": "execute_result"
    }
   ],
   "source": [
    "sum = 0\n",
    "for i in range(len(totalList)):\n",
    "    sum += totalList[i].isna().sum().sum()\n",
    "    \n",
    "sum"
   ]
  },
  {
   "cell_type": "code",
   "execution_count": 103,
   "id": "e14fea4f",
   "metadata": {},
   "outputs": [],
   "source": [
    "for i in range(len(totalList)):\n",
    "    totalList[i].columns = totalList[i].columns.str.replace(' ', '')\n",
    "for i in range(len(aloneList)):\n",
    "    aloneList[i].columns = aloneList[i].columns.str.replace(' ', '')\n",
    "for i in range(len(syncList)):\n",
    "    syncList[i].columns = syncList[i].columns.str.replace(' ', '')\n",
    "for i in range(len(spontList)):\n",
    "    spontList[i].columns = spontList[i].columns.str.replace(' ', '')\n",
    "    \n",
    "handRight.columns = spontList[i].columns.str.replace(' ', '')"
   ]
  },
  {
   "cell_type": "code",
   "execution_count": 104,
   "id": "566ab973",
   "metadata": {},
   "outputs": [],
   "source": [
    "def mergeAloneWithRightHand(df):\n",
    "    handRightBigger = handRight\n",
    "    while (len(handRightBigger) < len(df)):\n",
    "        handRightBigger = pd.concat([handRightBigger, handRightBigger], ignore_index = True)\n",
    "    numToDrop = len(handRightBigger) - len(df)\n",
    "    handRightBigger.drop(handRightBigger.tail(numToDrop).index, inplace = True)\n",
    "    df = pd.concat([df, handRight]).sort_index(kind='merge')\n",
    "    df = df.reset_index()\n",
    "    df = df.drop(['index'], axis = 1)\n",
    "    return df\n",
    "\n",
    "for i in range(len(AloneList)):\n",
    "    aloneList[i] = mergeAloneWithRightHand(AloneList[i])"
   ]
  },
  {
   "cell_type": "code",
   "execution_count": 115,
   "id": "e0e9248a",
   "metadata": {},
   "outputs": [
    {
     "name": "stdout",
     "output_type": "stream",
     "text": [
      "0\n",
      "0\n"
     ]
    }
   ],
   "source": [
    "df = syncList[0]\n",
    "df = df.loc[df['#hands'] != 2]\n",
    "for i in range(len(syncList)):\n",
    "    df = pd.concat([df, syncList[i].loc[syncList[i]['#hands'] == 0]], ignore_index = True)\n",
    "print(len(df))\n",
    "\n",
    "df = spontList[0]\n",
    "df = df.loc[df['#hands'] != 2]\n",
    "for i in range(len(spontList)):\n",
    "    df = pd.concat([df, spontList[i].loc[spontList[i]['#hands'] == 0]], ignore_index = True)\n",
    "print(len(df))\n",
    "\n",
    "\n",
    "#No place where the program recognized only 1 hand instead of 2\n"
   ]
  },
  {
   "cell_type": "code",
   "execution_count": null,
   "id": "093ec101",
   "metadata": {},
   "outputs": [],
   "source": []
  },
  {
   "cell_type": "code",
   "execution_count": null,
   "id": "fb59bc05",
   "metadata": {},
   "outputs": [],
   "source": []
  },
  {
   "cell_type": "code",
   "execution_count": null,
   "id": "c5c73626",
   "metadata": {},
   "outputs": [],
   "source": []
  },
  {
   "cell_type": "code",
   "execution_count": null,
   "id": "6a834e06",
   "metadata": {},
   "outputs": [],
   "source": []
  }
 ],
 "metadata": {
  "kernelspec": {
   "display_name": "Python 3",
   "language": "python",
   "name": "python3"
  },
  "language_info": {
   "codemirror_mode": {
    "name": "ipython",
    "version": 3
   },
   "file_extension": ".py",
   "mimetype": "text/x-python",
   "name": "python",
   "nbconvert_exporter": "python",
   "pygments_lexer": "ipython3",
   "version": "3.8.8"
  }
 },
 "nbformat": 4,
 "nbformat_minor": 5
}
